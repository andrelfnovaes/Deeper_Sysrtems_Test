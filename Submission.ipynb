{
 "cells": [
  {
   "cell_type": "code",
   "execution_count": 2,
   "metadata": {},
   "outputs": [
    {
     "name": "stderr",
     "output_type": "stream",
     "text": [
      "Using TensorFlow backend.\n"
     ]
    }
   ],
   "source": [
    "# Importing libraries\n",
    "\n",
    "import numpy as np\n",
    "import pandas as pd\n",
    "import matplotlib.pyplot as plt\n",
    "\n",
    "from os import listdir\n",
    "from os.path import isfile, join\n",
    "\n",
    "import keras\n",
    "from keras.models import Sequential\n",
    "from keras.layers import Dense, Dropout, Flatten\n",
    "from keras.layers import Conv2D, MaxPooling2D\n",
    "from keras.utils import to_categorical\n",
    "from keras.preprocessing import image\n",
    "from keras.utils import to_categorical\n",
    "\n",
    "from sklearn.model_selection import train_test_split\n",
    "\n",
    "from tqdm import tqdm\n",
    "\n",
    "import PIL"
   ]
  },
  {
   "cell_type": "code",
   "execution_count": 3,
   "metadata": {},
   "outputs": [],
   "source": [
    "# Read train.truth.csv\n",
    "\n",
    "train = pd.read_csv('train.truth.csv')"
   ]
  },
  {
   "cell_type": "code",
   "execution_count": 4,
   "metadata": {
    "scrolled": true
   },
   "outputs": [
    {
     "name": "stderr",
     "output_type": "stream",
     "text": [
      "  0%|                                                                                        | 0/48896 [00:00<?, ?it/s]C:\\Users\\andre\\Anaconda3\\lib\\site-packages\\keras_preprocessing\\image\\utils.py:98: UserWarning: grayscale is deprecated. Please use color_mode = \"grayscale\"\n",
      "  warnings.warn('grayscale is deprecated. Please use '\n",
      "100%|███████████████████████████████████████████████████████████████████████████| 48896/48896 [00:55<00:00, 881.54it/s]\n"
     ]
    }
   ],
   "source": [
    "# Importing Train Dataset (images)\n",
    "\n",
    "train_image = []\n",
    "for i in tqdm(range(train.shape[0])):\n",
    "    img = image.load_img('C:/Users/andre/OneDrive/Ambiente de Trabalho/Data Science/Deeper Systems/train.rotfaces/train/'+train['fn'][i], target_size=(64,64,1), grayscale=True)\n",
    "    img = image.img_to_array(img)\n",
    "    img = img/255\n",
    "    train_image.append(img)\n",
    "X = np.array(train_image)"
   ]
  },
  {
   "cell_type": "code",
   "execution_count": 5,
   "metadata": {},
   "outputs": [],
   "source": [
    "# Labels\n",
    "\n",
    "y = train['label'].values"
   ]
  },
  {
   "cell_type": "code",
   "execution_count": 6,
   "metadata": {},
   "outputs": [],
   "source": [
    "# Function modify, to change labels from strings to numbers\n",
    "\n",
    "def modify(label):\n",
    "    if label == 'rotated_left':\n",
    "        label = 0\n",
    "    elif label == 'rotated_right':\n",
    "        label = 1\n",
    "    elif label == 'upside_down':\n",
    "        label = 2\n",
    "    elif label == 'upright':\n",
    "        label = 3\n",
    "    return label"
   ]
  },
  {
   "cell_type": "code",
   "execution_count": 7,
   "metadata": {},
   "outputs": [],
   "source": [
    "f_modify = np.vectorize(modify)"
   ]
  },
  {
   "cell_type": "code",
   "execution_count": 8,
   "metadata": {},
   "outputs": [],
   "source": [
    "# Applying function modify\n",
    "\n",
    "y = f_modify(y)"
   ]
  },
  {
   "cell_type": "code",
   "execution_count": 9,
   "metadata": {},
   "outputs": [],
   "source": [
    "# y in correct format for training in NN (Neural Network)\n",
    "\n",
    "y = to_categorical(y, num_classes = 4)"
   ]
  },
  {
   "cell_type": "code",
   "execution_count": 10,
   "metadata": {},
   "outputs": [],
   "source": [
    "# Spliting the Train Dataset in 2 parts: training and validation\n",
    "\n",
    "X_train, X_test, y_train, y_test = train_test_split(X, y, random_state=42, test_size=0.2)"
   ]
  },
  {
   "cell_type": "code",
   "execution_count": 11,
   "metadata": {},
   "outputs": [
    {
     "name": "stdout",
     "output_type": "stream",
     "text": [
      "WARNING:tensorflow:From C:\\Users\\andre\\Anaconda3\\lib\\site-packages\\tensorflow\\python\\framework\\op_def_library.py:263: colocate_with (from tensorflow.python.framework.ops) is deprecated and will be removed in a future version.\n",
      "Instructions for updating:\n",
      "Colocations handled automatically by placer.\n",
      "WARNING:tensorflow:From C:\\Users\\andre\\Anaconda3\\lib\\site-packages\\keras\\backend\\tensorflow_backend.py:3445: calling dropout (from tensorflow.python.ops.nn_ops) with keep_prob is deprecated and will be removed in a future version.\n",
      "Instructions for updating:\n",
      "Please use `rate` instead of `keep_prob`. Rate should be set to `rate = 1 - keep_prob`.\n"
     ]
    }
   ],
   "source": [
    "# Model parametrization\n",
    "\n",
    "model = Sequential()\n",
    "model.add(Conv2D(32, kernel_size=(3, 3),activation='relu',input_shape=(64,64,1)))\n",
    "model.add(Conv2D(64, (3, 3), activation='relu'))\n",
    "model.add(MaxPooling2D(pool_size=(2, 2)))\n",
    "model.add(Dropout(0.25))\n",
    "model.add(Flatten())\n",
    "model.add(Dense(128, activation='relu'))\n",
    "model.add(Dropout(0.5))\n",
    "model.add(Dense(4, activation='softmax'))"
   ]
  },
  {
   "cell_type": "code",
   "execution_count": 12,
   "metadata": {},
   "outputs": [],
   "source": [
    "model.compile(loss='categorical_crossentropy',optimizer='Adam',metrics=['accuracy'])"
   ]
  },
  {
   "cell_type": "code",
   "execution_count": 13,
   "metadata": {
    "scrolled": true
   },
   "outputs": [
    {
     "name": "stdout",
     "output_type": "stream",
     "text": [
      "WARNING:tensorflow:From C:\\Users\\andre\\Anaconda3\\lib\\site-packages\\tensorflow\\python\\ops\\math_ops.py:3066: to_int32 (from tensorflow.python.ops.math_ops) is deprecated and will be removed in a future version.\n",
      "Instructions for updating:\n",
      "Use tf.cast instead.\n",
      "Train on 39116 samples, validate on 9780 samples\n",
      "Epoch 1/1\n"
     ]
    },
    {
     "name": "stdout",
     "output_type": "stream",
     "text": [
      " 6528/39116 [====>.........................] - ETA: 54:14 - loss: 1.3679 - acc: 0.21 - ETA: 31:42 - loss: 2.2260 - acc: 0.26 - ETA: 24:28 - loss: 2.1430 - acc: 0.22 - ETA: 20:46 - loss: 2.0849 - acc: 0.24 - ETA: 18:26 - loss: 1.9795 - acc: 0.29 - ETA: 16:49 - loss: 1.9177 - acc: 0.28 - ETA: 15:41 - loss: 1.8484 - acc: 0.29 - ETA: 14:53 - loss: 1.7973 - acc: 0.30 - ETA: 14:12 - loss: 1.7822 - acc: 0.28 - ETA: 13:38 - loss: 1.7440 - acc: 0.27 - ETA: 13:11 - loss: 1.7130 - acc: 0.26 - ETA: 12:47 - loss: 1.6857 - acc: 0.26 - ETA: 12:28 - loss: 1.6602 - acc: 0.27 - ETA: 12:13 - loss: 1.6416 - acc: 0.27 - ETA: 12:00 - loss: 1.6235 - acc: 0.27 - ETA: 11:47 - loss: 1.6084 - acc: 0.28 - ETA: 11:37 - loss: 1.5947 - acc: 0.28 - ETA: 11:29 - loss: 1.5832 - acc: 0.27 - ETA: 11:23 - loss: 1.5722 - acc: 0.27 - ETA: 11:15 - loss: 1.5615 - acc: 0.28 - ETA: 11:07 - loss: 1.5525 - acc: 0.28 - ETA: 11:00 - loss: 1.5451 - acc: 0.28 - ETA: 10:53 - loss: 1.5382 - acc: 0.28 - ETA: 10:47 - loss: 1.5314 - acc: 0.28 - ETA: 10:44 - loss: 1.5246 - acc: 0.29 - ETA: 10:40 - loss: 1.5181 - acc: 0.29 - ETA: 10:35 - loss: 1.5112 - acc: 0.29 - ETA: 10:31 - loss: 1.5045 - acc: 0.30 - ETA: 10:27 - loss: 1.5006 - acc: 0.30 - ETA: 10:25 - loss: 1.4969 - acc: 0.30 - ETA: 10:24 - loss: 1.4899 - acc: 0.30 - ETA: 10:23 - loss: 1.4840 - acc: 0.31 - ETA: 10:21 - loss: 1.4788 - acc: 0.32 - ETA: 10:17 - loss: 1.4731 - acc: 0.32 - ETA: 10:15 - loss: 1.4685 - acc: 0.32 - ETA: 10:12 - loss: 1.4628 - acc: 0.33 - ETA: 10:09 - loss: 1.4562 - acc: 0.33 - ETA: 10:07 - loss: 1.4512 - acc: 0.33 - ETA: 10:04 - loss: 1.4507 - acc: 0.33 - ETA: 10:02 - loss: 1.4431 - acc: 0.34 - ETA: 10:00 - loss: 1.4388 - acc: 0.34 - ETA: 9:57 - loss: 1.4367 - acc: 0.3460 - ETA: 9:56 - loss: 1.4307 - acc: 0.349 - ETA: 9:55 - loss: 1.4250 - acc: 0.355 - ETA: 9:53 - loss: 1.4206 - acc: 0.358 - ETA: 9:51 - loss: 1.4132 - acc: 0.364 - ETA: 9:50 - loss: 1.4054 - acc: 0.370 - ETA: 9:48 - loss: 1.4019 - acc: 0.372 - ETA: 9:46 - loss: 1.3967 - acc: 0.375 - ETA: 9:44 - loss: 1.3916 - acc: 0.377 - ETA: 9:43 - loss: 1.3842 - acc: 0.383 - ETA: 9:41 - loss: 1.3775 - acc: 0.388 - ETA: 9:41 - loss: 1.3721 - acc: 0.391 - ETA: 9:40 - loss: 1.3660 - acc: 0.395 - ETA: 9:38 - loss: 1.3600 - acc: 0.401 - ETA: 9:37 - loss: 1.3551 - acc: 0.405 - ETA: 9:35 - loss: 1.3523 - acc: 0.406 - ETA: 9:33 - loss: 1.3457 - acc: 0.410 - ETA: 9:32 - loss: 1.3351 - acc: 0.416 - ETA: 9:30 - loss: 1.3293 - acc: 0.419 - ETA: 9:29 - loss: 1.3259 - acc: 0.418 - ETA: 9:27 - loss: 1.3211 - acc: 0.420 - ETA: 9:26 - loss: 1.3161 - acc: 0.423 - ETA: 9:25 - loss: 1.3102 - acc: 0.426 - ETA: 9:24 - loss: 1.3044 - acc: 0.430 - ETA: 9:23 - loss: 1.2962 - acc: 0.434 - ETA: 9:22 - loss: 1.2886 - acc: 0.440 - ETA: 9:21 - loss: 1.2829 - acc: 0.444 - ETA: 9:20 - loss: 1.2793 - acc: 0.447 - ETA: 9:19 - loss: 1.2740 - acc: 0.448 - ETA: 9:19 - loss: 1.2696 - acc: 0.451 - ETA: 9:18 - loss: 1.2628 - acc: 0.455 - ETA: 9:17 - loss: 1.2549 - acc: 0.459 - ETA: 9:16 - loss: 1.2489 - acc: 0.462 - ETA: 9:15 - loss: 1.2444 - acc: 0.465 - ETA: 9:14 - loss: 1.2359 - acc: 0.469 - ETA: 9:12 - loss: 1.2294 - acc: 0.473 - ETA: 9:11 - loss: 1.2206 - acc: 0.477 - ETA: 9:10 - loss: 1.2164 - acc: 0.480 - ETA: 9:10 - loss: 1.2128 - acc: 0.482 - ETA: 9:09 - loss: 1.2069 - acc: 0.485 - ETA: 9:08 - loss: 1.2021 - acc: 0.487 - ETA: 9:07 - loss: 1.1970 - acc: 0.490 - ETA: 9:05 - loss: 1.1934 - acc: 0.492 - ETA: 9:04 - loss: 1.1901 - acc: 0.493 - ETA: 9:03 - loss: 1.1852 - acc: 0.495 - ETA: 9:02 - loss: 1.1809 - acc: 0.498 - ETA: 9:01 - loss: 1.1777 - acc: 0.499 - ETA: 9:01 - loss: 1.1732 - acc: 0.501 - ETA: 9:00 - loss: 1.1684 - acc: 0.504 - ETA: 8:59 - loss: 1.1625 - acc: 0.507 - ETA: 8:58 - loss: 1.1603 - acc: 0.508 - ETA: 8:57 - loss: 1.1535 - acc: 0.511 - ETA: 8:56 - loss: 1.1465 - acc: 0.515 - ETA: 8:55 - loss: 1.1405 - acc: 0.517 - ETA: 8:55 - loss: 1.1341 - acc: 0.520 - ETA: 8:54 - loss: 1.1313 - acc: 0.522 - ETA: 8:53 - loss: 1.1269 - acc: 0.525 - ETA: 8:53 - loss: 1.1243 - acc: 0.526 - ETA: 8:52 - loss: 1.1194 - acc: 0.529 - ETA: 8:51 - loss: 1.1137 - acc: 0.531 - ETA: 8:50 - loss: 1.1087 - acc: 0.534 - ETA: 8:50 - loss: 1.1065 - acc: 0.535 - ETA: 8:49 - loss: 1.1010 - acc: 0.538 - ETA: 8:48 - loss: 1.0969 - acc: 0.540 - ETA: 8:47 - loss: 1.0922 - acc: 0.542 - ETA: 8:46 - loss: 1.0885 - acc: 0.544 - ETA: 8:46 - loss: 1.0853 - acc: 0.546 - ETA: 8:45 - loss: 1.0815 - acc: 0.547 - ETA: 8:44 - loss: 1.0771 - acc: 0.550 - ETA: 8:43 - loss: 1.0752 - acc: 0.551 - ETA: 8:42 - loss: 1.0754 - acc: 0.551 - ETA: 8:41 - loss: 1.0706 - acc: 0.554 - ETA: 8:41 - loss: 1.0685 - acc: 0.555 - ETA: 8:40 - loss: 1.0668 - acc: 0.556 - ETA: 8:39 - loss: 1.0619 - acc: 0.558 - ETA: 8:39 - loss: 1.0586 - acc: 0.561 - ETA: 8:38 - loss: 1.0540 - acc: 0.563 - ETA: 8:38 - loss: 1.0501 - acc: 0.564 - ETA: 8:37 - loss: 1.0469 - acc: 0.565 - ETA: 8:37 - loss: 1.0472 - acc: 0.566 - ETA: 8:36 - loss: 1.0427 - acc: 0.568 - ETA: 8:36 - loss: 1.0405 - acc: 0.569 - ETA: 8:35 - loss: 1.0360 - acc: 0.570 - ETA: 8:35 - loss: 1.0318 - acc: 0.572 - ETA: 8:34 - loss: 1.0294 - acc: 0.573 - ETA: 8:34 - loss: 1.0263 - acc: 0.575 - ETA: 8:34 - loss: 1.0223 - acc: 0.577 - ETA: 8:34 - loss: 1.0187 - acc: 0.578 - ETA: 8:33 - loss: 1.0156 - acc: 0.580 - ETA: 8:33 - loss: 1.0120 - acc: 0.581 - ETA: 8:33 - loss: 1.0085 - acc: 0.583 - ETA: 8:32 - loss: 1.0054 - acc: 0.585 - ETA: 8:32 - loss: 1.0016 - acc: 0.587 - ETA: 8:31 - loss: 0.9981 - acc: 0.589 - ETA: 8:31 - loss: 0.9946 - acc: 0.590 - ETA: 8:31 - loss: 0.9914 - acc: 0.591 - ETA: 8:30 - loss: 0.9886 - acc: 0.592 - ETA: 8:29 - loss: 0.9848 - acc: 0.594 - ETA: 8:29 - loss: 0.9820 - acc: 0.595 - ETA: 8:28 - loss: 0.9788 - acc: 0.596 - ETA: 8:28 - loss: 0.9772 - acc: 0.597 - ETA: 8:27 - loss: 0.9742 - acc: 0.598 - ETA: 8:26 - loss: 0.9704 - acc: 0.600 - ETA: 8:25 - loss: 0.9667 - acc: 0.601 - ETA: 8:25 - loss: 0.9626 - acc: 0.603 - ETA: 8:24 - loss: 0.9585 - acc: 0.605 - ETA: 8:23 - loss: 0.9558 - acc: 0.606 - ETA: 8:23 - loss: 0.9530 - acc: 0.608 - ETA: 8:22 - loss: 0.9524 - acc: 0.609 - ETA: 8:22 - loss: 0.9496 - acc: 0.610 - ETA: 8:21 - loss: 0.9465 - acc: 0.611 - ETA: 8:21 - loss: 0.9435 - acc: 0.613 - ETA: 8:20 - loss: 0.9412 - acc: 0.614 - ETA: 8:20 - loss: 0.9387 - acc: 0.615 - ETA: 8:19 - loss: 0.9365 - acc: 0.616 - ETA: 8:19 - loss: 0.9332 - acc: 0.618 - ETA: 8:18 - loss: 0.9300 - acc: 0.619 - ETA: 8:18 - loss: 0.9261 - acc: 0.621 - ETA: 8:17 - loss: 0.9224 - acc: 0.622 - ETA: 8:17 - loss: 0.9203 - acc: 0.623 - ETA: 8:16 - loss: 0.9173 - acc: 0.625 - ETA: 8:16 - loss: 0.9166 - acc: 0.625 - ETA: 8:16 - loss: 0.9154 - acc: 0.626 - ETA: 8:15 - loss: 0.9131 - acc: 0.627 - ETA: 8:15 - loss: 0.9104 - acc: 0.629 - ETA: 8:14 - loss: 0.9079 - acc: 0.630 - ETA: 8:14 - loss: 0.9035 - acc: 0.632 - ETA: 8:13 - loss: 0.9006 - acc: 0.633 - ETA: 8:13 - loss: 0.8978 - acc: 0.634 - ETA: 8:13 - loss: 0.8957 - acc: 0.635 - ETA: 8:13 - loss: 0.8948 - acc: 0.635 - ETA: 8:12 - loss: 0.8933 - acc: 0.636 - ETA: 8:12 - loss: 0.8918 - acc: 0.636 - ETA: 8:12 - loss: 0.8898 - acc: 0.637 - ETA: 8:11 - loss: 0.8877 - acc: 0.638 - ETA: 8:10 - loss: 0.8853 - acc: 0.638 - ETA: 8:09 - loss: 0.8831 - acc: 0.639 - ETA: 8:09 - loss: 0.8811 - acc: 0.640 - ETA: 8:08 - loss: 0.8781 - acc: 0.642 - ETA: 8:07 - loss: 0.8755 - acc: 0.643 - ETA: 8:07 - loss: 0.8719 - acc: 0.644 - ETA: 8:07 - loss: 0.8701 - acc: 0.645 - ETA: 8:06 - loss: 0.8676 - acc: 0.646 - ETA: 8:06 - loss: 0.8652 - acc: 0.648 - ETA: 8:06 - loss: 0.8622 - acc: 0.649 - ETA: 8:05 - loss: 0.8606 - acc: 0.650 - ETA: 8:05 - loss: 0.8597 - acc: 0.650 - ETA: 8:04 - loss: 0.8580 - acc: 0.651 - ETA: 8:04 - loss: 0.8563 - acc: 0.652 - ETA: 8:04 - loss: 0.8549 - acc: 0.653 - ETA: 8:03 - loss: 0.8528 - acc: 0.653 - ETA: 8:03 - loss: 0.8499 - acc: 0.655 - ETA: 8:02 - loss: 0.8466 - acc: 0.656 - ETA: 8:02 - loss: 0.8442 - acc: 0.658 - ETA: 8:01 - loss: 0.8439 - acc: 0.658 - ETA: 8:01 - loss: 0.8419 - acc: 0.659 - ETA: 8:00 - loss: 0.8421 - acc: 0.659 - ETA: 8:00 - loss: 0.8403 - acc: 0.659 - ETA: 7:59 - loss: 0.8383 - acc: 0.660 - ETA: 7:59 - loss: 0.8361 - acc: 0.661 - ETA: 7:58 - loss: 0.8355 - acc: 0.662 - ETA: 7:57 - loss: 0.8342 - acc: 0.662 - ETA: 7:57 - loss: 0.8320 - acc: 0.663913056/39116 [=========>....................] - ETA: 7:56 - loss: 0.8296 - acc: 0.664 - ETA: 7:56 - loss: 0.8273 - acc: 0.665 - ETA: 7:55 - loss: 0.8248 - acc: 0.666 - ETA: 7:55 - loss: 0.8240 - acc: 0.667 - ETA: 7:54 - loss: 0.8223 - acc: 0.668 - ETA: 7:53 - loss: 0.8197 - acc: 0.669 - ETA: 7:53 - loss: 0.8176 - acc: 0.670 - ETA: 7:52 - loss: 0.8152 - acc: 0.671 - ETA: 7:52 - loss: 0.8148 - acc: 0.671 - ETA: 7:51 - loss: 0.8127 - acc: 0.672 - ETA: 7:51 - loss: 0.8109 - acc: 0.673 - ETA: 7:50 - loss: 0.8090 - acc: 0.673 - ETA: 7:49 - loss: 0.8077 - acc: 0.674 - ETA: 7:49 - loss: 0.8060 - acc: 0.674 - ETA: 7:48 - loss: 0.8033 - acc: 0.676 - ETA: 7:47 - loss: 0.8006 - acc: 0.677 - ETA: 7:47 - loss: 0.7996 - acc: 0.677 - ETA: 7:46 - loss: 0.7978 - acc: 0.678 - ETA: 7:46 - loss: 0.7959 - acc: 0.679 - ETA: 7:45 - loss: 0.7942 - acc: 0.679 - ETA: 7:45 - loss: 0.7929 - acc: 0.679 - ETA: 7:44 - loss: 0.7906 - acc: 0.680 - ETA: 7:44 - loss: 0.7905 - acc: 0.681 - ETA: 7:43 - loss: 0.7894 - acc: 0.681 - ETA: 7:43 - loss: 0.7871 - acc: 0.682 - ETA: 7:42 - loss: 0.7847 - acc: 0.684 - ETA: 7:42 - loss: 0.7836 - acc: 0.684 - ETA: 7:41 - loss: 0.7829 - acc: 0.684 - ETA: 7:40 - loss: 0.7805 - acc: 0.685 - ETA: 7:40 - loss: 0.7782 - acc: 0.686 - ETA: 7:40 - loss: 0.7765 - acc: 0.687 - ETA: 7:39 - loss: 0.7749 - acc: 0.688 - ETA: 7:39 - loss: 0.7728 - acc: 0.689 - ETA: 7:39 - loss: 0.7717 - acc: 0.689 - ETA: 7:38 - loss: 0.7699 - acc: 0.690 - ETA: 7:38 - loss: 0.7685 - acc: 0.691 - ETA: 7:37 - loss: 0.7669 - acc: 0.691 - ETA: 7:37 - loss: 0.7660 - acc: 0.692 - ETA: 7:36 - loss: 0.7643 - acc: 0.693 - ETA: 7:36 - loss: 0.7634 - acc: 0.693 - ETA: 7:35 - loss: 0.7615 - acc: 0.694 - ETA: 7:35 - loss: 0.7605 - acc: 0.694 - ETA: 7:34 - loss: 0.7589 - acc: 0.695 - ETA: 7:34 - loss: 0.7574 - acc: 0.696 - ETA: 7:33 - loss: 0.7558 - acc: 0.696 - ETA: 7:33 - loss: 0.7538 - acc: 0.697 - ETA: 7:33 - loss: 0.7520 - acc: 0.698 - ETA: 7:32 - loss: 0.7501 - acc: 0.699 - ETA: 7:31 - loss: 0.7486 - acc: 0.699 - ETA: 7:31 - loss: 0.7470 - acc: 0.700 - ETA: 7:30 - loss: 0.7455 - acc: 0.701 - ETA: 7:30 - loss: 0.7441 - acc: 0.701 - ETA: 7:29 - loss: 0.7439 - acc: 0.702 - ETA: 7:29 - loss: 0.7433 - acc: 0.702 - ETA: 7:29 - loss: 0.7424 - acc: 0.702 - ETA: 7:28 - loss: 0.7408 - acc: 0.702 - ETA: 7:28 - loss: 0.7397 - acc: 0.703 - ETA: 7:27 - loss: 0.7393 - acc: 0.703 - ETA: 7:27 - loss: 0.7383 - acc: 0.703 - ETA: 7:26 - loss: 0.7382 - acc: 0.703 - ETA: 7:26 - loss: 0.7368 - acc: 0.704 - ETA: 7:25 - loss: 0.7359 - acc: 0.704 - ETA: 7:25 - loss: 0.7349 - acc: 0.705 - ETA: 7:25 - loss: 0.7341 - acc: 0.705 - ETA: 7:24 - loss: 0.7322 - acc: 0.706 - ETA: 7:24 - loss: 0.7311 - acc: 0.706 - ETA: 7:23 - loss: 0.7294 - acc: 0.707 - ETA: 7:23 - loss: 0.7283 - acc: 0.707 - ETA: 7:23 - loss: 0.7278 - acc: 0.707 - ETA: 7:22 - loss: 0.7267 - acc: 0.708 - ETA: 7:22 - loss: 0.7260 - acc: 0.708 - ETA: 7:22 - loss: 0.7252 - acc: 0.709 - ETA: 7:21 - loss: 0.7238 - acc: 0.709 - ETA: 7:21 - loss: 0.7233 - acc: 0.710 - ETA: 7:20 - loss: 0.7229 - acc: 0.710 - ETA: 7:20 - loss: 0.7214 - acc: 0.711 - ETA: 7:20 - loss: 0.7200 - acc: 0.711 - ETA: 7:19 - loss: 0.7188 - acc: 0.712 - ETA: 7:19 - loss: 0.7183 - acc: 0.712 - ETA: 7:18 - loss: 0.7168 - acc: 0.712 - ETA: 7:18 - loss: 0.7169 - acc: 0.712 - ETA: 7:18 - loss: 0.7150 - acc: 0.713 - ETA: 7:17 - loss: 0.7148 - acc: 0.713 - ETA: 7:17 - loss: 0.7137 - acc: 0.714 - ETA: 7:16 - loss: 0.7129 - acc: 0.714 - ETA: 7:16 - loss: 0.7112 - acc: 0.715 - ETA: 7:15 - loss: 0.7105 - acc: 0.715 - ETA: 7:14 - loss: 0.7097 - acc: 0.715 - ETA: 7:14 - loss: 0.7088 - acc: 0.716 - ETA: 7:13 - loss: 0.7076 - acc: 0.716 - ETA: 7:13 - loss: 0.7071 - acc: 0.717 - ETA: 7:12 - loss: 0.7060 - acc: 0.717 - ETA: 7:12 - loss: 0.7048 - acc: 0.718 - ETA: 7:11 - loss: 0.7040 - acc: 0.718 - ETA: 7:11 - loss: 0.7033 - acc: 0.718 - ETA: 7:10 - loss: 0.7024 - acc: 0.719 - ETA: 7:09 - loss: 0.7012 - acc: 0.719 - ETA: 7:09 - loss: 0.7003 - acc: 0.720 - ETA: 7:08 - loss: 0.6995 - acc: 0.720 - ETA: 7:08 - loss: 0.6983 - acc: 0.721 - ETA: 7:07 - loss: 0.6974 - acc: 0.721 - ETA: 7:07 - loss: 0.6965 - acc: 0.722 - ETA: 7:06 - loss: 0.6956 - acc: 0.722 - ETA: 7:05 - loss: 0.6946 - acc: 0.723 - ETA: 7:05 - loss: 0.6934 - acc: 0.723 - ETA: 7:04 - loss: 0.6935 - acc: 0.723 - ETA: 7:04 - loss: 0.6930 - acc: 0.724 - ETA: 7:03 - loss: 0.6911 - acc: 0.724 - ETA: 7:03 - loss: 0.6905 - acc: 0.725 - ETA: 7:02 - loss: 0.6895 - acc: 0.725 - ETA: 7:02 - loss: 0.6883 - acc: 0.726 - ETA: 7:01 - loss: 0.6881 - acc: 0.726 - ETA: 7:01 - loss: 0.6873 - acc: 0.726 - ETA: 7:00 - loss: 0.6862 - acc: 0.727 - ETA: 6:59 - loss: 0.6851 - acc: 0.727 - ETA: 6:59 - loss: 0.6840 - acc: 0.728 - ETA: 6:58 - loss: 0.6829 - acc: 0.728 - ETA: 6:58 - loss: 0.6821 - acc: 0.728 - ETA: 6:57 - loss: 0.6807 - acc: 0.729 - ETA: 6:57 - loss: 0.6802 - acc: 0.729 - ETA: 6:56 - loss: 0.6788 - acc: 0.730 - ETA: 6:56 - loss: 0.6779 - acc: 0.730 - ETA: 6:55 - loss: 0.6767 - acc: 0.730 - ETA: 6:55 - loss: 0.6764 - acc: 0.731 - ETA: 6:54 - loss: 0.6765 - acc: 0.731 - ETA: 6:54 - loss: 0.6754 - acc: 0.731 - ETA: 6:53 - loss: 0.6742 - acc: 0.732 - ETA: 6:52 - loss: 0.6727 - acc: 0.732 - ETA: 6:52 - loss: 0.6721 - acc: 0.732 - ETA: 6:51 - loss: 0.6706 - acc: 0.733 - ETA: 6:51 - loss: 0.6696 - acc: 0.734 - ETA: 6:50 - loss: 0.6688 - acc: 0.734 - ETA: 6:50 - loss: 0.6673 - acc: 0.734 - ETA: 6:49 - loss: 0.6662 - acc: 0.735 - ETA: 6:49 - loss: 0.6653 - acc: 0.735 - ETA: 6:48 - loss: 0.6642 - acc: 0.736 - ETA: 6:48 - loss: 0.6632 - acc: 0.736 - ETA: 6:47 - loss: 0.6624 - acc: 0.736 - ETA: 6:47 - loss: 0.6618 - acc: 0.737 - ETA: 6:46 - loss: 0.6609 - acc: 0.737 - ETA: 6:46 - loss: 0.6604 - acc: 0.737 - ETA: 6:45 - loss: 0.6594 - acc: 0.738 - ETA: 6:45 - loss: 0.6583 - acc: 0.738 - ETA: 6:44 - loss: 0.6577 - acc: 0.739 - ETA: 6:44 - loss: 0.6571 - acc: 0.739 - ETA: 6:43 - loss: 0.6563 - acc: 0.739 - ETA: 6:43 - loss: 0.6549 - acc: 0.740 - ETA: 6:42 - loss: 0.6542 - acc: 0.740 - ETA: 6:42 - loss: 0.6531 - acc: 0.741 - ETA: 6:41 - loss: 0.6523 - acc: 0.741 - ETA: 6:41 - loss: 0.6507 - acc: 0.742 - ETA: 6:40 - loss: 0.6498 - acc: 0.742 - ETA: 6:40 - loss: 0.6485 - acc: 0.743 - ETA: 6:39 - loss: 0.6474 - acc: 0.743 - ETA: 6:39 - loss: 0.6465 - acc: 0.744 - ETA: 6:38 - loss: 0.6460 - acc: 0.744 - ETA: 6:38 - loss: 0.6451 - acc: 0.744 - ETA: 6:38 - loss: 0.6446 - acc: 0.745 - ETA: 6:37 - loss: 0.6447 - acc: 0.745 - ETA: 6:37 - loss: 0.6440 - acc: 0.745 - ETA: 6:36 - loss: 0.6428 - acc: 0.745 - ETA: 6:36 - loss: 0.6420 - acc: 0.746 - ETA: 6:36 - loss: 0.6416 - acc: 0.746 - ETA: 6:35 - loss: 0.6406 - acc: 0.747 - ETA: 6:35 - loss: 0.6402 - acc: 0.747 - ETA: 6:34 - loss: 0.6395 - acc: 0.747 - ETA: 6:34 - loss: 0.6384 - acc: 0.747 - ETA: 6:33 - loss: 0.6375 - acc: 0.748 - ETA: 6:33 - loss: 0.6367 - acc: 0.748 - ETA: 6:32 - loss: 0.6362 - acc: 0.748 - ETA: 6:32 - loss: 0.6356 - acc: 0.748 - ETA: 6:31 - loss: 0.6345 - acc: 0.749 - ETA: 6:31 - loss: 0.6334 - acc: 0.749 - ETA: 6:30 - loss: 0.6329 - acc: 0.749 - ETA: 6:30 - loss: 0.6321 - acc: 0.750 - ETA: 6:29 - loss: 0.6309 - acc: 0.750 - ETA: 6:29 - loss: 0.6301 - acc: 0.750 - ETA: 6:28 - loss: 0.6294 - acc: 0.751 - ETA: 6:28 - loss: 0.6290 - acc: 0.751 - ETA: 6:27 - loss: 0.6280 - acc: 0.751 - ETA: 6:27 - loss: 0.6273 - acc: 0.752 - ETA: 6:26 - loss: 0.6264 - acc: 0.752 - ETA: 6:26 - loss: 0.6253 - acc: 0.753 - ETA: 6:25 - loss: 0.6245 - acc: 0.753 - ETA: 6:25 - loss: 0.6239 - acc: 0.753 - ETA: 6:24 - loss: 0.6228 - acc: 0.754 - ETA: 6:24 - loss: 0.6227 - acc: 0.754 - ETA: 6:23 - loss: 0.6223 - acc: 0.754 - ETA: 6:23 - loss: 0.6214 - acc: 0.754 - ETA: 6:22 - loss: 0.6208 - acc: 0.755 - ETA: 6:21 - loss: 0.6207 - acc: 0.755 - ETA: 6:21 - loss: 0.6196 - acc: 0.755 - ETA: 6:20 - loss: 0.6186 - acc: 0.755 - ETA: 6:20 - loss: 0.6178 - acc: 0.756 - ETA: 6:19 - loss: 0.6173 - acc: 0.756 - ETA: 6:19 - loss: 0.6167 - acc: 0.756 - ETA: 6:18 - loss: 0.6156 - acc: 0.756 - ETA: 6:18 - loss: 0.6148 - acc: 0.757 - ETA: 6:17 - loss: 0.6138 - acc: 0.757 - ETA: 6:17 - loss: 0.6133 - acc: 0.757 - ETA: 6:16 - loss: 0.6128 - acc: 0.757 - ETA: 6:16 - loss: 0.6122 - acc: 0.758 - ETA: 6:15 - loss: 0.6132 - acc: 0.758 - ETA: 6:15 - loss: 0.6126 - acc: 0.7582"
     ]
    },
    {
     "name": "stdout",
     "output_type": "stream",
     "text": [
      "19584/39116 [==============>...............] - ETA: 6:14 - loss: 0.6124 - acc: 0.758 - ETA: 6:14 - loss: 0.6115 - acc: 0.758 - ETA: 6:13 - loss: 0.6113 - acc: 0.758 - ETA: 6:13 - loss: 0.6103 - acc: 0.759 - ETA: 6:12 - loss: 0.6095 - acc: 0.759 - ETA: 6:12 - loss: 0.6086 - acc: 0.759 - ETA: 6:12 - loss: 0.6080 - acc: 0.759 - ETA: 6:11 - loss: 0.6075 - acc: 0.759 - ETA: 6:11 - loss: 0.6071 - acc: 0.760 - ETA: 6:10 - loss: 0.6062 - acc: 0.760 - ETA: 6:10 - loss: 0.6057 - acc: 0.761 - ETA: 6:09 - loss: 0.6053 - acc: 0.761 - ETA: 6:09 - loss: 0.6050 - acc: 0.761 - ETA: 6:08 - loss: 0.6045 - acc: 0.761 - ETA: 6:08 - loss: 0.6037 - acc: 0.761 - ETA: 6:07 - loss: 0.6031 - acc: 0.761 - ETA: 6:07 - loss: 0.6020 - acc: 0.762 - ETA: 6:06 - loss: 0.6018 - acc: 0.762 - ETA: 6:06 - loss: 0.6015 - acc: 0.762 - ETA: 6:05 - loss: 0.6007 - acc: 0.762 - ETA: 6:05 - loss: 0.5999 - acc: 0.762 - ETA: 6:04 - loss: 0.5996 - acc: 0.763 - ETA: 6:04 - loss: 0.5995 - acc: 0.763 - ETA: 6:03 - loss: 0.5989 - acc: 0.763 - ETA: 6:03 - loss: 0.5984 - acc: 0.763 - ETA: 6:02 - loss: 0.5980 - acc: 0.763 - ETA: 6:02 - loss: 0.5978 - acc: 0.763 - ETA: 6:01 - loss: 0.5970 - acc: 0.764 - ETA: 6:01 - loss: 0.5966 - acc: 0.764 - ETA: 6:00 - loss: 0.5960 - acc: 0.764 - ETA: 6:00 - loss: 0.5957 - acc: 0.764 - ETA: 5:59 - loss: 0.5950 - acc: 0.765 - ETA: 5:59 - loss: 0.5943 - acc: 0.765 - ETA: 5:58 - loss: 0.5940 - acc: 0.765 - ETA: 5:58 - loss: 0.5933 - acc: 0.766 - ETA: 5:57 - loss: 0.5929 - acc: 0.766 - ETA: 5:57 - loss: 0.5929 - acc: 0.766 - ETA: 5:56 - loss: 0.5920 - acc: 0.766 - ETA: 5:56 - loss: 0.5915 - acc: 0.766 - ETA: 5:55 - loss: 0.5909 - acc: 0.766 - ETA: 5:55 - loss: 0.5905 - acc: 0.767 - ETA: 5:54 - loss: 0.5910 - acc: 0.767 - ETA: 5:54 - loss: 0.5902 - acc: 0.767 - ETA: 5:53 - loss: 0.5899 - acc: 0.767 - ETA: 5:53 - loss: 0.5896 - acc: 0.767 - ETA: 5:52 - loss: 0.5885 - acc: 0.768 - ETA: 5:52 - loss: 0.5876 - acc: 0.768 - ETA: 5:51 - loss: 0.5870 - acc: 0.768 - ETA: 5:51 - loss: 0.5864 - acc: 0.769 - ETA: 5:50 - loss: 0.5856 - acc: 0.769 - ETA: 5:50 - loss: 0.5851 - acc: 0.769 - ETA: 5:49 - loss: 0.5842 - acc: 0.770 - ETA: 5:49 - loss: 0.5834 - acc: 0.770 - ETA: 5:49 - loss: 0.5830 - acc: 0.770 - ETA: 5:48 - loss: 0.5829 - acc: 0.770 - ETA: 5:48 - loss: 0.5827 - acc: 0.770 - ETA: 5:47 - loss: 0.5824 - acc: 0.771 - ETA: 5:47 - loss: 0.5816 - acc: 0.771 - ETA: 5:46 - loss: 0.5810 - acc: 0.771 - ETA: 5:46 - loss: 0.5802 - acc: 0.772 - ETA: 5:45 - loss: 0.5797 - acc: 0.772 - ETA: 5:45 - loss: 0.5793 - acc: 0.772 - ETA: 5:44 - loss: 0.5792 - acc: 0.772 - ETA: 5:44 - loss: 0.5790 - acc: 0.772 - ETA: 5:43 - loss: 0.5786 - acc: 0.772 - ETA: 5:43 - loss: 0.5791 - acc: 0.772 - ETA: 5:42 - loss: 0.5786 - acc: 0.772 - ETA: 5:42 - loss: 0.5781 - acc: 0.773 - ETA: 5:41 - loss: 0.5776 - acc: 0.773 - ETA: 5:41 - loss: 0.5768 - acc: 0.773 - ETA: 5:40 - loss: 0.5764 - acc: 0.773 - ETA: 5:40 - loss: 0.5758 - acc: 0.773 - ETA: 5:39 - loss: 0.5757 - acc: 0.773 - ETA: 5:39 - loss: 0.5751 - acc: 0.774 - ETA: 5:38 - loss: 0.5743 - acc: 0.774 - ETA: 5:38 - loss: 0.5738 - acc: 0.774 - ETA: 5:37 - loss: 0.5733 - acc: 0.774 - ETA: 5:37 - loss: 0.5729 - acc: 0.774 - ETA: 5:36 - loss: 0.5723 - acc: 0.775 - ETA: 5:36 - loss: 0.5717 - acc: 0.775 - ETA: 5:35 - loss: 0.5720 - acc: 0.775 - ETA: 5:35 - loss: 0.5713 - acc: 0.775 - ETA: 5:35 - loss: 0.5709 - acc: 0.776 - ETA: 5:34 - loss: 0.5707 - acc: 0.776 - ETA: 5:34 - loss: 0.5705 - acc: 0.776 - ETA: 5:33 - loss: 0.5701 - acc: 0.776 - ETA: 5:33 - loss: 0.5695 - acc: 0.776 - ETA: 5:32 - loss: 0.5688 - acc: 0.777 - ETA: 5:32 - loss: 0.5687 - acc: 0.777 - ETA: 5:31 - loss: 0.5682 - acc: 0.777 - ETA: 5:31 - loss: 0.5682 - acc: 0.777 - ETA: 5:30 - loss: 0.5673 - acc: 0.777 - ETA: 5:30 - loss: 0.5667 - acc: 0.778 - ETA: 5:29 - loss: 0.5662 - acc: 0.778 - ETA: 5:29 - loss: 0.5656 - acc: 0.778 - ETA: 5:28 - loss: 0.5654 - acc: 0.778 - ETA: 5:28 - loss: 0.5649 - acc: 0.778 - ETA: 5:27 - loss: 0.5645 - acc: 0.779 - ETA: 5:27 - loss: 0.5638 - acc: 0.779 - ETA: 5:27 - loss: 0.5630 - acc: 0.779 - ETA: 5:26 - loss: 0.5630 - acc: 0.779 - ETA: 5:26 - loss: 0.5627 - acc: 0.779 - ETA: 5:25 - loss: 0.5630 - acc: 0.779 - ETA: 5:25 - loss: 0.5624 - acc: 0.780 - ETA: 5:24 - loss: 0.5620 - acc: 0.780 - ETA: 5:24 - loss: 0.5616 - acc: 0.780 - ETA: 5:23 - loss: 0.5611 - acc: 0.780 - ETA: 5:23 - loss: 0.5607 - acc: 0.780 - ETA: 5:22 - loss: 0.5602 - acc: 0.781 - ETA: 5:22 - loss: 0.5596 - acc: 0.781 - ETA: 5:21 - loss: 0.5595 - acc: 0.781 - ETA: 5:21 - loss: 0.5590 - acc: 0.781 - ETA: 5:20 - loss: 0.5585 - acc: 0.781 - ETA: 5:20 - loss: 0.5578 - acc: 0.782 - ETA: 5:19 - loss: 0.5576 - acc: 0.782 - ETA: 5:19 - loss: 0.5567 - acc: 0.782 - ETA: 5:18 - loss: 0.5561 - acc: 0.783 - ETA: 5:18 - loss: 0.5554 - acc: 0.783 - ETA: 5:18 - loss: 0.5548 - acc: 0.783 - ETA: 5:17 - loss: 0.5543 - acc: 0.783 - ETA: 5:17 - loss: 0.5538 - acc: 0.783 - ETA: 5:16 - loss: 0.5531 - acc: 0.784 - ETA: 5:16 - loss: 0.5528 - acc: 0.784 - ETA: 5:15 - loss: 0.5524 - acc: 0.784 - ETA: 5:15 - loss: 0.5521 - acc: 0.784 - ETA: 5:14 - loss: 0.5516 - acc: 0.784 - ETA: 5:14 - loss: 0.5512 - acc: 0.784 - ETA: 5:13 - loss: 0.5506 - acc: 0.785 - ETA: 5:13 - loss: 0.5507 - acc: 0.785 - ETA: 5:12 - loss: 0.5501 - acc: 0.785 - ETA: 5:12 - loss: 0.5496 - acc: 0.785 - ETA: 5:11 - loss: 0.5488 - acc: 0.786 - ETA: 5:11 - loss: 0.5480 - acc: 0.786 - ETA: 5:10 - loss: 0.5478 - acc: 0.786 - ETA: 5:10 - loss: 0.5471 - acc: 0.786 - ETA: 5:09 - loss: 0.5465 - acc: 0.787 - ETA: 5:09 - loss: 0.5458 - acc: 0.787 - ETA: 5:08 - loss: 0.5457 - acc: 0.787 - ETA: 5:08 - loss: 0.5450 - acc: 0.787 - ETA: 5:07 - loss: 0.5448 - acc: 0.787 - ETA: 5:07 - loss: 0.5439 - acc: 0.788 - ETA: 5:06 - loss: 0.5437 - acc: 0.788 - ETA: 5:06 - loss: 0.5431 - acc: 0.788 - ETA: 5:05 - loss: 0.5435 - acc: 0.788 - ETA: 5:05 - loss: 0.5431 - acc: 0.788 - ETA: 5:05 - loss: 0.5429 - acc: 0.788 - ETA: 5:04 - loss: 0.5428 - acc: 0.788 - ETA: 5:04 - loss: 0.5426 - acc: 0.788 - ETA: 5:03 - loss: 0.5422 - acc: 0.788 - ETA: 5:03 - loss: 0.5416 - acc: 0.788 - ETA: 5:02 - loss: 0.5411 - acc: 0.789 - ETA: 5:02 - loss: 0.5405 - acc: 0.789 - ETA: 5:02 - loss: 0.5399 - acc: 0.789 - ETA: 5:01 - loss: 0.5393 - acc: 0.789 - ETA: 5:01 - loss: 0.5388 - acc: 0.789 - ETA: 5:00 - loss: 0.5380 - acc: 0.790 - ETA: 5:00 - loss: 0.5374 - acc: 0.790 - ETA: 4:59 - loss: 0.5370 - acc: 0.790 - ETA: 4:59 - loss: 0.5366 - acc: 0.790 - ETA: 4:58 - loss: 0.5364 - acc: 0.791 - ETA: 4:58 - loss: 0.5359 - acc: 0.791 - ETA: 4:57 - loss: 0.5357 - acc: 0.791 - ETA: 4:57 - loss: 0.5354 - acc: 0.791 - ETA: 4:56 - loss: 0.5351 - acc: 0.791 - ETA: 4:56 - loss: 0.5347 - acc: 0.791 - ETA: 4:55 - loss: 0.5346 - acc: 0.791 - ETA: 4:55 - loss: 0.5346 - acc: 0.791 - ETA: 4:54 - loss: 0.5339 - acc: 0.791 - ETA: 4:54 - loss: 0.5336 - acc: 0.792 - ETA: 4:54 - loss: 0.5330 - acc: 0.792 - ETA: 4:53 - loss: 0.5330 - acc: 0.792 - ETA: 4:53 - loss: 0.5326 - acc: 0.792 - ETA: 4:52 - loss: 0.5326 - acc: 0.792 - ETA: 4:52 - loss: 0.5323 - acc: 0.792 - ETA: 4:51 - loss: 0.5318 - acc: 0.793 - ETA: 4:51 - loss: 0.5312 - acc: 0.793 - ETA: 4:50 - loss: 0.5307 - acc: 0.793 - ETA: 4:50 - loss: 0.5306 - acc: 0.793 - ETA: 4:49 - loss: 0.5302 - acc: 0.793 - ETA: 4:49 - loss: 0.5298 - acc: 0.794 - ETA: 4:48 - loss: 0.5294 - acc: 0.794 - ETA: 4:48 - loss: 0.5290 - acc: 0.794 - ETA: 4:48 - loss: 0.5288 - acc: 0.794 - ETA: 4:47 - loss: 0.5283 - acc: 0.794 - ETA: 4:47 - loss: 0.5276 - acc: 0.794 - ETA: 4:46 - loss: 0.5270 - acc: 0.795 - ETA: 4:46 - loss: 0.5266 - acc: 0.795 - ETA: 4:45 - loss: 0.5261 - acc: 0.795 - ETA: 4:45 - loss: 0.5255 - acc: 0.795 - ETA: 4:44 - loss: 0.5252 - acc: 0.795 - ETA: 4:44 - loss: 0.5250 - acc: 0.795 - ETA: 4:43 - loss: 0.5248 - acc: 0.795 - ETA: 4:43 - loss: 0.5242 - acc: 0.796 - ETA: 4:43 - loss: 0.5238 - acc: 0.796 - ETA: 4:42 - loss: 0.5232 - acc: 0.796 - ETA: 4:42 - loss: 0.5228 - acc: 0.796 - ETA: 4:41 - loss: 0.5225 - acc: 0.796 - ETA: 4:41 - loss: 0.5223 - acc: 0.797 - ETA: 4:40 - loss: 0.5217 - acc: 0.797 - ETA: 4:40 - loss: 0.5214 - acc: 0.797 - ETA: 4:40 - loss: 0.5208 - acc: 0.797 - ETA: 4:39 - loss: 0.5204 - acc: 0.797 - ETA: 4:39 - loss: 0.5200 - acc: 0.797 - ETA: 4:38 - loss: 0.5196 - acc: 0.7981"
     ]
    },
    {
     "name": "stdout",
     "output_type": "stream",
     "text": [
      "26112/39116 [===================>..........] - ETA: 4:38 - loss: 0.5190 - acc: 0.798 - ETA: 4:37 - loss: 0.5188 - acc: 0.798 - ETA: 4:37 - loss: 0.5183 - acc: 0.798 - ETA: 4:37 - loss: 0.5178 - acc: 0.798 - ETA: 4:36 - loss: 0.5172 - acc: 0.799 - ETA: 4:36 - loss: 0.5166 - acc: 0.799 - ETA: 4:35 - loss: 0.5163 - acc: 0.799 - ETA: 4:35 - loss: 0.5159 - acc: 0.799 - ETA: 4:34 - loss: 0.5155 - acc: 0.799 - ETA: 4:34 - loss: 0.5152 - acc: 0.800 - ETA: 4:33 - loss: 0.5149 - acc: 0.800 - ETA: 4:33 - loss: 0.5146 - acc: 0.800 - ETA: 4:32 - loss: 0.5144 - acc: 0.800 - ETA: 4:32 - loss: 0.5137 - acc: 0.800 - ETA: 4:32 - loss: 0.5133 - acc: 0.800 - ETA: 4:31 - loss: 0.5128 - acc: 0.801 - ETA: 4:31 - loss: 0.5126 - acc: 0.801 - ETA: 4:30 - loss: 0.5122 - acc: 0.801 - ETA: 4:30 - loss: 0.5120 - acc: 0.801 - ETA: 4:29 - loss: 0.5115 - acc: 0.801 - ETA: 4:29 - loss: 0.5112 - acc: 0.801 - ETA: 4:28 - loss: 0.5109 - acc: 0.802 - ETA: 4:28 - loss: 0.5106 - acc: 0.802 - ETA: 4:27 - loss: 0.5103 - acc: 0.802 - ETA: 4:27 - loss: 0.5101 - acc: 0.802 - ETA: 4:26 - loss: 0.5099 - acc: 0.802 - ETA: 4:26 - loss: 0.5095 - acc: 0.802 - ETA: 4:25 - loss: 0.5095 - acc: 0.802 - ETA: 4:25 - loss: 0.5089 - acc: 0.802 - ETA: 4:25 - loss: 0.5088 - acc: 0.803 - ETA: 4:24 - loss: 0.5087 - acc: 0.803 - ETA: 4:24 - loss: 0.5083 - acc: 0.803 - ETA: 4:23 - loss: 0.5079 - acc: 0.803 - ETA: 4:23 - loss: 0.5074 - acc: 0.803 - ETA: 4:22 - loss: 0.5069 - acc: 0.804 - ETA: 4:22 - loss: 0.5063 - acc: 0.804 - ETA: 4:21 - loss: 0.5059 - acc: 0.804 - ETA: 4:21 - loss: 0.5055 - acc: 0.804 - ETA: 4:21 - loss: 0.5052 - acc: 0.804 - ETA: 4:20 - loss: 0.5051 - acc: 0.804 - ETA: 4:20 - loss: 0.5048 - acc: 0.804 - ETA: 4:19 - loss: 0.5043 - acc: 0.805 - ETA: 4:19 - loss: 0.5038 - acc: 0.805 - ETA: 4:18 - loss: 0.5035 - acc: 0.805 - ETA: 4:18 - loss: 0.5029 - acc: 0.805 - ETA: 4:17 - loss: 0.5027 - acc: 0.805 - ETA: 4:17 - loss: 0.5023 - acc: 0.806 - ETA: 4:16 - loss: 0.5022 - acc: 0.806 - ETA: 4:16 - loss: 0.5018 - acc: 0.806 - ETA: 4:15 - loss: 0.5013 - acc: 0.806 - ETA: 4:15 - loss: 0.5011 - acc: 0.806 - ETA: 4:14 - loss: 0.5008 - acc: 0.806 - ETA: 4:14 - loss: 0.5004 - acc: 0.806 - ETA: 4:13 - loss: 0.5001 - acc: 0.806 - ETA: 4:13 - loss: 0.5000 - acc: 0.806 - ETA: 4:13 - loss: 0.4997 - acc: 0.807 - ETA: 4:12 - loss: 0.4994 - acc: 0.807 - ETA: 4:12 - loss: 0.4991 - acc: 0.807 - ETA: 4:11 - loss: 0.4992 - acc: 0.807 - ETA: 4:11 - loss: 0.4988 - acc: 0.807 - ETA: 4:10 - loss: 0.4986 - acc: 0.807 - ETA: 4:10 - loss: 0.4983 - acc: 0.807 - ETA: 4:09 - loss: 0.4980 - acc: 0.807 - ETA: 4:09 - loss: 0.4974 - acc: 0.808 - ETA: 4:08 - loss: 0.4970 - acc: 0.808 - ETA: 4:08 - loss: 0.4966 - acc: 0.808 - ETA: 4:07 - loss: 0.4962 - acc: 0.808 - ETA: 4:07 - loss: 0.4957 - acc: 0.808 - ETA: 4:06 - loss: 0.4953 - acc: 0.809 - ETA: 4:06 - loss: 0.4951 - acc: 0.809 - ETA: 4:06 - loss: 0.4952 - acc: 0.809 - ETA: 4:05 - loss: 0.4948 - acc: 0.809 - ETA: 4:05 - loss: 0.4950 - acc: 0.809 - ETA: 4:04 - loss: 0.4945 - acc: 0.809 - ETA: 4:04 - loss: 0.4944 - acc: 0.809 - ETA: 4:03 - loss: 0.4943 - acc: 0.809 - ETA: 4:03 - loss: 0.4938 - acc: 0.809 - ETA: 4:02 - loss: 0.4933 - acc: 0.809 - ETA: 4:02 - loss: 0.4928 - acc: 0.810 - ETA: 4:01 - loss: 0.4925 - acc: 0.810 - ETA: 4:01 - loss: 0.4920 - acc: 0.810 - ETA: 4:00 - loss: 0.4920 - acc: 0.810 - ETA: 4:00 - loss: 0.4916 - acc: 0.810 - ETA: 4:00 - loss: 0.4912 - acc: 0.810 - ETA: 3:59 - loss: 0.4911 - acc: 0.810 - ETA: 3:59 - loss: 0.4906 - acc: 0.811 - ETA: 3:58 - loss: 0.4901 - acc: 0.811 - ETA: 3:58 - loss: 0.4897 - acc: 0.811 - ETA: 3:57 - loss: 0.4893 - acc: 0.811 - ETA: 3:57 - loss: 0.4893 - acc: 0.811 - ETA: 3:56 - loss: 0.4890 - acc: 0.811 - ETA: 3:56 - loss: 0.4886 - acc: 0.811 - ETA: 3:55 - loss: 0.4887 - acc: 0.811 - ETA: 3:55 - loss: 0.4888 - acc: 0.811 - ETA: 3:54 - loss: 0.4886 - acc: 0.811 - ETA: 3:54 - loss: 0.4881 - acc: 0.812 - ETA: 3:54 - loss: 0.4878 - acc: 0.812 - ETA: 3:53 - loss: 0.4877 - acc: 0.812 - ETA: 3:53 - loss: 0.4872 - acc: 0.812 - ETA: 3:52 - loss: 0.4871 - acc: 0.812 - ETA: 3:52 - loss: 0.4869 - acc: 0.812 - ETA: 3:51 - loss: 0.4866 - acc: 0.812 - ETA: 3:51 - loss: 0.4861 - acc: 0.812 - ETA: 3:50 - loss: 0.4859 - acc: 0.812 - ETA: 3:50 - loss: 0.4857 - acc: 0.812 - ETA: 3:49 - loss: 0.4853 - acc: 0.813 - ETA: 3:49 - loss: 0.4851 - acc: 0.813 - ETA: 3:48 - loss: 0.4849 - acc: 0.813 - ETA: 3:48 - loss: 0.4846 - acc: 0.813 - ETA: 3:47 - loss: 0.4841 - acc: 0.813 - ETA: 3:47 - loss: 0.4840 - acc: 0.813 - ETA: 3:47 - loss: 0.4836 - acc: 0.814 - ETA: 3:46 - loss: 0.4832 - acc: 0.814 - ETA: 3:46 - loss: 0.4828 - acc: 0.814 - ETA: 3:45 - loss: 0.4829 - acc: 0.814 - ETA: 3:45 - loss: 0.4826 - acc: 0.814 - ETA: 3:44 - loss: 0.4822 - acc: 0.814 - ETA: 3:44 - loss: 0.4819 - acc: 0.814 - ETA: 3:43 - loss: 0.4818 - acc: 0.814 - ETA: 3:43 - loss: 0.4818 - acc: 0.814 - ETA: 3:42 - loss: 0.4815 - acc: 0.815 - ETA: 3:42 - loss: 0.4814 - acc: 0.815 - ETA: 3:41 - loss: 0.4811 - acc: 0.815 - ETA: 3:41 - loss: 0.4811 - acc: 0.815 - ETA: 3:41 - loss: 0.4810 - acc: 0.815 - ETA: 3:40 - loss: 0.4804 - acc: 0.815 - ETA: 3:40 - loss: 0.4800 - acc: 0.815 - ETA: 3:39 - loss: 0.4799 - acc: 0.815 - ETA: 3:39 - loss: 0.4798 - acc: 0.816 - ETA: 3:38 - loss: 0.4794 - acc: 0.816 - ETA: 3:38 - loss: 0.4792 - acc: 0.816 - ETA: 3:37 - loss: 0.4790 - acc: 0.816 - ETA: 3:37 - loss: 0.4788 - acc: 0.816 - ETA: 3:36 - loss: 0.4787 - acc: 0.816 - ETA: 3:36 - loss: 0.4784 - acc: 0.816 - ETA: 3:36 - loss: 0.4783 - acc: 0.816 - ETA: 3:35 - loss: 0.4782 - acc: 0.816 - ETA: 3:35 - loss: 0.4779 - acc: 0.817 - ETA: 3:34 - loss: 0.4775 - acc: 0.817 - ETA: 3:34 - loss: 0.4773 - acc: 0.817 - ETA: 3:33 - loss: 0.4770 - acc: 0.817 - ETA: 3:33 - loss: 0.4766 - acc: 0.817 - ETA: 3:32 - loss: 0.4764 - acc: 0.817 - ETA: 3:32 - loss: 0.4762 - acc: 0.817 - ETA: 3:31 - loss: 0.4761 - acc: 0.817 - ETA: 3:31 - loss: 0.4758 - acc: 0.817 - ETA: 3:31 - loss: 0.4755 - acc: 0.818 - ETA: 3:30 - loss: 0.4752 - acc: 0.818 - ETA: 3:30 - loss: 0.4749 - acc: 0.818 - ETA: 3:29 - loss: 0.4748 - acc: 0.818 - ETA: 3:29 - loss: 0.4746 - acc: 0.818 - ETA: 3:28 - loss: 0.4744 - acc: 0.818 - ETA: 3:28 - loss: 0.4742 - acc: 0.818 - ETA: 3:27 - loss: 0.4741 - acc: 0.818 - ETA: 3:27 - loss: 0.4738 - acc: 0.818 - ETA: 3:26 - loss: 0.4735 - acc: 0.818 - ETA: 3:26 - loss: 0.4731 - acc: 0.818 - ETA: 3:25 - loss: 0.4731 - acc: 0.818 - ETA: 3:25 - loss: 0.4728 - acc: 0.819 - ETA: 3:24 - loss: 0.4725 - acc: 0.819 - ETA: 3:24 - loss: 0.4721 - acc: 0.819 - ETA: 3:24 - loss: 0.4719 - acc: 0.819 - ETA: 3:23 - loss: 0.4715 - acc: 0.819 - ETA: 3:23 - loss: 0.4712 - acc: 0.819 - ETA: 3:22 - loss: 0.4710 - acc: 0.819 - ETA: 3:22 - loss: 0.4708 - acc: 0.819 - ETA: 3:21 - loss: 0.4707 - acc: 0.819 - ETA: 3:21 - loss: 0.4705 - acc: 0.819 - ETA: 3:20 - loss: 0.4702 - acc: 0.820 - ETA: 3:20 - loss: 0.4704 - acc: 0.819 - ETA: 3:19 - loss: 0.4702 - acc: 0.820 - ETA: 3:19 - loss: 0.4699 - acc: 0.820 - ETA: 3:19 - loss: 0.4695 - acc: 0.820 - ETA: 3:18 - loss: 0.4692 - acc: 0.820 - ETA: 3:18 - loss: 0.4689 - acc: 0.820 - ETA: 3:17 - loss: 0.4686 - acc: 0.820 - ETA: 3:17 - loss: 0.4683 - acc: 0.820 - ETA: 3:16 - loss: 0.4681 - acc: 0.820 - ETA: 3:16 - loss: 0.4678 - acc: 0.821 - ETA: 3:16 - loss: 0.4676 - acc: 0.821 - ETA: 3:15 - loss: 0.4673 - acc: 0.821 - ETA: 3:15 - loss: 0.4670 - acc: 0.821 - ETA: 3:14 - loss: 0.4665 - acc: 0.821 - ETA: 3:14 - loss: 0.4661 - acc: 0.821 - ETA: 3:13 - loss: 0.4659 - acc: 0.821 - ETA: 3:13 - loss: 0.4656 - acc: 0.821 - ETA: 3:12 - loss: 0.4656 - acc: 0.821 - ETA: 3:12 - loss: 0.4653 - acc: 0.822 - ETA: 3:12 - loss: 0.4649 - acc: 0.822 - ETA: 3:11 - loss: 0.4646 - acc: 0.822 - ETA: 3:11 - loss: 0.4642 - acc: 0.822 - ETA: 3:10 - loss: 0.4639 - acc: 0.822 - ETA: 3:10 - loss: 0.4637 - acc: 0.822 - ETA: 3:09 - loss: 0.4634 - acc: 0.822 - ETA: 3:09 - loss: 0.4631 - acc: 0.823 - ETA: 3:08 - loss: 0.4632 - acc: 0.822 - ETA: 3:08 - loss: 0.4630 - acc: 0.822 - ETA: 3:08 - loss: 0.4629 - acc: 0.823 - ETA: 3:07 - loss: 0.4624 - acc: 0.823 - ETA: 3:07 - loss: 0.4621 - acc: 0.823 - ETA: 3:06 - loss: 0.4617 - acc: 0.823 - ETA: 3:06 - loss: 0.4612 - acc: 0.823 - ETA: 3:05 - loss: 0.4608 - acc: 0.823 - ETA: 3:05 - loss: 0.4607 - acc: 0.8238"
     ]
    },
    {
     "name": "stdout",
     "output_type": "stream",
     "text": [
      "32640/39116 [========================>.....] - ETA: 3:04 - loss: 0.4605 - acc: 0.823 - ETA: 3:04 - loss: 0.4601 - acc: 0.823 - ETA: 3:04 - loss: 0.4600 - acc: 0.824 - ETA: 3:03 - loss: 0.4596 - acc: 0.824 - ETA: 3:03 - loss: 0.4593 - acc: 0.824 - ETA: 3:02 - loss: 0.4590 - acc: 0.824 - ETA: 3:02 - loss: 0.4587 - acc: 0.824 - ETA: 3:01 - loss: 0.4584 - acc: 0.824 - ETA: 3:01 - loss: 0.4581 - acc: 0.824 - ETA: 3:00 - loss: 0.4580 - acc: 0.824 - ETA: 3:00 - loss: 0.4576 - acc: 0.824 - ETA: 2:59 - loss: 0.4573 - acc: 0.825 - ETA: 2:59 - loss: 0.4569 - acc: 0.825 - ETA: 2:59 - loss: 0.4566 - acc: 0.825 - ETA: 2:58 - loss: 0.4563 - acc: 0.825 - ETA: 2:58 - loss: 0.4559 - acc: 0.825 - ETA: 2:57 - loss: 0.4558 - acc: 0.825 - ETA: 2:57 - loss: 0.4557 - acc: 0.825 - ETA: 2:56 - loss: 0.4553 - acc: 0.825 - ETA: 2:56 - loss: 0.4552 - acc: 0.826 - ETA: 2:55 - loss: 0.4547 - acc: 0.826 - ETA: 2:55 - loss: 0.4546 - acc: 0.826 - ETA: 2:55 - loss: 0.4546 - acc: 0.826 - ETA: 2:54 - loss: 0.4548 - acc: 0.826 - ETA: 2:54 - loss: 0.4545 - acc: 0.826 - ETA: 2:53 - loss: 0.4542 - acc: 0.826 - ETA: 2:53 - loss: 0.4542 - acc: 0.826 - ETA: 2:52 - loss: 0.4542 - acc: 0.826 - ETA: 2:52 - loss: 0.4539 - acc: 0.826 - ETA: 2:51 - loss: 0.4536 - acc: 0.826 - ETA: 2:51 - loss: 0.4535 - acc: 0.826 - ETA: 2:51 - loss: 0.4532 - acc: 0.826 - ETA: 2:50 - loss: 0.4529 - acc: 0.827 - ETA: 2:50 - loss: 0.4530 - acc: 0.827 - ETA: 2:49 - loss: 0.4527 - acc: 0.827 - ETA: 2:49 - loss: 0.4524 - acc: 0.827 - ETA: 2:48 - loss: 0.4523 - acc: 0.827 - ETA: 2:48 - loss: 0.4521 - acc: 0.827 - ETA: 2:47 - loss: 0.4518 - acc: 0.827 - ETA: 2:47 - loss: 0.4515 - acc: 0.827 - ETA: 2:46 - loss: 0.4512 - acc: 0.827 - ETA: 2:46 - loss: 0.4510 - acc: 0.827 - ETA: 2:46 - loss: 0.4508 - acc: 0.827 - ETA: 2:45 - loss: 0.4504 - acc: 0.828 - ETA: 2:45 - loss: 0.4501 - acc: 0.828 - ETA: 2:44 - loss: 0.4499 - acc: 0.828 - ETA: 2:44 - loss: 0.4497 - acc: 0.828 - ETA: 2:43 - loss: 0.4494 - acc: 0.828 - ETA: 2:43 - loss: 0.4498 - acc: 0.828 - ETA: 2:42 - loss: 0.4494 - acc: 0.828 - ETA: 2:42 - loss: 0.4494 - acc: 0.828 - ETA: 2:41 - loss: 0.4491 - acc: 0.828 - ETA: 2:41 - loss: 0.4489 - acc: 0.828 - ETA: 2:40 - loss: 0.4486 - acc: 0.828 - ETA: 2:40 - loss: 0.4487 - acc: 0.829 - ETA: 2:40 - loss: 0.4487 - acc: 0.828 - ETA: 2:39 - loss: 0.4489 - acc: 0.828 - ETA: 2:39 - loss: 0.4485 - acc: 0.828 - ETA: 2:38 - loss: 0.4483 - acc: 0.829 - ETA: 2:38 - loss: 0.4482 - acc: 0.829 - ETA: 2:37 - loss: 0.4480 - acc: 0.829 - ETA: 2:37 - loss: 0.4478 - acc: 0.829 - ETA: 2:36 - loss: 0.4475 - acc: 0.829 - ETA: 2:36 - loss: 0.4473 - acc: 0.829 - ETA: 2:35 - loss: 0.4472 - acc: 0.829 - ETA: 2:35 - loss: 0.4469 - acc: 0.829 - ETA: 2:34 - loss: 0.4466 - acc: 0.829 - ETA: 2:34 - loss: 0.4464 - acc: 0.829 - ETA: 2:33 - loss: 0.4462 - acc: 0.830 - ETA: 2:33 - loss: 0.4458 - acc: 0.830 - ETA: 2:33 - loss: 0.4456 - acc: 0.830 - ETA: 2:32 - loss: 0.4454 - acc: 0.830 - ETA: 2:32 - loss: 0.4451 - acc: 0.830 - ETA: 2:31 - loss: 0.4448 - acc: 0.830 - ETA: 2:31 - loss: 0.4445 - acc: 0.830 - ETA: 2:30 - loss: 0.4443 - acc: 0.830 - ETA: 2:30 - loss: 0.4442 - acc: 0.830 - ETA: 2:29 - loss: 0.4440 - acc: 0.830 - ETA: 2:29 - loss: 0.4436 - acc: 0.831 - ETA: 2:29 - loss: 0.4434 - acc: 0.831 - ETA: 2:28 - loss: 0.4432 - acc: 0.831 - ETA: 2:28 - loss: 0.4430 - acc: 0.831 - ETA: 2:27 - loss: 0.4428 - acc: 0.831 - ETA: 2:27 - loss: 0.4424 - acc: 0.831 - ETA: 2:26 - loss: 0.4424 - acc: 0.831 - ETA: 2:26 - loss: 0.4420 - acc: 0.831 - ETA: 2:25 - loss: 0.4417 - acc: 0.831 - ETA: 2:25 - loss: 0.4413 - acc: 0.831 - ETA: 2:24 - loss: 0.4411 - acc: 0.832 - ETA: 2:24 - loss: 0.4409 - acc: 0.832 - ETA: 2:24 - loss: 0.4408 - acc: 0.832 - ETA: 2:23 - loss: 0.4406 - acc: 0.832 - ETA: 2:23 - loss: 0.4402 - acc: 0.832 - ETA: 2:22 - loss: 0.4400 - acc: 0.832 - ETA: 2:22 - loss: 0.4398 - acc: 0.832 - ETA: 2:21 - loss: 0.4396 - acc: 0.832 - ETA: 2:21 - loss: 0.4392 - acc: 0.832 - ETA: 2:20 - loss: 0.4388 - acc: 0.833 - ETA: 2:20 - loss: 0.4386 - acc: 0.833 - ETA: 2:19 - loss: 0.4384 - acc: 0.833 - ETA: 2:19 - loss: 0.4381 - acc: 0.833 - ETA: 2:19 - loss: 0.4378 - acc: 0.833 - ETA: 2:18 - loss: 0.4377 - acc: 0.833 - ETA: 2:18 - loss: 0.4377 - acc: 0.833 - ETA: 2:17 - loss: 0.4372 - acc: 0.833 - ETA: 2:17 - loss: 0.4369 - acc: 0.833 - ETA: 2:16 - loss: 0.4366 - acc: 0.833 - ETA: 2:16 - loss: 0.4363 - acc: 0.834 - ETA: 2:15 - loss: 0.4364 - acc: 0.834 - ETA: 2:15 - loss: 0.4364 - acc: 0.834 - ETA: 2:14 - loss: 0.4360 - acc: 0.834 - ETA: 2:14 - loss: 0.4356 - acc: 0.834 - ETA: 2:13 - loss: 0.4353 - acc: 0.834 - ETA: 2:13 - loss: 0.4350 - acc: 0.834 - ETA: 2:13 - loss: 0.4346 - acc: 0.834 - ETA: 2:12 - loss: 0.4344 - acc: 0.834 - ETA: 2:12 - loss: 0.4342 - acc: 0.835 - ETA: 2:11 - loss: 0.4339 - acc: 0.835 - ETA: 2:11 - loss: 0.4336 - acc: 0.835 - ETA: 2:10 - loss: 0.4333 - acc: 0.835 - ETA: 2:10 - loss: 0.4330 - acc: 0.835 - ETA: 2:09 - loss: 0.4329 - acc: 0.835 - ETA: 2:09 - loss: 0.4327 - acc: 0.835 - ETA: 2:08 - loss: 0.4325 - acc: 0.835 - ETA: 2:08 - loss: 0.4323 - acc: 0.835 - ETA: 2:07 - loss: 0.4323 - acc: 0.835 - ETA: 2:07 - loss: 0.4320 - acc: 0.835 - ETA: 2:07 - loss: 0.4320 - acc: 0.835 - ETA: 2:06 - loss: 0.4318 - acc: 0.835 - ETA: 2:06 - loss: 0.4318 - acc: 0.836 - ETA: 2:05 - loss: 0.4315 - acc: 0.836 - ETA: 2:05 - loss: 0.4312 - acc: 0.836 - ETA: 2:04 - loss: 0.4310 - acc: 0.836 - ETA: 2:04 - loss: 0.4310 - acc: 0.836 - ETA: 2:03 - loss: 0.4307 - acc: 0.836 - ETA: 2:03 - loss: 0.4305 - acc: 0.836 - ETA: 2:02 - loss: 0.4302 - acc: 0.836 - ETA: 2:02 - loss: 0.4300 - acc: 0.836 - ETA: 2:02 - loss: 0.4297 - acc: 0.836 - ETA: 2:01 - loss: 0.4295 - acc: 0.836 - ETA: 2:01 - loss: 0.4293 - acc: 0.837 - ETA: 2:00 - loss: 0.4292 - acc: 0.837 - ETA: 2:00 - loss: 0.4290 - acc: 0.837 - ETA: 1:59 - loss: 0.4288 - acc: 0.837 - ETA: 1:59 - loss: 0.4287 - acc: 0.837 - ETA: 1:58 - loss: 0.4286 - acc: 0.837 - ETA: 1:58 - loss: 0.4284 - acc: 0.837 - ETA: 1:57 - loss: 0.4280 - acc: 0.837 - ETA: 1:57 - loss: 0.4279 - acc: 0.837 - ETA: 1:56 - loss: 0.4278 - acc: 0.837 - ETA: 1:56 - loss: 0.4277 - acc: 0.837 - ETA: 1:56 - loss: 0.4275 - acc: 0.837 - ETA: 1:55 - loss: 0.4273 - acc: 0.837 - ETA: 1:55 - loss: 0.4273 - acc: 0.837 - ETA: 1:54 - loss: 0.4270 - acc: 0.837 - ETA: 1:54 - loss: 0.4268 - acc: 0.838 - ETA: 1:53 - loss: 0.4266 - acc: 0.838 - ETA: 1:53 - loss: 0.4265 - acc: 0.838 - ETA: 1:52 - loss: 0.4262 - acc: 0.838 - ETA: 1:52 - loss: 0.4261 - acc: 0.838 - ETA: 1:51 - loss: 0.4257 - acc: 0.838 - ETA: 1:51 - loss: 0.4254 - acc: 0.838 - ETA: 1:50 - loss: 0.4251 - acc: 0.838 - ETA: 1:50 - loss: 0.4250 - acc: 0.838 - ETA: 1:50 - loss: 0.4250 - acc: 0.838 - ETA: 1:49 - loss: 0.4247 - acc: 0.838 - ETA: 1:49 - loss: 0.4245 - acc: 0.838 - ETA: 1:48 - loss: 0.4244 - acc: 0.838 - ETA: 1:48 - loss: 0.4242 - acc: 0.838 - ETA: 1:47 - loss: 0.4239 - acc: 0.839 - ETA: 1:47 - loss: 0.4236 - acc: 0.839 - ETA: 1:46 - loss: 0.4235 - acc: 0.839 - ETA: 1:46 - loss: 0.4235 - acc: 0.839 - ETA: 1:45 - loss: 0.4233 - acc: 0.839 - ETA: 1:45 - loss: 0.4234 - acc: 0.839 - ETA: 1:45 - loss: 0.4231 - acc: 0.839 - ETA: 1:44 - loss: 0.4228 - acc: 0.839 - ETA: 1:44 - loss: 0.4227 - acc: 0.839 - ETA: 1:43 - loss: 0.4226 - acc: 0.839 - ETA: 1:43 - loss: 0.4224 - acc: 0.839 - ETA: 1:42 - loss: 0.4221 - acc: 0.839 - ETA: 1:42 - loss: 0.4219 - acc: 0.839 - ETA: 1:41 - loss: 0.4217 - acc: 0.839 - ETA: 1:41 - loss: 0.4216 - acc: 0.840 - ETA: 1:41 - loss: 0.4216 - acc: 0.840 - ETA: 1:40 - loss: 0.4215 - acc: 0.840 - ETA: 1:40 - loss: 0.4212 - acc: 0.840 - ETA: 1:39 - loss: 0.4212 - acc: 0.840 - ETA: 1:39 - loss: 0.4210 - acc: 0.840 - ETA: 1:38 - loss: 0.4208 - acc: 0.840 - ETA: 1:38 - loss: 0.4206 - acc: 0.840 - ETA: 1:37 - loss: 0.4203 - acc: 0.840 - ETA: 1:37 - loss: 0.4202 - acc: 0.840 - ETA: 1:36 - loss: 0.4201 - acc: 0.840 - ETA: 1:36 - loss: 0.4200 - acc: 0.840 - ETA: 1:36 - loss: 0.4198 - acc: 0.840 - ETA: 1:35 - loss: 0.4197 - acc: 0.840 - ETA: 1:35 - loss: 0.4195 - acc: 0.841 - ETA: 1:34 - loss: 0.4192 - acc: 0.841 - ETA: 1:34 - loss: 0.4189 - acc: 0.841 - ETA: 1:33 - loss: 0.4188 - acc: 0.841 - ETA: 1:33 - loss: 0.4187 - acc: 0.841 - ETA: 1:32 - loss: 0.4183 - acc: 0.841 - ETA: 1:32 - loss: 0.4182 - acc: 0.8415"
     ]
    },
    {
     "name": "stdout",
     "output_type": "stream",
     "text": [
      "39116/39116 [==============================] - ETA: 1:31 - loss: 0.4181 - acc: 0.841 - ETA: 1:31 - loss: 0.4178 - acc: 0.841 - ETA: 1:30 - loss: 0.4176 - acc: 0.841 - ETA: 1:30 - loss: 0.4174 - acc: 0.841 - ETA: 1:30 - loss: 0.4171 - acc: 0.841 - ETA: 1:29 - loss: 0.4169 - acc: 0.842 - ETA: 1:29 - loss: 0.4167 - acc: 0.842 - ETA: 1:28 - loss: 0.4165 - acc: 0.842 - ETA: 1:28 - loss: 0.4164 - acc: 0.842 - ETA: 1:27 - loss: 0.4163 - acc: 0.842 - ETA: 1:27 - loss: 0.4163 - acc: 0.842 - ETA: 1:26 - loss: 0.4161 - acc: 0.842 - ETA: 1:26 - loss: 0.4159 - acc: 0.842 - ETA: 1:25 - loss: 0.4157 - acc: 0.842 - ETA: 1:25 - loss: 0.4156 - acc: 0.842 - ETA: 1:25 - loss: 0.4154 - acc: 0.842 - ETA: 1:24 - loss: 0.4153 - acc: 0.842 - ETA: 1:24 - loss: 0.4151 - acc: 0.842 - ETA: 1:23 - loss: 0.4149 - acc: 0.843 - ETA: 1:23 - loss: 0.4147 - acc: 0.843 - ETA: 1:22 - loss: 0.4144 - acc: 0.843 - ETA: 1:22 - loss: 0.4142 - acc: 0.843 - ETA: 1:21 - loss: 0.4139 - acc: 0.843 - ETA: 1:21 - loss: 0.4136 - acc: 0.843 - ETA: 1:20 - loss: 0.4137 - acc: 0.843 - ETA: 1:20 - loss: 0.4136 - acc: 0.843 - ETA: 1:19 - loss: 0.4134 - acc: 0.843 - ETA: 1:19 - loss: 0.4133 - acc: 0.843 - ETA: 1:19 - loss: 0.4130 - acc: 0.843 - ETA: 1:18 - loss: 0.4128 - acc: 0.843 - ETA: 1:18 - loss: 0.4128 - acc: 0.843 - ETA: 1:17 - loss: 0.4127 - acc: 0.843 - ETA: 1:17 - loss: 0.4126 - acc: 0.843 - ETA: 1:16 - loss: 0.4123 - acc: 0.843 - ETA: 1:16 - loss: 0.4123 - acc: 0.844 - ETA: 1:15 - loss: 0.4122 - acc: 0.844 - ETA: 1:15 - loss: 0.4120 - acc: 0.844 - ETA: 1:14 - loss: 0.4118 - acc: 0.844 - ETA: 1:14 - loss: 0.4116 - acc: 0.844 - ETA: 1:13 - loss: 0.4113 - acc: 0.844 - ETA: 1:13 - loss: 0.4111 - acc: 0.844 - ETA: 1:13 - loss: 0.4110 - acc: 0.844 - ETA: 1:12 - loss: 0.4108 - acc: 0.844 - ETA: 1:12 - loss: 0.4107 - acc: 0.844 - ETA: 1:11 - loss: 0.4107 - acc: 0.844 - ETA: 1:11 - loss: 0.4105 - acc: 0.844 - ETA: 1:10 - loss: 0.4103 - acc: 0.844 - ETA: 1:10 - loss: 0.4100 - acc: 0.844 - ETA: 1:09 - loss: 0.4099 - acc: 0.844 - ETA: 1:09 - loss: 0.4098 - acc: 0.844 - ETA: 1:08 - loss: 0.4096 - acc: 0.845 - ETA: 1:08 - loss: 0.4096 - acc: 0.845 - ETA: 1:08 - loss: 0.4093 - acc: 0.845 - ETA: 1:07 - loss: 0.4093 - acc: 0.845 - ETA: 1:07 - loss: 0.4090 - acc: 0.845 - ETA: 1:06 - loss: 0.4089 - acc: 0.845 - ETA: 1:06 - loss: 0.4087 - acc: 0.845 - ETA: 1:05 - loss: 0.4085 - acc: 0.845 - ETA: 1:05 - loss: 0.4084 - acc: 0.845 - ETA: 1:04 - loss: 0.4081 - acc: 0.845 - ETA: 1:04 - loss: 0.4078 - acc: 0.845 - ETA: 1:03 - loss: 0.4077 - acc: 0.845 - ETA: 1:03 - loss: 0.4076 - acc: 0.845 - ETA: 1:03 - loss: 0.4073 - acc: 0.846 - ETA: 1:02 - loss: 0.4070 - acc: 0.846 - ETA: 1:02 - loss: 0.4068 - acc: 0.846 - ETA: 1:01 - loss: 0.4065 - acc: 0.846 - ETA: 1:01 - loss: 0.4064 - acc: 0.846 - ETA: 1:00 - loss: 0.4062 - acc: 0.846 - ETA: 1:00 - loss: 0.4060 - acc: 0.846 - ETA: 59s - loss: 0.4058 - acc: 0.846 - ETA: 59s - loss: 0.4055 - acc: 0.84 - ETA: 58s - loss: 0.4052 - acc: 0.84 - ETA: 58s - loss: 0.4051 - acc: 0.84 - ETA: 57s - loss: 0.4050 - acc: 0.84 - ETA: 57s - loss: 0.4050 - acc: 0.84 - ETA: 57s - loss: 0.4049 - acc: 0.84 - ETA: 56s - loss: 0.4048 - acc: 0.84 - ETA: 56s - loss: 0.4045 - acc: 0.84 - ETA: 55s - loss: 0.4044 - acc: 0.84 - ETA: 55s - loss: 0.4041 - acc: 0.84 - ETA: 54s - loss: 0.4038 - acc: 0.84 - ETA: 54s - loss: 0.4036 - acc: 0.84 - ETA: 53s - loss: 0.4036 - acc: 0.84 - ETA: 53s - loss: 0.4035 - acc: 0.84 - ETA: 52s - loss: 0.4035 - acc: 0.84 - ETA: 52s - loss: 0.4032 - acc: 0.84 - ETA: 52s - loss: 0.4030 - acc: 0.84 - ETA: 51s - loss: 0.4027 - acc: 0.84 - ETA: 51s - loss: 0.4026 - acc: 0.84 - ETA: 50s - loss: 0.4025 - acc: 0.84 - ETA: 50s - loss: 0.4022 - acc: 0.84 - ETA: 49s - loss: 0.4020 - acc: 0.84 - ETA: 49s - loss: 0.4020 - acc: 0.84 - ETA: 48s - loss: 0.4018 - acc: 0.84 - ETA: 48s - loss: 0.4015 - acc: 0.84 - ETA: 47s - loss: 0.4015 - acc: 0.84 - ETA: 47s - loss: 0.4014 - acc: 0.84 - ETA: 47s - loss: 0.4013 - acc: 0.84 - ETA: 46s - loss: 0.4011 - acc: 0.84 - ETA: 46s - loss: 0.4009 - acc: 0.84 - ETA: 45s - loss: 0.4008 - acc: 0.84 - ETA: 45s - loss: 0.4007 - acc: 0.84 - ETA: 44s - loss: 0.4005 - acc: 0.84 - ETA: 44s - loss: 0.4003 - acc: 0.84 - ETA: 43s - loss: 0.4001 - acc: 0.84 - ETA: 43s - loss: 0.3999 - acc: 0.84 - ETA: 42s - loss: 0.3999 - acc: 0.84 - ETA: 42s - loss: 0.3997 - acc: 0.84 - ETA: 41s - loss: 0.3996 - acc: 0.84 - ETA: 41s - loss: 0.3994 - acc: 0.84 - ETA: 41s - loss: 0.3992 - acc: 0.84 - ETA: 40s - loss: 0.3990 - acc: 0.84 - ETA: 40s - loss: 0.3989 - acc: 0.84 - ETA: 39s - loss: 0.3988 - acc: 0.84 - ETA: 39s - loss: 0.3986 - acc: 0.84 - ETA: 38s - loss: 0.3984 - acc: 0.84 - ETA: 38s - loss: 0.3984 - acc: 0.84 - ETA: 37s - loss: 0.3982 - acc: 0.84 - ETA: 37s - loss: 0.3981 - acc: 0.84 - ETA: 36s - loss: 0.3980 - acc: 0.85 - ETA: 36s - loss: 0.3978 - acc: 0.85 - ETA: 36s - loss: 0.3975 - acc: 0.85 - ETA: 35s - loss: 0.3975 - acc: 0.85 - ETA: 35s - loss: 0.3975 - acc: 0.85 - ETA: 34s - loss: 0.3974 - acc: 0.85 - ETA: 34s - loss: 0.3973 - acc: 0.85 - ETA: 33s - loss: 0.3972 - acc: 0.85 - ETA: 33s - loss: 0.3970 - acc: 0.85 - ETA: 32s - loss: 0.3968 - acc: 0.85 - ETA: 32s - loss: 0.3966 - acc: 0.85 - ETA: 31s - loss: 0.3965 - acc: 0.85 - ETA: 31s - loss: 0.3964 - acc: 0.85 - ETA: 31s - loss: 0.3963 - acc: 0.85 - ETA: 30s - loss: 0.3960 - acc: 0.85 - ETA: 30s - loss: 0.3957 - acc: 0.85 - ETA: 29s - loss: 0.3957 - acc: 0.85 - ETA: 29s - loss: 0.3956 - acc: 0.85 - ETA: 28s - loss: 0.3954 - acc: 0.85 - ETA: 28s - loss: 0.3952 - acc: 0.85 - ETA: 27s - loss: 0.3950 - acc: 0.85 - ETA: 27s - loss: 0.3948 - acc: 0.85 - ETA: 26s - loss: 0.3946 - acc: 0.85 - ETA: 26s - loss: 0.3944 - acc: 0.85 - ETA: 26s - loss: 0.3943 - acc: 0.85 - ETA: 25s - loss: 0.3942 - acc: 0.85 - ETA: 25s - loss: 0.3940 - acc: 0.85 - ETA: 24s - loss: 0.3937 - acc: 0.85 - ETA: 24s - loss: 0.3934 - acc: 0.85 - ETA: 23s - loss: 0.3933 - acc: 0.85 - ETA: 23s - loss: 0.3931 - acc: 0.85 - ETA: 22s - loss: 0.3930 - acc: 0.85 - ETA: 22s - loss: 0.3931 - acc: 0.85 - ETA: 21s - loss: 0.3929 - acc: 0.85 - ETA: 21s - loss: 0.3926 - acc: 0.85 - ETA: 21s - loss: 0.3926 - acc: 0.85 - ETA: 20s - loss: 0.3925 - acc: 0.85 - ETA: 20s - loss: 0.3923 - acc: 0.85 - ETA: 19s - loss: 0.3921 - acc: 0.85 - ETA: 19s - loss: 0.3918 - acc: 0.85 - ETA: 18s - loss: 0.3916 - acc: 0.85 - ETA: 18s - loss: 0.3914 - acc: 0.85 - ETA: 17s - loss: 0.3913 - acc: 0.85 - ETA: 17s - loss: 0.3911 - acc: 0.85 - ETA: 16s - loss: 0.3910 - acc: 0.85 - ETA: 16s - loss: 0.3909 - acc: 0.85 - ETA: 16s - loss: 0.3909 - acc: 0.85 - ETA: 15s - loss: 0.3908 - acc: 0.85 - ETA: 15s - loss: 0.3905 - acc: 0.85 - ETA: 14s - loss: 0.3904 - acc: 0.85 - ETA: 14s - loss: 0.3902 - acc: 0.85 - ETA: 13s - loss: 0.3900 - acc: 0.85 - ETA: 13s - loss: 0.3899 - acc: 0.85 - ETA: 12s - loss: 0.3898 - acc: 0.85 - ETA: 12s - loss: 0.3896 - acc: 0.85 - ETA: 11s - loss: 0.3895 - acc: 0.85 - ETA: 11s - loss: 0.3893 - acc: 0.85 - ETA: 11s - loss: 0.3891 - acc: 0.85 - ETA: 10s - loss: 0.3888 - acc: 0.85 - ETA: 10s - loss: 0.3887 - acc: 0.85 - ETA: 9s - loss: 0.3884 - acc: 0.8539 - ETA: 9s - loss: 0.3882 - acc: 0.854 - ETA: 8s - loss: 0.3880 - acc: 0.854 - ETA: 8s - loss: 0.3879 - acc: 0.854 - ETA: 7s - loss: 0.3878 - acc: 0.854 - ETA: 7s - loss: 0.3875 - acc: 0.854 - ETA: 6s - loss: 0.3874 - acc: 0.854 - ETA: 6s - loss: 0.3873 - acc: 0.854 - ETA: 6s - loss: 0.3872 - acc: 0.854 - ETA: 5s - loss: 0.3871 - acc: 0.854 - ETA: 5s - loss: 0.3868 - acc: 0.854 - ETA: 4s - loss: 0.3866 - acc: 0.854 - ETA: 4s - loss: 0.3864 - acc: 0.854 - ETA: 3s - loss: 0.3863 - acc: 0.854 - ETA: 3s - loss: 0.3862 - acc: 0.854 - ETA: 2s - loss: 0.3860 - acc: 0.854 - ETA: 2s - loss: 0.3858 - acc: 0.855 - ETA: 1s - loss: 0.3856 - acc: 0.855 - ETA: 1s - loss: 0.3854 - acc: 0.855 - ETA: 1s - loss: 0.3852 - acc: 0.855 - ETA: 0s - loss: 0.3851 - acc: 0.855 - ETA: 0s - loss: 0.3850 - acc: 0.855 - 602s 15ms/step - loss: 0.3850 - acc: 0.8552 - val_loss: 0.1437 - val_acc: 0.9519\n"
     ]
    },
    {
     "data": {
      "text/plain": [
       "<keras.callbacks.History at 0x1d964fe0358>"
      ]
     },
     "execution_count": 13,
     "metadata": {},
     "output_type": "execute_result"
    }
   ],
   "source": [
    "# Training the model\n",
    "\n",
    "model.fit(X_train, y_train, epochs=1, validation_data=(X_test, y_test))"
   ]
  },
  {
   "cell_type": "code",
   "execution_count": 14,
   "metadata": {},
   "outputs": [],
   "source": [
    "# Importing Test Dataset labels (images)\n",
    "\n",
    "path = \"C:/Users/andre/OneDrive/Ambiente de Trabalho/Data Science/Deeper Systems/test.rotfaces/test\"\n",
    "test_labes = [f for f in listdir(path) if isfile(join(path, f))]"
   ]
  },
  {
   "cell_type": "code",
   "execution_count": 15,
   "metadata": {},
   "outputs": [],
   "source": [
    "test_labes = pd.DataFrame(test_labes)"
   ]
  },
  {
   "cell_type": "code",
   "execution_count": 16,
   "metadata": {
    "scrolled": true
   },
   "outputs": [],
   "source": [
    "test_labes.columns = ['fn']"
   ]
  },
  {
   "cell_type": "code",
   "execution_count": 17,
   "metadata": {},
   "outputs": [],
   "source": [
    "name_test = test_labes"
   ]
  },
  {
   "cell_type": "code",
   "execution_count": 18,
   "metadata": {
    "scrolled": true
   },
   "outputs": [
    {
     "name": "stderr",
     "output_type": "stream",
     "text": [
      "100%|█████████████████████████████████████████████████████████████████████████████| 5361/5361 [00:06<00:00, 858.50it/s]\n"
     ]
    }
   ],
   "source": [
    "# Importing Test Dataset (images)\n",
    "\n",
    "test_image = []\n",
    "for i in tqdm(range(test_labes.shape[0])):\n",
    "    img = image.load_img('C:/Users/andre/OneDrive/Ambiente de Trabalho/Data Science/Deeper Systems/test.rotfaces/test/'+test_labes['fn'][i], target_size=(64,64,1), grayscale=True)\n",
    "    img = image.img_to_array(img)\n",
    "    img = img/255\n",
    "    test_image.append(img)\n",
    "test = np.array(test_image)"
   ]
  },
  {
   "cell_type": "code",
   "execution_count": 19,
   "metadata": {},
   "outputs": [],
   "source": [
    "# making predictions\n",
    "\n",
    "prediction = model.predict_classes(test)"
   ]
  },
  {
   "cell_type": "code",
   "execution_count": 20,
   "metadata": {},
   "outputs": [],
   "source": [
    "# Function inverse_modify, to change labels from numbers to strings\n",
    "\n",
    "def inverse_modify(label):\n",
    "    if label == 0:\n",
    "        label = 'rotated_left'\n",
    "    elif label == 1:\n",
    "        label = 'rotated_right'\n",
    "    elif label == 2:\n",
    "        label = 'upside_down'\n",
    "    elif label == 3:\n",
    "        label = 'upright'\n",
    "    return label"
   ]
  },
  {
   "cell_type": "code",
   "execution_count": 21,
   "metadata": {},
   "outputs": [],
   "source": [
    "f_inverse_modify = np.vectorize(inverse_modify)"
   ]
  },
  {
   "cell_type": "code",
   "execution_count": 22,
   "metadata": {},
   "outputs": [],
   "source": [
    "y_test2 = f_inverse_modify(prediction)"
   ]
  },
  {
   "cell_type": "code",
   "execution_count": 23,
   "metadata": {},
   "outputs": [],
   "source": [
    "# Converting a numpy.array to a pandas.dataframe\n",
    "\n",
    "y_test3 = pd.DataFrame(y_test2)"
   ]
  },
  {
   "cell_type": "code",
   "execution_count": 24,
   "metadata": {
    "scrolled": true
   },
   "outputs": [],
   "source": [
    "y_test3.columns = ['label']"
   ]
  },
  {
   "cell_type": "code",
   "execution_count": 25,
   "metadata": {
    "scrolled": true
   },
   "outputs": [],
   "source": [
    "name_test2 = name_test.insert(1, \"label\", y_test3)"
   ]
  },
  {
   "cell_type": "code",
   "execution_count": 26,
   "metadata": {
    "scrolled": true
   },
   "outputs": [
    {
     "data": {
      "text/html": [
       "<div>\n",
       "<style scoped>\n",
       "    .dataframe tbody tr th:only-of-type {\n",
       "        vertical-align: middle;\n",
       "    }\n",
       "\n",
       "    .dataframe tbody tr th {\n",
       "        vertical-align: top;\n",
       "    }\n",
       "\n",
       "    .dataframe thead th {\n",
       "        text-align: right;\n",
       "    }\n",
       "</style>\n",
       "<table border=\"1\" class=\"dataframe\">\n",
       "  <thead>\n",
       "    <tr style=\"text-align: right;\">\n",
       "      <th></th>\n",
       "      <th>fn</th>\n",
       "      <th>label</th>\n",
       "    </tr>\n",
       "  </thead>\n",
       "  <tbody>\n",
       "    <tr>\n",
       "      <th>0</th>\n",
       "      <td>90-10184590_1979-06-16_2006.jpg</td>\n",
       "      <td>rotated_left</td>\n",
       "    </tr>\n",
       "    <tr>\n",
       "      <th>1</th>\n",
       "      <td>90-1019890_1931-08-10_1978.jpg</td>\n",
       "      <td>upright</td>\n",
       "    </tr>\n",
       "    <tr>\n",
       "      <th>2</th>\n",
       "      <td>90-10241990_1984-11-28_2007.jpg</td>\n",
       "      <td>rotated_right</td>\n",
       "    </tr>\n",
       "    <tr>\n",
       "      <th>3</th>\n",
       "      <td>90-102690_1966-09-09_2011.jpg</td>\n",
       "      <td>rotated_right</td>\n",
       "    </tr>\n",
       "    <tr>\n",
       "      <th>4</th>\n",
       "      <td>90-10303590_1983-01-26_2010.jpg</td>\n",
       "      <td>rotated_right</td>\n",
       "    </tr>\n",
       "    <tr>\n",
       "      <th>5</th>\n",
       "      <td>90-10311690_1947-04-14_1940.jpg</td>\n",
       "      <td>rotated_right</td>\n",
       "    </tr>\n",
       "    <tr>\n",
       "      <th>6</th>\n",
       "      <td>90-10504790_1986-07-14_2014.jpg</td>\n",
       "      <td>rotated_left</td>\n",
       "    </tr>\n",
       "    <tr>\n",
       "      <th>7</th>\n",
       "      <td>90-10506490_1966-03-23_2012.jpg</td>\n",
       "      <td>rotated_left</td>\n",
       "    </tr>\n",
       "    <tr>\n",
       "      <th>8</th>\n",
       "      <td>90-10520890_1968-11-15_2011.jpg</td>\n",
       "      <td>upside_down</td>\n",
       "    </tr>\n",
       "    <tr>\n",
       "      <th>9</th>\n",
       "      <td>90-1060790_1925-06-20_1953.jpg</td>\n",
       "      <td>upright</td>\n",
       "    </tr>\n",
       "    <tr>\n",
       "      <th>10</th>\n",
       "      <td>90-10704590_1977-06-16_2007.jpg</td>\n",
       "      <td>rotated_left</td>\n",
       "    </tr>\n",
       "    <tr>\n",
       "      <th>11</th>\n",
       "      <td>90-10840090_1903-06-26_1944.jpg</td>\n",
       "      <td>upright</td>\n",
       "    </tr>\n",
       "    <tr>\n",
       "      <th>12</th>\n",
       "      <td>90-1084490_1987-07-31_2013.jpg</td>\n",
       "      <td>upright</td>\n",
       "    </tr>\n",
       "    <tr>\n",
       "      <th>13</th>\n",
       "      <td>90-1095190_1957-09-04_2012.jpg</td>\n",
       "      <td>upright</td>\n",
       "    </tr>\n",
       "    <tr>\n",
       "      <th>14</th>\n",
       "      <td>90-10988990_1984-11-05_2009.jpg</td>\n",
       "      <td>upside_down</td>\n",
       "    </tr>\n",
       "    <tr>\n",
       "      <th>15</th>\n",
       "      <td>90-1102790_1981-01-16_2002.jpg</td>\n",
       "      <td>upside_down</td>\n",
       "    </tr>\n",
       "    <tr>\n",
       "      <th>16</th>\n",
       "      <td>90-11068090_1964-05-19_2007.jpg</td>\n",
       "      <td>upright</td>\n",
       "    </tr>\n",
       "    <tr>\n",
       "      <th>17</th>\n",
       "      <td>90-11166990_1909-06-13_1940.jpg</td>\n",
       "      <td>upside_down</td>\n",
       "    </tr>\n",
       "    <tr>\n",
       "      <th>18</th>\n",
       "      <td>90-11173690_1985-05-22_2011.jpg</td>\n",
       "      <td>rotated_right</td>\n",
       "    </tr>\n",
       "    <tr>\n",
       "      <th>19</th>\n",
       "      <td>90-1123490_1976-10-25_2006.jpg</td>\n",
       "      <td>rotated_left</td>\n",
       "    </tr>\n",
       "    <tr>\n",
       "      <th>20</th>\n",
       "      <td>90-11258490_1952-02-17_1972.jpg</td>\n",
       "      <td>rotated_right</td>\n",
       "    </tr>\n",
       "    <tr>\n",
       "      <th>21</th>\n",
       "      <td>90-1126590_1982-03-25_2015.jpg</td>\n",
       "      <td>upright</td>\n",
       "    </tr>\n",
       "    <tr>\n",
       "      <th>22</th>\n",
       "      <td>90-11275490_1979-05-07_2009.jpg</td>\n",
       "      <td>upright</td>\n",
       "    </tr>\n",
       "    <tr>\n",
       "      <th>23</th>\n",
       "      <td>90-11409190_1982-02-25_2010.jpg</td>\n",
       "      <td>upside_down</td>\n",
       "    </tr>\n",
       "    <tr>\n",
       "      <th>24</th>\n",
       "      <td>90-11422290_1960-05-10_1960.jpg</td>\n",
       "      <td>upright</td>\n",
       "    </tr>\n",
       "    <tr>\n",
       "      <th>25</th>\n",
       "      <td>90-11481790_1959-10-23_2014.jpg</td>\n",
       "      <td>rotated_left</td>\n",
       "    </tr>\n",
       "    <tr>\n",
       "      <th>26</th>\n",
       "      <td>90-11499190_1966-06-30_2011.jpg</td>\n",
       "      <td>upside_down</td>\n",
       "    </tr>\n",
       "    <tr>\n",
       "      <th>27</th>\n",
       "      <td>90-11652990_1989-04-26_2008.jpg</td>\n",
       "      <td>rotated_right</td>\n",
       "    </tr>\n",
       "    <tr>\n",
       "      <th>28</th>\n",
       "      <td>90-11750090_1944-02-25_2011.jpg</td>\n",
       "      <td>rotated_right</td>\n",
       "    </tr>\n",
       "    <tr>\n",
       "      <th>29</th>\n",
       "      <td>90-1179390_1973-08-08_2008.jpg</td>\n",
       "      <td>upright</td>\n",
       "    </tr>\n",
       "    <tr>\n",
       "      <th>...</th>\n",
       "      <td>...</td>\n",
       "      <td>...</td>\n",
       "    </tr>\n",
       "    <tr>\n",
       "      <th>5331</th>\n",
       "      <td>99-774599_1933-08-17_1956.jpg</td>\n",
       "      <td>rotated_left</td>\n",
       "    </tr>\n",
       "    <tr>\n",
       "      <th>5332</th>\n",
       "      <td>99-780999_1975-06-05_2009.jpg</td>\n",
       "      <td>upside_down</td>\n",
       "    </tr>\n",
       "    <tr>\n",
       "      <th>5333</th>\n",
       "      <td>99-7910899_1981-09-20_2008.jpg</td>\n",
       "      <td>rotated_left</td>\n",
       "    </tr>\n",
       "    <tr>\n",
       "      <th>5334</th>\n",
       "      <td>99-8099_1969-01-14_2011.jpg</td>\n",
       "      <td>rotated_right</td>\n",
       "    </tr>\n",
       "    <tr>\n",
       "      <th>5335</th>\n",
       "      <td>99-8157399_1984-01-21_2011.jpg</td>\n",
       "      <td>upright</td>\n",
       "    </tr>\n",
       "    <tr>\n",
       "      <th>5336</th>\n",
       "      <td>99-8183599_1985-02-13_2015.jpg</td>\n",
       "      <td>rotated_right</td>\n",
       "    </tr>\n",
       "    <tr>\n",
       "      <th>5337</th>\n",
       "      <td>99-8389199_1890-07-20_1956.jpg</td>\n",
       "      <td>upside_down</td>\n",
       "    </tr>\n",
       "    <tr>\n",
       "      <th>5338</th>\n",
       "      <td>99-8409499_1982-03-05_2007.jpg</td>\n",
       "      <td>rotated_left</td>\n",
       "    </tr>\n",
       "    <tr>\n",
       "      <th>5339</th>\n",
       "      <td>99-8419699_1973-07-02_2014.jpg</td>\n",
       "      <td>upside_down</td>\n",
       "    </tr>\n",
       "    <tr>\n",
       "      <th>5340</th>\n",
       "      <td>99-8425799_1959-04-11_2011.jpg</td>\n",
       "      <td>rotated_right</td>\n",
       "    </tr>\n",
       "    <tr>\n",
       "      <th>5341</th>\n",
       "      <td>99-8440399_1983-03-15_2012.jpg</td>\n",
       "      <td>upright</td>\n",
       "    </tr>\n",
       "    <tr>\n",
       "      <th>5342</th>\n",
       "      <td>99-8551399_1972-02-25_2008.jpg</td>\n",
       "      <td>upright</td>\n",
       "    </tr>\n",
       "    <tr>\n",
       "      <th>5343</th>\n",
       "      <td>99-860999_1964-12-11_2002.jpg</td>\n",
       "      <td>upside_down</td>\n",
       "    </tr>\n",
       "    <tr>\n",
       "      <th>5344</th>\n",
       "      <td>99-880099_1948-07-16_2014.jpg</td>\n",
       "      <td>rotated_left</td>\n",
       "    </tr>\n",
       "    <tr>\n",
       "      <th>5345</th>\n",
       "      <td>99-884499_1915-01-24_1971.jpg</td>\n",
       "      <td>rotated_left</td>\n",
       "    </tr>\n",
       "    <tr>\n",
       "      <th>5346</th>\n",
       "      <td>99-9178399_1983-06-28_2008.jpg</td>\n",
       "      <td>upside_down</td>\n",
       "    </tr>\n",
       "    <tr>\n",
       "      <th>5347</th>\n",
       "      <td>99-923299_1966-12-24_2011.jpg</td>\n",
       "      <td>rotated_right</td>\n",
       "    </tr>\n",
       "    <tr>\n",
       "      <th>5348</th>\n",
       "      <td>99-9282599_1981-05-05_2013.jpg</td>\n",
       "      <td>rotated_right</td>\n",
       "    </tr>\n",
       "    <tr>\n",
       "      <th>5349</th>\n",
       "      <td>99-934599_1974-11-26_2009.jpg</td>\n",
       "      <td>rotated_left</td>\n",
       "    </tr>\n",
       "    <tr>\n",
       "      <th>5350</th>\n",
       "      <td>99-938499_1947-11-01_2014.jpg</td>\n",
       "      <td>rotated_right</td>\n",
       "    </tr>\n",
       "    <tr>\n",
       "      <th>5351</th>\n",
       "      <td>99-9545499_1912-10-22_1967.jpg</td>\n",
       "      <td>upside_down</td>\n",
       "    </tr>\n",
       "    <tr>\n",
       "      <th>5352</th>\n",
       "      <td>99-9557299_1985-03-15_2012.jpg</td>\n",
       "      <td>rotated_right</td>\n",
       "    </tr>\n",
       "    <tr>\n",
       "      <th>5353</th>\n",
       "      <td>99-9598699_1901-05-21_1980.jpg</td>\n",
       "      <td>upside_down</td>\n",
       "    </tr>\n",
       "    <tr>\n",
       "      <th>5354</th>\n",
       "      <td>99-9611799_1955-03-22_2012.jpg</td>\n",
       "      <td>rotated_left</td>\n",
       "    </tr>\n",
       "    <tr>\n",
       "      <th>5355</th>\n",
       "      <td>99-961599_1950-01-12_2009.jpg</td>\n",
       "      <td>upside_down</td>\n",
       "    </tr>\n",
       "    <tr>\n",
       "      <th>5356</th>\n",
       "      <td>99-9799_1960-06-22_2012.jpg</td>\n",
       "      <td>upright</td>\n",
       "    </tr>\n",
       "    <tr>\n",
       "      <th>5357</th>\n",
       "      <td>99-9811999_1953-06-14_2004.jpg</td>\n",
       "      <td>upright</td>\n",
       "    </tr>\n",
       "    <tr>\n",
       "      <th>5358</th>\n",
       "      <td>99-981199_1954-12-30_2006.jpg</td>\n",
       "      <td>rotated_left</td>\n",
       "    </tr>\n",
       "    <tr>\n",
       "      <th>5359</th>\n",
       "      <td>99-9863599_1948-08-13_1963.jpg</td>\n",
       "      <td>upside_down</td>\n",
       "    </tr>\n",
       "    <tr>\n",
       "      <th>5360</th>\n",
       "      <td>99-995799_1978-01-27_2011.jpg</td>\n",
       "      <td>upright</td>\n",
       "    </tr>\n",
       "  </tbody>\n",
       "</table>\n",
       "<p>5361 rows × 2 columns</p>\n",
       "</div>"
      ],
      "text/plain": [
       "                                   fn          label\n",
       "0     90-10184590_1979-06-16_2006.jpg   rotated_left\n",
       "1      90-1019890_1931-08-10_1978.jpg        upright\n",
       "2     90-10241990_1984-11-28_2007.jpg  rotated_right\n",
       "3       90-102690_1966-09-09_2011.jpg  rotated_right\n",
       "4     90-10303590_1983-01-26_2010.jpg  rotated_right\n",
       "5     90-10311690_1947-04-14_1940.jpg  rotated_right\n",
       "6     90-10504790_1986-07-14_2014.jpg   rotated_left\n",
       "7     90-10506490_1966-03-23_2012.jpg   rotated_left\n",
       "8     90-10520890_1968-11-15_2011.jpg    upside_down\n",
       "9      90-1060790_1925-06-20_1953.jpg        upright\n",
       "10    90-10704590_1977-06-16_2007.jpg   rotated_left\n",
       "11    90-10840090_1903-06-26_1944.jpg        upright\n",
       "12     90-1084490_1987-07-31_2013.jpg        upright\n",
       "13     90-1095190_1957-09-04_2012.jpg        upright\n",
       "14    90-10988990_1984-11-05_2009.jpg    upside_down\n",
       "15     90-1102790_1981-01-16_2002.jpg    upside_down\n",
       "16    90-11068090_1964-05-19_2007.jpg        upright\n",
       "17    90-11166990_1909-06-13_1940.jpg    upside_down\n",
       "18    90-11173690_1985-05-22_2011.jpg  rotated_right\n",
       "19     90-1123490_1976-10-25_2006.jpg   rotated_left\n",
       "20    90-11258490_1952-02-17_1972.jpg  rotated_right\n",
       "21     90-1126590_1982-03-25_2015.jpg        upright\n",
       "22    90-11275490_1979-05-07_2009.jpg        upright\n",
       "23    90-11409190_1982-02-25_2010.jpg    upside_down\n",
       "24    90-11422290_1960-05-10_1960.jpg        upright\n",
       "25    90-11481790_1959-10-23_2014.jpg   rotated_left\n",
       "26    90-11499190_1966-06-30_2011.jpg    upside_down\n",
       "27    90-11652990_1989-04-26_2008.jpg  rotated_right\n",
       "28    90-11750090_1944-02-25_2011.jpg  rotated_right\n",
       "29     90-1179390_1973-08-08_2008.jpg        upright\n",
       "...                               ...            ...\n",
       "5331    99-774599_1933-08-17_1956.jpg   rotated_left\n",
       "5332    99-780999_1975-06-05_2009.jpg    upside_down\n",
       "5333   99-7910899_1981-09-20_2008.jpg   rotated_left\n",
       "5334      99-8099_1969-01-14_2011.jpg  rotated_right\n",
       "5335   99-8157399_1984-01-21_2011.jpg        upright\n",
       "5336   99-8183599_1985-02-13_2015.jpg  rotated_right\n",
       "5337   99-8389199_1890-07-20_1956.jpg    upside_down\n",
       "5338   99-8409499_1982-03-05_2007.jpg   rotated_left\n",
       "5339   99-8419699_1973-07-02_2014.jpg    upside_down\n",
       "5340   99-8425799_1959-04-11_2011.jpg  rotated_right\n",
       "5341   99-8440399_1983-03-15_2012.jpg        upright\n",
       "5342   99-8551399_1972-02-25_2008.jpg        upright\n",
       "5343    99-860999_1964-12-11_2002.jpg    upside_down\n",
       "5344    99-880099_1948-07-16_2014.jpg   rotated_left\n",
       "5345    99-884499_1915-01-24_1971.jpg   rotated_left\n",
       "5346   99-9178399_1983-06-28_2008.jpg    upside_down\n",
       "5347    99-923299_1966-12-24_2011.jpg  rotated_right\n",
       "5348   99-9282599_1981-05-05_2013.jpg  rotated_right\n",
       "5349    99-934599_1974-11-26_2009.jpg   rotated_left\n",
       "5350    99-938499_1947-11-01_2014.jpg  rotated_right\n",
       "5351   99-9545499_1912-10-22_1967.jpg    upside_down\n",
       "5352   99-9557299_1985-03-15_2012.jpg  rotated_right\n",
       "5353   99-9598699_1901-05-21_1980.jpg    upside_down\n",
       "5354   99-9611799_1955-03-22_2012.jpg   rotated_left\n",
       "5355    99-961599_1950-01-12_2009.jpg    upside_down\n",
       "5356      99-9799_1960-06-22_2012.jpg        upright\n",
       "5357   99-9811999_1953-06-14_2004.jpg        upright\n",
       "5358    99-981199_1954-12-30_2006.jpg   rotated_left\n",
       "5359   99-9863599_1948-08-13_1963.jpg    upside_down\n",
       "5360    99-995799_1978-01-27_2011.jpg        upright\n",
       "\n",
       "[5361 rows x 2 columns]"
      ]
     },
     "execution_count": 26,
     "metadata": {},
     "output_type": "execute_result"
    }
   ],
   "source": [
    "# Predictions: Images names and Labels\n",
    "\n",
    "name_test"
   ]
  },
  {
   "cell_type": "code",
   "execution_count": null,
   "metadata": {},
   "outputs": [],
   "source": [
    "test_preds = name_test"
   ]
  },
  {
   "cell_type": "code",
   "execution_count": null,
   "metadata": {},
   "outputs": [],
   "source": [
    "# Exporting to Excel\n",
    "\n",
    "test_preds.to_excel(\"test_preds.xlsx\")"
   ]
  },
  {
   "cell_type": "markdown",
   "metadata": {},
   "source": [
    "## Displaying Images in Correct Direction"
   ]
  },
  {
   "cell_type": "code",
   "execution_count": 35,
   "metadata": {},
   "outputs": [],
   "source": [
    "from PIL import Image\n",
    "import os\n",
    "\n",
    "def rotateImage(angle, image):\n",
    "    img = Image.open(image)\n",
    "    img.rotate(angle).save(image)\n",
    "    img.close()"
   ]
  },
  {
   "cell_type": "code",
   "execution_count": 36,
   "metadata": {},
   "outputs": [
    {
     "name": "stderr",
     "output_type": "stream",
     "text": [
      "100%|█████████████████████████████████████████████████████████████████████████████| 5361/5361 [00:10<00:00, 492.56it/s]\n"
     ]
    }
   ],
   "source": [
    "for i in tqdm(range(name_test.shape[0])):\n",
    "    image = 'C:/Users/andre/OneDrive/Ambiente de Trabalho/Data Science/Deeper Systems/test.rotfaces/test_zip/'+name_test['fn'][i]\n",
    "    if name_test.label[i] == 'rotated_left':\n",
    "        rotateImage(270, image)\n",
    "    elif name_test.label[i] == 'rotated_right':\n",
    "        rotateImage(90, image)\n",
    "    elif name_test.label[i] == 'upside_down':\n",
    "        rotateImage(180, image)"
   ]
  }
 ],
 "metadata": {
  "kernelspec": {
   "display_name": "Python 3",
   "language": "python",
   "name": "python3"
  },
  "language_info": {
   "codemirror_mode": {
    "name": "ipython",
    "version": 3
   },
   "file_extension": ".py",
   "mimetype": "text/x-python",
   "name": "python",
   "nbconvert_exporter": "python",
   "pygments_lexer": "ipython3",
   "version": "3.7.3"
  }
 },
 "nbformat": 4,
 "nbformat_minor": 2
}
