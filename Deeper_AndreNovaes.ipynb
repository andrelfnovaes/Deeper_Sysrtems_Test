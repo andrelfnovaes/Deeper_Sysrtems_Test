{
 "cells": [
  {
   "cell_type": "code",
   "execution_count": 1,
   "metadata": {},
   "outputs": [
    {
     "name": "stderr",
     "output_type": "stream",
     "text": [
      "Using TensorFlow backend.\n"
     ]
    }
   ],
   "source": [
    "# Importing libraries\n",
    "\n",
    "import numpy as np\n",
    "import pandas as pd\n",
    "import matplotlib.pyplot as plt\n",
    "\n",
    "from os import listdir\n",
    "from os.path import isfile, join\n",
    "\n",
    "import keras\n",
    "from keras.models import Sequential\n",
    "from keras.layers import Dense, Dropout, Flatten\n",
    "from keras.layers import Conv2D, MaxPooling2D\n",
    "from keras.utils import to_categorical\n",
    "from keras.preprocessing import image\n",
    "from keras.utils import to_categorical\n",
    "\n",
    "from sklearn.model_selection import train_test_split\n",
    "\n",
    "from tqdm import tqdm\n",
    "\n",
    "import PIL"
   ]
  },
  {
   "cell_type": "code",
   "execution_count": 2,
   "metadata": {},
   "outputs": [],
   "source": [
    "# Read train.truth.csv\n",
    "\n",
    "train = pd.read_csv('train.truth.csv')"
   ]
  },
  {
   "cell_type": "code",
   "execution_count": 3,
   "metadata": {
    "scrolled": true
   },
   "outputs": [
    {
     "name": "stderr",
     "output_type": "stream",
     "text": [
      "  0%|                                                                                        | 0/48896 [00:00<?, ?it/s]C:\\Users\\andre\\Anaconda3\\lib\\site-packages\\keras_preprocessing\\image\\utils.py:98: UserWarning: grayscale is deprecated. Please use color_mode = \"grayscale\"\n",
      "  warnings.warn('grayscale is deprecated. Please use '\n",
      "100%|███████████████████████████████████████████████████████████████████████████| 48896/48896 [01:04<00:00, 761.16it/s]\n"
     ]
    }
   ],
   "source": [
    "# Importing Train Dataset (images)\n",
    "\n",
    "train_image = []\n",
    "for i in tqdm(range(train.shape[0])):\n",
    "    img = image.load_img('C:/Users/andre/OneDrive/Ambiente de Trabalho/Deeper Systems/train.rotfaces/train/'+train['fn'][i], target_size=(64,64,1), grayscale=True)\n",
    "    img = image.img_to_array(img)\n",
    "    img = img/255\n",
    "    train_image.append(img)\n",
    "X = np.array(train_image)"
   ]
  },
  {
   "cell_type": "code",
   "execution_count": 4,
   "metadata": {},
   "outputs": [],
   "source": [
    "# Labels\n",
    "\n",
    "y = train['label'].values"
   ]
  },
  {
   "cell_type": "code",
   "execution_count": 5,
   "metadata": {},
   "outputs": [],
   "source": [
    "# Function modify, to change labels from strings to numbers\n",
    "\n",
    "def modify(label):\n",
    "    if label == 'rotated_left':\n",
    "        label = 0\n",
    "    elif label == 'rotated_right':\n",
    "        label = 1\n",
    "    elif label == 'upside_down':\n",
    "        label = 2\n",
    "    elif label == 'upright':\n",
    "        label = 3\n",
    "    return label"
   ]
  },
  {
   "cell_type": "code",
   "execution_count": 6,
   "metadata": {},
   "outputs": [],
   "source": [
    "f_modify = np.vectorize(modify)"
   ]
  },
  {
   "cell_type": "code",
   "execution_count": 7,
   "metadata": {},
   "outputs": [],
   "source": [
    "# Applying function modify\n",
    "\n",
    "y = f_modify(y)"
   ]
  },
  {
   "cell_type": "code",
   "execution_count": 8,
   "metadata": {},
   "outputs": [],
   "source": [
    "# y in correct format for training in NN (Neural Network)\n",
    "\n",
    "y = to_categorical(y, num_classes = 4)"
   ]
  },
  {
   "cell_type": "code",
   "execution_count": 9,
   "metadata": {},
   "outputs": [],
   "source": [
    "# Spliting the Train Dataset in 2 parts: training and validation\n",
    "\n",
    "X_train, X_test, y_train, y_test = train_test_split(X, y, random_state=42, test_size=0.2)"
   ]
  },
  {
   "cell_type": "code",
   "execution_count": 10,
   "metadata": {},
   "outputs": [
    {
     "name": "stdout",
     "output_type": "stream",
     "text": [
      "WARNING:tensorflow:From C:\\Users\\andre\\Anaconda3\\lib\\site-packages\\tensorflow\\python\\framework\\op_def_library.py:263: colocate_with (from tensorflow.python.framework.ops) is deprecated and will be removed in a future version.\n",
      "Instructions for updating:\n",
      "Colocations handled automatically by placer.\n",
      "WARNING:tensorflow:From C:\\Users\\andre\\Anaconda3\\lib\\site-packages\\keras\\backend\\tensorflow_backend.py:3445: calling dropout (from tensorflow.python.ops.nn_ops) with keep_prob is deprecated and will be removed in a future version.\n",
      "Instructions for updating:\n",
      "Please use `rate` instead of `keep_prob`. Rate should be set to `rate = 1 - keep_prob`.\n"
     ]
    }
   ],
   "source": [
    "# Model parametrization\n",
    "\n",
    "model = Sequential()\n",
    "model.add(Conv2D(32, kernel_size=(3, 3),activation='relu',input_shape=(64,64,1)))\n",
    "model.add(Conv2D(64, (3, 3), activation='relu'))\n",
    "model.add(MaxPooling2D(pool_size=(2, 2)))\n",
    "model.add(Dropout(0.25))\n",
    "model.add(Flatten())\n",
    "model.add(Dense(128, activation='relu'))\n",
    "model.add(Dropout(0.5))\n",
    "model.add(Dense(4, activation='softmax'))"
   ]
  },
  {
   "cell_type": "code",
   "execution_count": 11,
   "metadata": {},
   "outputs": [],
   "source": [
    "model.compile(loss='categorical_crossentropy',optimizer='Adam',metrics=['accuracy'])"
   ]
  },
  {
   "cell_type": "code",
   "execution_count": 12,
   "metadata": {
    "scrolled": true
   },
   "outputs": [
    {
     "name": "stdout",
     "output_type": "stream",
     "text": [
      "WARNING:tensorflow:From C:\\Users\\andre\\Anaconda3\\lib\\site-packages\\tensorflow\\python\\ops\\math_ops.py:3066: to_int32 (from tensorflow.python.ops.math_ops) is deprecated and will be removed in a future version.\n",
      "Instructions for updating:\n",
      "Use tf.cast instead.\n",
      "Train on 39116 samples, validate on 9780 samples\n",
      "Epoch 1/1\n"
     ]
    },
    {
     "name": "stdout",
     "output_type": "stream",
     "text": [
      " 6528/39116 [====>.........................] - ETA: 55:34 - loss: 1.3724 - acc: 0.31 - ETA: 32:24 - loss: 1.7272 - acc: 0.26 - ETA: 24:30 - loss: 1.8985 - acc: 0.26 - ETA: 20:39 - loss: 1.8980 - acc: 0.22 - ETA: 18:19 - loss: 1.8149 - acc: 0.25 - ETA: 16:48 - loss: 1.7410 - acc: 0.27 - ETA: 15:46 - loss: 1.7044 - acc: 0.26 - ETA: 15:01 - loss: 1.6674 - acc: 0.26 - ETA: 14:23 - loss: 1.6361 - acc: 0.26 - ETA: 13:47 - loss: 1.6132 - acc: 0.26 - ETA: 13:18 - loss: 1.5939 - acc: 0.26 - ETA: 12:55 - loss: 1.5768 - acc: 0.26 - ETA: 12:38 - loss: 1.5590 - acc: 0.26 - ETA: 12:23 - loss: 1.5447 - acc: 0.27 - ETA: 12:08 - loss: 1.5351 - acc: 0.27 - ETA: 11:57 - loss: 1.5251 - acc: 0.27 - ETA: 11:46 - loss: 1.5151 - acc: 0.27 - ETA: 11:35 - loss: 1.5074 - acc: 0.27 - ETA: 11:25 - loss: 1.4994 - acc: 0.27 - ETA: 11:16 - loss: 1.4927 - acc: 0.27 - ETA: 11:08 - loss: 1.4852 - acc: 0.28 - ETA: 11:01 - loss: 1.4792 - acc: 0.28 - ETA: 10:55 - loss: 1.4728 - acc: 0.29 - ETA: 10:49 - loss: 1.4677 - acc: 0.29 - ETA: 10:44 - loss: 1.4627 - acc: 0.30 - ETA: 10:39 - loss: 1.4566 - acc: 0.31 - ETA: 10:34 - loss: 1.4510 - acc: 0.31 - ETA: 10:31 - loss: 1.4452 - acc: 0.32 - ETA: 10:28 - loss: 1.4400 - acc: 0.32 - ETA: 10:27 - loss: 1.4364 - acc: 0.32 - ETA: 10:25 - loss: 1.4286 - acc: 0.33 - ETA: 10:23 - loss: 1.4222 - acc: 0.33 - ETA: 10:21 - loss: 1.4159 - acc: 0.34 - ETA: 10:18 - loss: 1.4097 - acc: 0.34 - ETA: 10:16 - loss: 1.4051 - acc: 0.35 - ETA: 10:14 - loss: 1.3992 - acc: 0.36 - ETA: 10:12 - loss: 1.3927 - acc: 0.36 - ETA: 10:09 - loss: 1.3867 - acc: 0.37 - ETA: 10:07 - loss: 1.3814 - acc: 0.37 - ETA: 10:04 - loss: 1.3744 - acc: 0.38 - ETA: 10:01 - loss: 1.3691 - acc: 0.38 - ETA: 9:59 - loss: 1.3637 - acc: 0.3891 - ETA: 9:56 - loss: 1.3569 - acc: 0.394 - ETA: 9:54 - loss: 1.3512 - acc: 0.397 - ETA: 9:51 - loss: 1.3424 - acc: 0.403 - ETA: 9:50 - loss: 1.3382 - acc: 0.406 - ETA: 9:48 - loss: 1.3308 - acc: 0.410 - ETA: 9:45 - loss: 1.3204 - acc: 0.416 - ETA: 9:44 - loss: 1.3150 - acc: 0.420 - ETA: 9:42 - loss: 1.3110 - acc: 0.425 - ETA: 9:40 - loss: 1.3028 - acc: 0.430 - ETA: 9:39 - loss: 1.2983 - acc: 0.433 - ETA: 9:38 - loss: 1.2891 - acc: 0.440 - ETA: 9:36 - loss: 1.2830 - acc: 0.445 - ETA: 9:35 - loss: 1.2772 - acc: 0.448 - ETA: 9:33 - loss: 1.2686 - acc: 0.453 - ETA: 9:31 - loss: 1.2625 - acc: 0.457 - ETA: 9:29 - loss: 1.2544 - acc: 0.462 - ETA: 9:28 - loss: 1.2498 - acc: 0.462 - ETA: 9:26 - loss: 1.2404 - acc: 0.469 - ETA: 9:24 - loss: 1.2320 - acc: 0.474 - ETA: 9:23 - loss: 1.2248 - acc: 0.478 - ETA: 9:22 - loss: 1.2215 - acc: 0.480 - ETA: 9:21 - loss: 1.2134 - acc: 0.485 - ETA: 9:20 - loss: 1.2081 - acc: 0.489 - ETA: 9:19 - loss: 1.2030 - acc: 0.491 - ETA: 9:18 - loss: 1.2010 - acc: 0.492 - ETA: 9:17 - loss: 1.1927 - acc: 0.496 - ETA: 9:16 - loss: 1.1864 - acc: 0.498 - ETA: 9:15 - loss: 1.1790 - acc: 0.501 - ETA: 9:14 - loss: 1.1717 - acc: 0.505 - ETA: 9:13 - loss: 1.1667 - acc: 0.508 - ETA: 9:13 - loss: 1.1595 - acc: 0.512 - ETA: 9:12 - loss: 1.1515 - acc: 0.516 - ETA: 9:11 - loss: 1.1436 - acc: 0.520 - ETA: 9:11 - loss: 1.1372 - acc: 0.523 - ETA: 9:10 - loss: 1.1305 - acc: 0.527 - ETA: 9:09 - loss: 1.1234 - acc: 0.531 - ETA: 9:09 - loss: 1.1134 - acc: 0.536 - ETA: 9:07 - loss: 1.1062 - acc: 0.539 - ETA: 9:06 - loss: 1.1055 - acc: 0.540 - ETA: 9:05 - loss: 1.1049 - acc: 0.541 - ETA: 9:04 - loss: 1.1024 - acc: 0.542 - ETA: 9:02 - loss: 1.0960 - acc: 0.545 - ETA: 9:01 - loss: 1.0928 - acc: 0.547 - ETA: 9:00 - loss: 1.0882 - acc: 0.549 - ETA: 8:59 - loss: 1.0832 - acc: 0.551 - ETA: 8:58 - loss: 1.0792 - acc: 0.553 - ETA: 8:58 - loss: 1.0753 - acc: 0.554 - ETA: 8:58 - loss: 1.0708 - acc: 0.555 - ETA: 8:57 - loss: 1.0656 - acc: 0.558 - ETA: 8:56 - loss: 1.0629 - acc: 0.559 - ETA: 8:55 - loss: 1.0572 - acc: 0.562 - ETA: 8:54 - loss: 1.0503 - acc: 0.565 - ETA: 8:53 - loss: 1.0515 - acc: 0.565 - ETA: 8:53 - loss: 1.0491 - acc: 0.566 - ETA: 8:52 - loss: 1.0448 - acc: 0.568 - ETA: 8:51 - loss: 1.0402 - acc: 0.571 - ETA: 8:51 - loss: 1.0349 - acc: 0.573 - ETA: 8:50 - loss: 1.0349 - acc: 0.575 - ETA: 8:49 - loss: 1.0295 - acc: 0.577 - ETA: 8:48 - loss: 1.0246 - acc: 0.580 - ETA: 8:47 - loss: 1.0229 - acc: 0.581 - ETA: 8:46 - loss: 1.0165 - acc: 0.584 - ETA: 8:46 - loss: 1.0117 - acc: 0.586 - ETA: 8:45 - loss: 1.0100 - acc: 0.587 - ETA: 8:44 - loss: 1.0079 - acc: 0.588 - ETA: 8:43 - loss: 1.0086 - acc: 0.587 - ETA: 8:42 - loss: 1.0042 - acc: 0.590 - ETA: 8:42 - loss: 0.9988 - acc: 0.592 - ETA: 8:41 - loss: 0.9932 - acc: 0.594 - ETA: 8:41 - loss: 0.9899 - acc: 0.596 - ETA: 8:40 - loss: 0.9879 - acc: 0.597 - ETA: 8:39 - loss: 0.9857 - acc: 0.598 - ETA: 8:38 - loss: 0.9871 - acc: 0.599 - ETA: 8:38 - loss: 0.9867 - acc: 0.599 - ETA: 8:37 - loss: 0.9821 - acc: 0.602 - ETA: 8:36 - loss: 0.9784 - acc: 0.604 - ETA: 8:35 - loss: 0.9766 - acc: 0.605 - ETA: 8:35 - loss: 0.9742 - acc: 0.607 - ETA: 8:34 - loss: 0.9715 - acc: 0.608 - ETA: 8:34 - loss: 0.9702 - acc: 0.609 - ETA: 8:33 - loss: 0.9649 - acc: 0.611 - ETA: 8:32 - loss: 0.9601 - acc: 0.613 - ETA: 8:32 - loss: 0.9587 - acc: 0.615 - ETA: 8:31 - loss: 0.9546 - acc: 0.617 - ETA: 8:30 - loss: 0.9520 - acc: 0.619 - ETA: 8:29 - loss: 0.9497 - acc: 0.620 - ETA: 8:29 - loss: 0.9479 - acc: 0.621 - ETA: 8:28 - loss: 0.9435 - acc: 0.623 - ETA: 8:27 - loss: 0.9412 - acc: 0.624 - ETA: 8:27 - loss: 0.9380 - acc: 0.626 - ETA: 8:26 - loss: 0.9330 - acc: 0.628 - ETA: 8:25 - loss: 0.9320 - acc: 0.628 - ETA: 8:25 - loss: 0.9291 - acc: 0.629 - ETA: 8:24 - loss: 0.9266 - acc: 0.630 - ETA: 8:23 - loss: 0.9236 - acc: 0.631 - ETA: 8:23 - loss: 0.9207 - acc: 0.632 - ETA: 8:22 - loss: 0.9165 - acc: 0.634 - ETA: 8:21 - loss: 0.9139 - acc: 0.635 - ETA: 8:21 - loss: 0.9130 - acc: 0.636 - ETA: 8:20 - loss: 0.9120 - acc: 0.636 - ETA: 8:19 - loss: 0.9099 - acc: 0.637 - ETA: 8:18 - loss: 0.9072 - acc: 0.638 - ETA: 8:18 - loss: 0.9048 - acc: 0.639 - ETA: 8:17 - loss: 0.9016 - acc: 0.640 - ETA: 8:17 - loss: 0.8989 - acc: 0.642 - ETA: 8:16 - loss: 0.8956 - acc: 0.643 - ETA: 8:16 - loss: 0.8940 - acc: 0.644 - ETA: 8:15 - loss: 0.8931 - acc: 0.645 - ETA: 8:15 - loss: 0.8907 - acc: 0.646 - ETA: 8:14 - loss: 0.8878 - acc: 0.648 - ETA: 8:13 - loss: 0.8853 - acc: 0.649 - ETA: 8:13 - loss: 0.8819 - acc: 0.651 - ETA: 8:12 - loss: 0.8790 - acc: 0.652 - ETA: 8:12 - loss: 0.8765 - acc: 0.653 - ETA: 8:12 - loss: 0.8734 - acc: 0.654 - ETA: 8:12 - loss: 0.8701 - acc: 0.655 - ETA: 8:11 - loss: 0.8676 - acc: 0.656 - ETA: 8:10 - loss: 0.8647 - acc: 0.657 - ETA: 8:10 - loss: 0.8627 - acc: 0.658 - ETA: 8:09 - loss: 0.8605 - acc: 0.659 - ETA: 8:09 - loss: 0.8587 - acc: 0.660 - ETA: 8:09 - loss: 0.8563 - acc: 0.661 - ETA: 8:08 - loss: 0.8559 - acc: 0.661 - ETA: 8:07 - loss: 0.8548 - acc: 0.662 - ETA: 8:07 - loss: 0.8523 - acc: 0.663 - ETA: 8:06 - loss: 0.8500 - acc: 0.663 - ETA: 8:05 - loss: 0.8474 - acc: 0.665 - ETA: 8:04 - loss: 0.8449 - acc: 0.665 - ETA: 8:04 - loss: 0.8428 - acc: 0.666 - ETA: 8:04 - loss: 0.8397 - acc: 0.667 - ETA: 8:03 - loss: 0.8380 - acc: 0.668 - ETA: 8:02 - loss: 0.8366 - acc: 0.668 - ETA: 8:02 - loss: 0.8365 - acc: 0.668 - ETA: 8:01 - loss: 0.8340 - acc: 0.669 - ETA: 8:01 - loss: 0.8317 - acc: 0.671 - ETA: 8:00 - loss: 0.8294 - acc: 0.672 - ETA: 8:00 - loss: 0.8272 - acc: 0.673 - ETA: 7:59 - loss: 0.8246 - acc: 0.675 - ETA: 7:59 - loss: 0.8223 - acc: 0.676 - ETA: 7:59 - loss: 0.8199 - acc: 0.677 - ETA: 7:59 - loss: 0.8183 - acc: 0.677 - ETA: 7:58 - loss: 0.8165 - acc: 0.677 - ETA: 7:58 - loss: 0.8135 - acc: 0.679 - ETA: 7:57 - loss: 0.8118 - acc: 0.679 - ETA: 7:57 - loss: 0.8099 - acc: 0.681 - ETA: 7:56 - loss: 0.8083 - acc: 0.681 - ETA: 7:55 - loss: 0.8051 - acc: 0.682 - ETA: 7:55 - loss: 0.8038 - acc: 0.683 - ETA: 7:54 - loss: 0.8023 - acc: 0.684 - ETA: 7:54 - loss: 0.7998 - acc: 0.685 - ETA: 7:53 - loss: 0.7995 - acc: 0.685 - ETA: 7:53 - loss: 0.7994 - acc: 0.685 - ETA: 7:52 - loss: 0.7976 - acc: 0.685 - ETA: 7:52 - loss: 0.7958 - acc: 0.686 - ETA: 7:51 - loss: 0.7946 - acc: 0.687 - ETA: 7:51 - loss: 0.7933 - acc: 0.688 - ETA: 7:50 - loss: 0.7917 - acc: 0.689 - ETA: 7:50 - loss: 0.7898 - acc: 0.690 - ETA: 7:49 - loss: 0.7880 - acc: 0.691 - ETA: 7:49 - loss: 0.7866 - acc: 0.692 - ETA: 7:48 - loss: 0.7848 - acc: 0.692 - ETA: 7:48 - loss: 0.7829 - acc: 0.6935"
     ]
    },
    {
     "name": "stdout",
     "output_type": "stream",
     "text": [
      "13056/39116 [=========>....................] - ETA: 7:47 - loss: 0.7805 - acc: 0.694 - ETA: 7:46 - loss: 0.7785 - acc: 0.695 - ETA: 7:46 - loss: 0.7784 - acc: 0.695 - ETA: 7:45 - loss: 0.7769 - acc: 0.695 - ETA: 7:44 - loss: 0.7749 - acc: 0.696 - ETA: 7:44 - loss: 0.7741 - acc: 0.697 - ETA: 7:43 - loss: 0.7718 - acc: 0.698 - ETA: 7:43 - loss: 0.7693 - acc: 0.699 - ETA: 7:42 - loss: 0.7670 - acc: 0.700 - ETA: 7:42 - loss: 0.7653 - acc: 0.700 - ETA: 7:41 - loss: 0.7638 - acc: 0.701 - ETA: 7:41 - loss: 0.7624 - acc: 0.702 - ETA: 7:40 - loss: 0.7604 - acc: 0.702 - ETA: 7:40 - loss: 0.7598 - acc: 0.703 - ETA: 7:39 - loss: 0.7579 - acc: 0.704 - ETA: 7:38 - loss: 0.7567 - acc: 0.705 - ETA: 7:38 - loss: 0.7548 - acc: 0.705 - ETA: 7:37 - loss: 0.7540 - acc: 0.705 - ETA: 7:37 - loss: 0.7522 - acc: 0.706 - ETA: 7:36 - loss: 0.7498 - acc: 0.707 - ETA: 7:36 - loss: 0.7486 - acc: 0.708 - ETA: 7:35 - loss: 0.7472 - acc: 0.708 - ETA: 7:35 - loss: 0.7472 - acc: 0.708 - ETA: 7:34 - loss: 0.7452 - acc: 0.709 - ETA: 7:34 - loss: 0.7444 - acc: 0.709 - ETA: 7:33 - loss: 0.7431 - acc: 0.710 - ETA: 7:33 - loss: 0.7418 - acc: 0.710 - ETA: 7:32 - loss: 0.7406 - acc: 0.711 - ETA: 7:32 - loss: 0.7388 - acc: 0.711 - ETA: 7:31 - loss: 0.7378 - acc: 0.712 - ETA: 7:31 - loss: 0.7377 - acc: 0.712 - ETA: 7:30 - loss: 0.7362 - acc: 0.713 - ETA: 7:30 - loss: 0.7353 - acc: 0.713 - ETA: 7:29 - loss: 0.7348 - acc: 0.713 - ETA: 7:29 - loss: 0.7330 - acc: 0.714 - ETA: 7:28 - loss: 0.7320 - acc: 0.714 - ETA: 7:28 - loss: 0.7311 - acc: 0.715 - ETA: 7:28 - loss: 0.7301 - acc: 0.715 - ETA: 7:27 - loss: 0.7293 - acc: 0.715 - ETA: 7:27 - loss: 0.7283 - acc: 0.716 - ETA: 7:26 - loss: 0.7266 - acc: 0.716 - ETA: 7:26 - loss: 0.7247 - acc: 0.717 - ETA: 7:25 - loss: 0.7230 - acc: 0.718 - ETA: 7:25 - loss: 0.7214 - acc: 0.718 - ETA: 7:25 - loss: 0.7195 - acc: 0.719 - ETA: 7:24 - loss: 0.7183 - acc: 0.719 - ETA: 7:24 - loss: 0.7169 - acc: 0.720 - ETA: 7:23 - loss: 0.7155 - acc: 0.720 - ETA: 7:23 - loss: 0.7138 - acc: 0.721 - ETA: 7:22 - loss: 0.7117 - acc: 0.722 - ETA: 7:22 - loss: 0.7099 - acc: 0.723 - ETA: 7:21 - loss: 0.7085 - acc: 0.723 - ETA: 7:21 - loss: 0.7073 - acc: 0.723 - ETA: 7:20 - loss: 0.7053 - acc: 0.724 - ETA: 7:19 - loss: 0.7050 - acc: 0.725 - ETA: 7:19 - loss: 0.7042 - acc: 0.725 - ETA: 7:18 - loss: 0.7030 - acc: 0.725 - ETA: 7:18 - loss: 0.7035 - acc: 0.725 - ETA: 7:17 - loss: 0.7023 - acc: 0.726 - ETA: 7:17 - loss: 0.7008 - acc: 0.726 - ETA: 7:16 - loss: 0.7000 - acc: 0.727 - ETA: 7:16 - loss: 0.6994 - acc: 0.727 - ETA: 7:15 - loss: 0.6981 - acc: 0.728 - ETA: 7:15 - loss: 0.6969 - acc: 0.728 - ETA: 7:14 - loss: 0.6958 - acc: 0.729 - ETA: 7:14 - loss: 0.6951 - acc: 0.729 - ETA: 7:13 - loss: 0.6935 - acc: 0.729 - ETA: 7:13 - loss: 0.6926 - acc: 0.730 - ETA: 7:12 - loss: 0.6932 - acc: 0.730 - ETA: 7:12 - loss: 0.6933 - acc: 0.730 - ETA: 7:11 - loss: 0.6923 - acc: 0.730 - ETA: 7:11 - loss: 0.6911 - acc: 0.731 - ETA: 7:11 - loss: 0.6900 - acc: 0.731 - ETA: 7:10 - loss: 0.6888 - acc: 0.732 - ETA: 7:10 - loss: 0.6878 - acc: 0.732 - ETA: 7:09 - loss: 0.6866 - acc: 0.733 - ETA: 7:09 - loss: 0.6860 - acc: 0.733 - ETA: 7:08 - loss: 0.6851 - acc: 0.733 - ETA: 7:07 - loss: 0.6841 - acc: 0.734 - ETA: 7:07 - loss: 0.6829 - acc: 0.734 - ETA: 7:07 - loss: 0.6820 - acc: 0.734 - ETA: 7:06 - loss: 0.6813 - acc: 0.735 - ETA: 7:06 - loss: 0.6806 - acc: 0.735 - ETA: 7:05 - loss: 0.6787 - acc: 0.736 - ETA: 7:04 - loss: 0.6775 - acc: 0.736 - ETA: 7:04 - loss: 0.6762 - acc: 0.737 - ETA: 7:03 - loss: 0.6747 - acc: 0.737 - ETA: 7:03 - loss: 0.6737 - acc: 0.738 - ETA: 7:02 - loss: 0.6727 - acc: 0.738 - ETA: 7:02 - loss: 0.6721 - acc: 0.738 - ETA: 7:01 - loss: 0.6712 - acc: 0.739 - ETA: 7:01 - loss: 0.6704 - acc: 0.739 - ETA: 7:00 - loss: 0.6701 - acc: 0.739 - ETA: 7:00 - loss: 0.6699 - acc: 0.739 - ETA: 6:59 - loss: 0.6685 - acc: 0.740 - ETA: 6:59 - loss: 0.6671 - acc: 0.740 - ETA: 6:58 - loss: 0.6660 - acc: 0.741 - ETA: 6:58 - loss: 0.6656 - acc: 0.741 - ETA: 6:58 - loss: 0.6650 - acc: 0.741 - ETA: 6:57 - loss: 0.6642 - acc: 0.741 - ETA: 6:57 - loss: 0.6636 - acc: 0.742 - ETA: 6:56 - loss: 0.6627 - acc: 0.742 - ETA: 6:56 - loss: 0.6615 - acc: 0.742 - ETA: 6:55 - loss: 0.6609 - acc: 0.742 - ETA: 6:55 - loss: 0.6604 - acc: 0.743 - ETA: 6:54 - loss: 0.6597 - acc: 0.743 - ETA: 6:54 - loss: 0.6597 - acc: 0.743 - ETA: 6:53 - loss: 0.6588 - acc: 0.743 - ETA: 6:53 - loss: 0.6579 - acc: 0.744 - ETA: 6:52 - loss: 0.6569 - acc: 0.744 - ETA: 6:52 - loss: 0.6562 - acc: 0.745 - ETA: 6:51 - loss: 0.6549 - acc: 0.745 - ETA: 6:51 - loss: 0.6543 - acc: 0.746 - ETA: 6:50 - loss: 0.6530 - acc: 0.746 - ETA: 6:50 - loss: 0.6523 - acc: 0.747 - ETA: 6:49 - loss: 0.6514 - acc: 0.747 - ETA: 6:49 - loss: 0.6502 - acc: 0.748 - ETA: 6:48 - loss: 0.6493 - acc: 0.748 - ETA: 6:48 - loss: 0.6481 - acc: 0.749 - ETA: 6:47 - loss: 0.6473 - acc: 0.749 - ETA: 6:47 - loss: 0.6467 - acc: 0.749 - ETA: 6:47 - loss: 0.6464 - acc: 0.749 - ETA: 6:46 - loss: 0.6451 - acc: 0.750 - ETA: 6:45 - loss: 0.6446 - acc: 0.750 - ETA: 6:45 - loss: 0.6439 - acc: 0.750 - ETA: 6:45 - loss: 0.6434 - acc: 0.751 - ETA: 6:44 - loss: 0.6425 - acc: 0.751 - ETA: 6:44 - loss: 0.6416 - acc: 0.751 - ETA: 6:43 - loss: 0.6411 - acc: 0.752 - ETA: 6:43 - loss: 0.6403 - acc: 0.752 - ETA: 6:42 - loss: 0.6394 - acc: 0.752 - ETA: 6:42 - loss: 0.6383 - acc: 0.753 - ETA: 6:41 - loss: 0.6371 - acc: 0.753 - ETA: 6:41 - loss: 0.6363 - acc: 0.753 - ETA: 6:40 - loss: 0.6352 - acc: 0.754 - ETA: 6:40 - loss: 0.6342 - acc: 0.754 - ETA: 6:39 - loss: 0.6330 - acc: 0.755 - ETA: 6:38 - loss: 0.6319 - acc: 0.755 - ETA: 6:38 - loss: 0.6312 - acc: 0.755 - ETA: 6:38 - loss: 0.6303 - acc: 0.756 - ETA: 6:37 - loss: 0.6291 - acc: 0.756 - ETA: 6:37 - loss: 0.6291 - acc: 0.757 - ETA: 6:36 - loss: 0.6279 - acc: 0.757 - ETA: 6:35 - loss: 0.6272 - acc: 0.757 - ETA: 6:35 - loss: 0.6270 - acc: 0.757 - ETA: 6:35 - loss: 0.6261 - acc: 0.757 - ETA: 6:34 - loss: 0.6254 - acc: 0.758 - ETA: 6:33 - loss: 0.6246 - acc: 0.758 - ETA: 6:33 - loss: 0.6239 - acc: 0.758 - ETA: 6:32 - loss: 0.6232 - acc: 0.758 - ETA: 6:32 - loss: 0.6224 - acc: 0.759 - ETA: 6:31 - loss: 0.6227 - acc: 0.759 - ETA: 6:31 - loss: 0.6218 - acc: 0.759 - ETA: 6:30 - loss: 0.6217 - acc: 0.759 - ETA: 6:30 - loss: 0.6207 - acc: 0.760 - ETA: 6:30 - loss: 0.6200 - acc: 0.760 - ETA: 6:29 - loss: 0.6195 - acc: 0.760 - ETA: 6:28 - loss: 0.6191 - acc: 0.760 - ETA: 6:28 - loss: 0.6182 - acc: 0.761 - ETA: 6:27 - loss: 0.6178 - acc: 0.761 - ETA: 6:27 - loss: 0.6173 - acc: 0.761 - ETA: 6:26 - loss: 0.6170 - acc: 0.761 - ETA: 6:26 - loss: 0.6163 - acc: 0.762 - ETA: 6:25 - loss: 0.6159 - acc: 0.762 - ETA: 6:25 - loss: 0.6147 - acc: 0.762 - ETA: 6:24 - loss: 0.6140 - acc: 0.763 - ETA: 6:24 - loss: 0.6132 - acc: 0.763 - ETA: 6:23 - loss: 0.6129 - acc: 0.763 - ETA: 6:23 - loss: 0.6122 - acc: 0.764 - ETA: 6:22 - loss: 0.6116 - acc: 0.764 - ETA: 6:22 - loss: 0.6107 - acc: 0.764 - ETA: 6:22 - loss: 0.6096 - acc: 0.765 - ETA: 6:21 - loss: 0.6087 - acc: 0.765 - ETA: 6:21 - loss: 0.6079 - acc: 0.765 - ETA: 6:20 - loss: 0.6071 - acc: 0.766 - ETA: 6:20 - loss: 0.6063 - acc: 0.766 - ETA: 6:19 - loss: 0.6055 - acc: 0.766 - ETA: 6:19 - loss: 0.6045 - acc: 0.767 - ETA: 6:18 - loss: 0.6041 - acc: 0.767 - ETA: 6:18 - loss: 0.6030 - acc: 0.768 - ETA: 6:17 - loss: 0.6025 - acc: 0.768 - ETA: 6:17 - loss: 0.6019 - acc: 0.768 - ETA: 6:16 - loss: 0.6014 - acc: 0.768 - ETA: 6:16 - loss: 0.6006 - acc: 0.768 - ETA: 6:15 - loss: 0.6002 - acc: 0.768 - ETA: 6:15 - loss: 0.5994 - acc: 0.768 - ETA: 6:14 - loss: 0.5986 - acc: 0.769 - ETA: 6:14 - loss: 0.5980 - acc: 0.769 - ETA: 6:14 - loss: 0.5972 - acc: 0.769 - ETA: 6:13 - loss: 0.5963 - acc: 0.769 - ETA: 6:13 - loss: 0.5962 - acc: 0.770 - ETA: 6:12 - loss: 0.5956 - acc: 0.770 - ETA: 6:12 - loss: 0.5948 - acc: 0.770 - ETA: 6:11 - loss: 0.5947 - acc: 0.770 - ETA: 6:11 - loss: 0.5942 - acc: 0.770 - ETA: 6:10 - loss: 0.5932 - acc: 0.771 - ETA: 6:10 - loss: 0.5930 - acc: 0.771 - ETA: 6:09 - loss: 0.5924 - acc: 0.771 - ETA: 6:09 - loss: 0.5915 - acc: 0.771 - ETA: 6:08 - loss: 0.5906 - acc: 0.772 - ETA: 6:08 - loss: 0.5905 - acc: 0.772 - ETA: 6:07 - loss: 0.5901 - acc: 0.772 - ETA: 6:07 - loss: 0.5896 - acc: 0.772 - ETA: 6:07 - loss: 0.5891 - acc: 0.7730"
     ]
    },
    {
     "name": "stdout",
     "output_type": "stream",
     "text": [
      "19584/39116 [==============>...............] - ETA: 6:06 - loss: 0.5885 - acc: 0.773 - ETA: 6:06 - loss: 0.5876 - acc: 0.773 - ETA: 6:05 - loss: 0.5870 - acc: 0.773 - ETA: 6:05 - loss: 0.5860 - acc: 0.774 - ETA: 6:04 - loss: 0.5856 - acc: 0.774 - ETA: 6:04 - loss: 0.5849 - acc: 0.774 - ETA: 6:03 - loss: 0.5844 - acc: 0.774 - ETA: 6:03 - loss: 0.5841 - acc: 0.774 - ETA: 6:02 - loss: 0.5836 - acc: 0.775 - ETA: 6:02 - loss: 0.5830 - acc: 0.775 - ETA: 6:01 - loss: 0.5826 - acc: 0.775 - ETA: 6:01 - loss: 0.5818 - acc: 0.775 - ETA: 6:00 - loss: 0.5812 - acc: 0.775 - ETA: 6:00 - loss: 0.5809 - acc: 0.775 - ETA: 6:00 - loss: 0.5803 - acc: 0.776 - ETA: 5:59 - loss: 0.5795 - acc: 0.776 - ETA: 5:59 - loss: 0.5786 - acc: 0.777 - ETA: 5:58 - loss: 0.5778 - acc: 0.777 - ETA: 5:58 - loss: 0.5773 - acc: 0.777 - ETA: 5:57 - loss: 0.5766 - acc: 0.777 - ETA: 5:57 - loss: 0.5759 - acc: 0.777 - ETA: 5:56 - loss: 0.5756 - acc: 0.778 - ETA: 5:56 - loss: 0.5751 - acc: 0.778 - ETA: 5:55 - loss: 0.5740 - acc: 0.778 - ETA: 5:55 - loss: 0.5732 - acc: 0.778 - ETA: 5:54 - loss: 0.5722 - acc: 0.779 - ETA: 5:54 - loss: 0.5718 - acc: 0.779 - ETA: 5:53 - loss: 0.5713 - acc: 0.779 - ETA: 5:53 - loss: 0.5708 - acc: 0.779 - ETA: 5:52 - loss: 0.5704 - acc: 0.779 - ETA: 5:52 - loss: 0.5697 - acc: 0.780 - ETA: 5:51 - loss: 0.5691 - acc: 0.780 - ETA: 5:51 - loss: 0.5686 - acc: 0.780 - ETA: 5:50 - loss: 0.5679 - acc: 0.781 - ETA: 5:50 - loss: 0.5670 - acc: 0.781 - ETA: 5:49 - loss: 0.5666 - acc: 0.781 - ETA: 5:49 - loss: 0.5660 - acc: 0.781 - ETA: 5:49 - loss: 0.5654 - acc: 0.781 - ETA: 5:48 - loss: 0.5644 - acc: 0.782 - ETA: 5:48 - loss: 0.5645 - acc: 0.782 - ETA: 5:47 - loss: 0.5640 - acc: 0.782 - ETA: 5:47 - loss: 0.5631 - acc: 0.782 - ETA: 5:46 - loss: 0.5630 - acc: 0.782 - ETA: 5:46 - loss: 0.5625 - acc: 0.783 - ETA: 5:45 - loss: 0.5615 - acc: 0.783 - ETA: 5:45 - loss: 0.5608 - acc: 0.783 - ETA: 5:45 - loss: 0.5602 - acc: 0.784 - ETA: 5:44 - loss: 0.5603 - acc: 0.784 - ETA: 5:44 - loss: 0.5594 - acc: 0.784 - ETA: 5:43 - loss: 0.5592 - acc: 0.784 - ETA: 5:43 - loss: 0.5585 - acc: 0.784 - ETA: 5:42 - loss: 0.5580 - acc: 0.784 - ETA: 5:42 - loss: 0.5574 - acc: 0.785 - ETA: 5:42 - loss: 0.5568 - acc: 0.785 - ETA: 5:41 - loss: 0.5561 - acc: 0.785 - ETA: 5:41 - loss: 0.5558 - acc: 0.785 - ETA: 5:40 - loss: 0.5559 - acc: 0.785 - ETA: 5:40 - loss: 0.5552 - acc: 0.786 - ETA: 5:39 - loss: 0.5548 - acc: 0.786 - ETA: 5:39 - loss: 0.5542 - acc: 0.786 - ETA: 5:38 - loss: 0.5536 - acc: 0.786 - ETA: 5:38 - loss: 0.5532 - acc: 0.786 - ETA: 5:37 - loss: 0.5528 - acc: 0.786 - ETA: 5:37 - loss: 0.5524 - acc: 0.786 - ETA: 5:36 - loss: 0.5522 - acc: 0.786 - ETA: 5:36 - loss: 0.5515 - acc: 0.787 - ETA: 5:36 - loss: 0.5515 - acc: 0.787 - ETA: 5:35 - loss: 0.5512 - acc: 0.787 - ETA: 5:35 - loss: 0.5507 - acc: 0.787 - ETA: 5:34 - loss: 0.5504 - acc: 0.787 - ETA: 5:34 - loss: 0.5499 - acc: 0.787 - ETA: 5:33 - loss: 0.5490 - acc: 0.788 - ETA: 5:33 - loss: 0.5484 - acc: 0.788 - ETA: 5:32 - loss: 0.5479 - acc: 0.788 - ETA: 5:32 - loss: 0.5475 - acc: 0.788 - ETA: 5:32 - loss: 0.5467 - acc: 0.789 - ETA: 5:31 - loss: 0.5463 - acc: 0.789 - ETA: 5:31 - loss: 0.5461 - acc: 0.789 - ETA: 5:30 - loss: 0.5457 - acc: 0.789 - ETA: 5:30 - loss: 0.5453 - acc: 0.790 - ETA: 5:29 - loss: 0.5444 - acc: 0.790 - ETA: 5:29 - loss: 0.5444 - acc: 0.790 - ETA: 5:28 - loss: 0.5438 - acc: 0.790 - ETA: 5:28 - loss: 0.5431 - acc: 0.790 - ETA: 5:27 - loss: 0.5425 - acc: 0.790 - ETA: 5:27 - loss: 0.5420 - acc: 0.791 - ETA: 5:26 - loss: 0.5413 - acc: 0.791 - ETA: 5:26 - loss: 0.5413 - acc: 0.791 - ETA: 5:25 - loss: 0.5407 - acc: 0.791 - ETA: 5:25 - loss: 0.5402 - acc: 0.792 - ETA: 5:24 - loss: 0.5396 - acc: 0.792 - ETA: 5:24 - loss: 0.5391 - acc: 0.792 - ETA: 5:24 - loss: 0.5388 - acc: 0.792 - ETA: 5:23 - loss: 0.5381 - acc: 0.792 - ETA: 5:23 - loss: 0.5380 - acc: 0.792 - ETA: 5:22 - loss: 0.5376 - acc: 0.793 - ETA: 5:22 - loss: 0.5370 - acc: 0.793 - ETA: 5:21 - loss: 0.5364 - acc: 0.793 - ETA: 5:21 - loss: 0.5360 - acc: 0.793 - ETA: 5:20 - loss: 0.5355 - acc: 0.793 - ETA: 5:20 - loss: 0.5348 - acc: 0.794 - ETA: 5:19 - loss: 0.5345 - acc: 0.794 - ETA: 5:19 - loss: 0.5341 - acc: 0.794 - ETA: 5:19 - loss: 0.5337 - acc: 0.794 - ETA: 5:18 - loss: 0.5331 - acc: 0.794 - ETA: 5:18 - loss: 0.5328 - acc: 0.794 - ETA: 5:17 - loss: 0.5323 - acc: 0.795 - ETA: 5:17 - loss: 0.5315 - acc: 0.795 - ETA: 5:16 - loss: 0.5309 - acc: 0.795 - ETA: 5:16 - loss: 0.5309 - acc: 0.795 - ETA: 5:16 - loss: 0.5303 - acc: 0.795 - ETA: 5:15 - loss: 0.5300 - acc: 0.796 - ETA: 5:15 - loss: 0.5294 - acc: 0.796 - ETA: 5:14 - loss: 0.5286 - acc: 0.796 - ETA: 5:14 - loss: 0.5286 - acc: 0.796 - ETA: 5:13 - loss: 0.5279 - acc: 0.796 - ETA: 5:13 - loss: 0.5272 - acc: 0.797 - ETA: 5:12 - loss: 0.5268 - acc: 0.797 - ETA: 5:12 - loss: 0.5263 - acc: 0.797 - ETA: 5:11 - loss: 0.5262 - acc: 0.797 - ETA: 5:11 - loss: 0.5256 - acc: 0.797 - ETA: 5:10 - loss: 0.5249 - acc: 0.798 - ETA: 5:10 - loss: 0.5244 - acc: 0.798 - ETA: 5:10 - loss: 0.5238 - acc: 0.798 - ETA: 5:09 - loss: 0.5232 - acc: 0.798 - ETA: 5:09 - loss: 0.5233 - acc: 0.798 - ETA: 5:08 - loss: 0.5232 - acc: 0.798 - ETA: 5:08 - loss: 0.5227 - acc: 0.798 - ETA: 5:07 - loss: 0.5221 - acc: 0.799 - ETA: 5:07 - loss: 0.5217 - acc: 0.799 - ETA: 5:06 - loss: 0.5213 - acc: 0.799 - ETA: 5:06 - loss: 0.5207 - acc: 0.799 - ETA: 5:05 - loss: 0.5204 - acc: 0.799 - ETA: 5:05 - loss: 0.5201 - acc: 0.799 - ETA: 5:05 - loss: 0.5198 - acc: 0.799 - ETA: 5:04 - loss: 0.5192 - acc: 0.800 - ETA: 5:04 - loss: 0.5189 - acc: 0.800 - ETA: 5:03 - loss: 0.5183 - acc: 0.800 - ETA: 5:03 - loss: 0.5179 - acc: 0.800 - ETA: 5:02 - loss: 0.5174 - acc: 0.800 - ETA: 5:02 - loss: 0.5171 - acc: 0.800 - ETA: 5:01 - loss: 0.5169 - acc: 0.800 - ETA: 5:01 - loss: 0.5164 - acc: 0.801 - ETA: 5:00 - loss: 0.5161 - acc: 0.801 - ETA: 5:00 - loss: 0.5155 - acc: 0.801 - ETA: 5:00 - loss: 0.5149 - acc: 0.802 - ETA: 4:59 - loss: 0.5144 - acc: 0.802 - ETA: 4:59 - loss: 0.5137 - acc: 0.802 - ETA: 4:58 - loss: 0.5133 - acc: 0.802 - ETA: 4:58 - loss: 0.5130 - acc: 0.802 - ETA: 4:57 - loss: 0.5126 - acc: 0.802 - ETA: 4:57 - loss: 0.5122 - acc: 0.802 - ETA: 4:56 - loss: 0.5117 - acc: 0.803 - ETA: 4:56 - loss: 0.5114 - acc: 0.803 - ETA: 4:56 - loss: 0.5112 - acc: 0.803 - ETA: 4:55 - loss: 0.5110 - acc: 0.803 - ETA: 4:55 - loss: 0.5108 - acc: 0.803 - ETA: 4:54 - loss: 0.5101 - acc: 0.803 - ETA: 4:54 - loss: 0.5096 - acc: 0.803 - ETA: 4:53 - loss: 0.5092 - acc: 0.803 - ETA: 4:53 - loss: 0.5087 - acc: 0.803 - ETA: 4:52 - loss: 0.5083 - acc: 0.804 - ETA: 4:52 - loss: 0.5081 - acc: 0.804 - ETA: 4:51 - loss: 0.5078 - acc: 0.804 - ETA: 4:51 - loss: 0.5073 - acc: 0.804 - ETA: 4:51 - loss: 0.5069 - acc: 0.804 - ETA: 4:50 - loss: 0.5064 - acc: 0.804 - ETA: 4:50 - loss: 0.5060 - acc: 0.805 - ETA: 4:49 - loss: 0.5054 - acc: 0.805 - ETA: 4:49 - loss: 0.5050 - acc: 0.805 - ETA: 4:48 - loss: 0.5048 - acc: 0.805 - ETA: 4:48 - loss: 0.5042 - acc: 0.805 - ETA: 4:47 - loss: 0.5040 - acc: 0.806 - ETA: 4:47 - loss: 0.5034 - acc: 0.806 - ETA: 4:46 - loss: 0.5029 - acc: 0.806 - ETA: 4:46 - loss: 0.5024 - acc: 0.806 - ETA: 4:45 - loss: 0.5024 - acc: 0.806 - ETA: 4:45 - loss: 0.5020 - acc: 0.806 - ETA: 4:44 - loss: 0.5017 - acc: 0.806 - ETA: 4:44 - loss: 0.5018 - acc: 0.807 - ETA: 4:44 - loss: 0.5011 - acc: 0.807 - ETA: 4:43 - loss: 0.5011 - acc: 0.807 - ETA: 4:43 - loss: 0.5007 - acc: 0.807 - ETA: 4:42 - loss: 0.5001 - acc: 0.807 - ETA: 4:42 - loss: 0.4995 - acc: 0.808 - ETA: 4:41 - loss: 0.4995 - acc: 0.808 - ETA: 4:41 - loss: 0.4990 - acc: 0.808 - ETA: 4:41 - loss: 0.4984 - acc: 0.808 - ETA: 4:40 - loss: 0.4980 - acc: 0.808 - ETA: 4:40 - loss: 0.4977 - acc: 0.808 - ETA: 4:39 - loss: 0.4974 - acc: 0.809 - ETA: 4:39 - loss: 0.4967 - acc: 0.809 - ETA: 4:38 - loss: 0.4963 - acc: 0.809 - ETA: 4:38 - loss: 0.4960 - acc: 0.809 - ETA: 4:37 - loss: 0.4955 - acc: 0.809 - ETA: 4:37 - loss: 0.4954 - acc: 0.809 - ETA: 4:36 - loss: 0.4948 - acc: 0.809 - ETA: 4:36 - loss: 0.4945 - acc: 0.810 - ETA: 4:36 - loss: 0.4941 - acc: 0.810 - ETA: 4:35 - loss: 0.4936 - acc: 0.810 - ETA: 4:35 - loss: 0.4929 - acc: 0.810 - ETA: 4:34 - loss: 0.4925 - acc: 0.810 - ETA: 4:34 - loss: 0.4922 - acc: 0.810 - ETA: 4:33 - loss: 0.4919 - acc: 0.8110"
     ]
    },
    {
     "name": "stdout",
     "output_type": "stream",
     "text": [
      "26112/39116 [===================>..........] - ETA: 4:33 - loss: 0.4913 - acc: 0.811 - ETA: 4:32 - loss: 0.4907 - acc: 0.811 - ETA: 4:32 - loss: 0.4906 - acc: 0.811 - ETA: 4:31 - loss: 0.4900 - acc: 0.811 - ETA: 4:31 - loss: 0.4894 - acc: 0.811 - ETA: 4:31 - loss: 0.4890 - acc: 0.812 - ETA: 4:30 - loss: 0.4885 - acc: 0.812 - ETA: 4:30 - loss: 0.4880 - acc: 0.812 - ETA: 4:29 - loss: 0.4875 - acc: 0.812 - ETA: 4:29 - loss: 0.4875 - acc: 0.812 - ETA: 4:28 - loss: 0.4872 - acc: 0.812 - ETA: 4:28 - loss: 0.4868 - acc: 0.812 - ETA: 4:28 - loss: 0.4864 - acc: 0.812 - ETA: 4:27 - loss: 0.4861 - acc: 0.813 - ETA: 4:27 - loss: 0.4861 - acc: 0.813 - ETA: 4:26 - loss: 0.4857 - acc: 0.813 - ETA: 4:26 - loss: 0.4855 - acc: 0.813 - ETA: 4:25 - loss: 0.4852 - acc: 0.813 - ETA: 4:25 - loss: 0.4849 - acc: 0.813 - ETA: 4:24 - loss: 0.4845 - acc: 0.813 - ETA: 4:24 - loss: 0.4842 - acc: 0.813 - ETA: 4:23 - loss: 0.4839 - acc: 0.814 - ETA: 4:23 - loss: 0.4839 - acc: 0.814 - ETA: 4:22 - loss: 0.4838 - acc: 0.814 - ETA: 4:22 - loss: 0.4837 - acc: 0.814 - ETA: 4:22 - loss: 0.4833 - acc: 0.814 - ETA: 4:21 - loss: 0.4832 - acc: 0.814 - ETA: 4:21 - loss: 0.4830 - acc: 0.814 - ETA: 4:20 - loss: 0.4829 - acc: 0.814 - ETA: 4:20 - loss: 0.4828 - acc: 0.814 - ETA: 4:19 - loss: 0.4824 - acc: 0.815 - ETA: 4:19 - loss: 0.4823 - acc: 0.815 - ETA: 4:18 - loss: 0.4818 - acc: 0.815 - ETA: 4:18 - loss: 0.4816 - acc: 0.815 - ETA: 4:17 - loss: 0.4813 - acc: 0.815 - ETA: 4:17 - loss: 0.4809 - acc: 0.815 - ETA: 4:16 - loss: 0.4805 - acc: 0.815 - ETA: 4:16 - loss: 0.4804 - acc: 0.815 - ETA: 4:16 - loss: 0.4800 - acc: 0.816 - ETA: 4:15 - loss: 0.4795 - acc: 0.816 - ETA: 4:15 - loss: 0.4790 - acc: 0.816 - ETA: 4:14 - loss: 0.4789 - acc: 0.816 - ETA: 4:14 - loss: 0.4788 - acc: 0.816 - ETA: 4:13 - loss: 0.4783 - acc: 0.816 - ETA: 4:13 - loss: 0.4780 - acc: 0.816 - ETA: 4:12 - loss: 0.4777 - acc: 0.816 - ETA: 4:12 - loss: 0.4779 - acc: 0.816 - ETA: 4:11 - loss: 0.4778 - acc: 0.817 - ETA: 4:11 - loss: 0.4777 - acc: 0.817 - ETA: 4:10 - loss: 0.4774 - acc: 0.817 - ETA: 4:10 - loss: 0.4773 - acc: 0.817 - ETA: 4:10 - loss: 0.4768 - acc: 0.817 - ETA: 4:09 - loss: 0.4771 - acc: 0.817 - ETA: 4:09 - loss: 0.4769 - acc: 0.817 - ETA: 4:08 - loss: 0.4766 - acc: 0.817 - ETA: 4:08 - loss: 0.4763 - acc: 0.817 - ETA: 4:07 - loss: 0.4758 - acc: 0.818 - ETA: 4:07 - loss: 0.4755 - acc: 0.818 - ETA: 4:06 - loss: 0.4752 - acc: 0.818 - ETA: 4:06 - loss: 0.4752 - acc: 0.818 - ETA: 4:06 - loss: 0.4749 - acc: 0.818 - ETA: 4:05 - loss: 0.4745 - acc: 0.818 - ETA: 4:05 - loss: 0.4744 - acc: 0.818 - ETA: 4:04 - loss: 0.4740 - acc: 0.819 - ETA: 4:04 - loss: 0.4736 - acc: 0.819 - ETA: 4:03 - loss: 0.4735 - acc: 0.819 - ETA: 4:03 - loss: 0.4730 - acc: 0.819 - ETA: 4:02 - loss: 0.4724 - acc: 0.819 - ETA: 4:02 - loss: 0.4722 - acc: 0.819 - ETA: 4:02 - loss: 0.4718 - acc: 0.820 - ETA: 4:01 - loss: 0.4714 - acc: 0.820 - ETA: 4:01 - loss: 0.4708 - acc: 0.820 - ETA: 4:00 - loss: 0.4707 - acc: 0.820 - ETA: 4:00 - loss: 0.4704 - acc: 0.820 - ETA: 3:59 - loss: 0.4703 - acc: 0.820 - ETA: 3:59 - loss: 0.4699 - acc: 0.820 - ETA: 3:58 - loss: 0.4697 - acc: 0.820 - ETA: 3:58 - loss: 0.4693 - acc: 0.820 - ETA: 3:58 - loss: 0.4691 - acc: 0.820 - ETA: 3:57 - loss: 0.4687 - acc: 0.821 - ETA: 3:57 - loss: 0.4681 - acc: 0.821 - ETA: 3:56 - loss: 0.4677 - acc: 0.821 - ETA: 3:56 - loss: 0.4673 - acc: 0.821 - ETA: 3:55 - loss: 0.4669 - acc: 0.821 - ETA: 3:55 - loss: 0.4667 - acc: 0.821 - ETA: 3:54 - loss: 0.4663 - acc: 0.821 - ETA: 3:54 - loss: 0.4659 - acc: 0.822 - ETA: 3:54 - loss: 0.4658 - acc: 0.822 - ETA: 3:53 - loss: 0.4655 - acc: 0.822 - ETA: 3:53 - loss: 0.4650 - acc: 0.822 - ETA: 3:52 - loss: 0.4646 - acc: 0.822 - ETA: 3:52 - loss: 0.4646 - acc: 0.822 - ETA: 3:51 - loss: 0.4642 - acc: 0.823 - ETA: 3:51 - loss: 0.4638 - acc: 0.823 - ETA: 3:50 - loss: 0.4634 - acc: 0.823 - ETA: 3:50 - loss: 0.4633 - acc: 0.823 - ETA: 3:49 - loss: 0.4628 - acc: 0.823 - ETA: 3:49 - loss: 0.4623 - acc: 0.823 - ETA: 3:49 - loss: 0.4619 - acc: 0.824 - ETA: 3:48 - loss: 0.4617 - acc: 0.824 - ETA: 3:48 - loss: 0.4613 - acc: 0.824 - ETA: 3:47 - loss: 0.4611 - acc: 0.824 - ETA: 3:47 - loss: 0.4606 - acc: 0.824 - ETA: 3:46 - loss: 0.4604 - acc: 0.824 - ETA: 3:46 - loss: 0.4600 - acc: 0.824 - ETA: 3:45 - loss: 0.4598 - acc: 0.824 - ETA: 3:45 - loss: 0.4594 - acc: 0.825 - ETA: 3:45 - loss: 0.4591 - acc: 0.825 - ETA: 3:44 - loss: 0.4587 - acc: 0.825 - ETA: 3:44 - loss: 0.4586 - acc: 0.825 - ETA: 3:43 - loss: 0.4587 - acc: 0.825 - ETA: 3:43 - loss: 0.4582 - acc: 0.825 - ETA: 3:42 - loss: 0.4581 - acc: 0.825 - ETA: 3:42 - loss: 0.4581 - acc: 0.825 - ETA: 3:42 - loss: 0.4579 - acc: 0.825 - ETA: 3:41 - loss: 0.4577 - acc: 0.826 - ETA: 3:41 - loss: 0.4576 - acc: 0.826 - ETA: 3:40 - loss: 0.4572 - acc: 0.826 - ETA: 3:40 - loss: 0.4569 - acc: 0.826 - ETA: 3:39 - loss: 0.4565 - acc: 0.826 - ETA: 3:39 - loss: 0.4564 - acc: 0.826 - ETA: 3:39 - loss: 0.4560 - acc: 0.826 - ETA: 3:38 - loss: 0.4555 - acc: 0.826 - ETA: 3:38 - loss: 0.4550 - acc: 0.827 - ETA: 3:37 - loss: 0.4547 - acc: 0.827 - ETA: 3:37 - loss: 0.4546 - acc: 0.827 - ETA: 3:36 - loss: 0.4545 - acc: 0.827 - ETA: 3:36 - loss: 0.4543 - acc: 0.827 - ETA: 3:35 - loss: 0.4540 - acc: 0.827 - ETA: 3:35 - loss: 0.4538 - acc: 0.827 - ETA: 3:35 - loss: 0.4538 - acc: 0.827 - ETA: 3:34 - loss: 0.4538 - acc: 0.827 - ETA: 3:34 - loss: 0.4536 - acc: 0.827 - ETA: 3:33 - loss: 0.4532 - acc: 0.827 - ETA: 3:33 - loss: 0.4529 - acc: 0.827 - ETA: 3:32 - loss: 0.4526 - acc: 0.828 - ETA: 3:32 - loss: 0.4523 - acc: 0.828 - ETA: 3:31 - loss: 0.4521 - acc: 0.828 - ETA: 3:31 - loss: 0.4522 - acc: 0.828 - ETA: 3:30 - loss: 0.4519 - acc: 0.828 - ETA: 3:30 - loss: 0.4517 - acc: 0.828 - ETA: 3:30 - loss: 0.4514 - acc: 0.828 - ETA: 3:29 - loss: 0.4512 - acc: 0.828 - ETA: 3:29 - loss: 0.4508 - acc: 0.829 - ETA: 3:28 - loss: 0.4505 - acc: 0.829 - ETA: 3:28 - loss: 0.4502 - acc: 0.829 - ETA: 3:27 - loss: 0.4499 - acc: 0.829 - ETA: 3:27 - loss: 0.4499 - acc: 0.829 - ETA: 3:26 - loss: 0.4496 - acc: 0.829 - ETA: 3:26 - loss: 0.4491 - acc: 0.829 - ETA: 3:26 - loss: 0.4488 - acc: 0.829 - ETA: 3:25 - loss: 0.4485 - acc: 0.829 - ETA: 3:25 - loss: 0.4480 - acc: 0.829 - ETA: 3:24 - loss: 0.4478 - acc: 0.830 - ETA: 3:24 - loss: 0.4475 - acc: 0.830 - ETA: 3:23 - loss: 0.4470 - acc: 0.830 - ETA: 3:23 - loss: 0.4467 - acc: 0.830 - ETA: 3:22 - loss: 0.4468 - acc: 0.830 - ETA: 3:22 - loss: 0.4465 - acc: 0.830 - ETA: 3:22 - loss: 0.4461 - acc: 0.830 - ETA: 3:21 - loss: 0.4457 - acc: 0.830 - ETA: 3:21 - loss: 0.4453 - acc: 0.831 - ETA: 3:20 - loss: 0.4450 - acc: 0.831 - ETA: 3:20 - loss: 0.4449 - acc: 0.831 - ETA: 3:19 - loss: 0.4445 - acc: 0.831 - ETA: 3:19 - loss: 0.4441 - acc: 0.831 - ETA: 3:19 - loss: 0.4438 - acc: 0.831 - ETA: 3:18 - loss: 0.4435 - acc: 0.832 - ETA: 3:18 - loss: 0.4435 - acc: 0.832 - ETA: 3:17 - loss: 0.4434 - acc: 0.832 - ETA: 3:17 - loss: 0.4430 - acc: 0.832 - ETA: 3:16 - loss: 0.4427 - acc: 0.832 - ETA: 3:16 - loss: 0.4423 - acc: 0.832 - ETA: 3:15 - loss: 0.4419 - acc: 0.832 - ETA: 3:15 - loss: 0.4415 - acc: 0.832 - ETA: 3:14 - loss: 0.4414 - acc: 0.832 - ETA: 3:14 - loss: 0.4411 - acc: 0.832 - ETA: 3:14 - loss: 0.4409 - acc: 0.832 - ETA: 3:13 - loss: 0.4406 - acc: 0.833 - ETA: 3:13 - loss: 0.4402 - acc: 0.833 - ETA: 3:12 - loss: 0.4401 - acc: 0.833 - ETA: 3:12 - loss: 0.4399 - acc: 0.833 - ETA: 3:11 - loss: 0.4397 - acc: 0.833 - ETA: 3:11 - loss: 0.4394 - acc: 0.833 - ETA: 3:10 - loss: 0.4392 - acc: 0.833 - ETA: 3:10 - loss: 0.4389 - acc: 0.833 - ETA: 3:09 - loss: 0.4388 - acc: 0.833 - ETA: 3:09 - loss: 0.4384 - acc: 0.833 - ETA: 3:09 - loss: 0.4380 - acc: 0.834 - ETA: 3:08 - loss: 0.4378 - acc: 0.834 - ETA: 3:08 - loss: 0.4374 - acc: 0.834 - ETA: 3:07 - loss: 0.4371 - acc: 0.834 - ETA: 3:07 - loss: 0.4369 - acc: 0.834 - ETA: 3:06 - loss: 0.4367 - acc: 0.834 - ETA: 3:06 - loss: 0.4365 - acc: 0.834 - ETA: 3:05 - loss: 0.4364 - acc: 0.834 - ETA: 3:05 - loss: 0.4363 - acc: 0.834 - ETA: 3:04 - loss: 0.4359 - acc: 0.834 - ETA: 3:04 - loss: 0.4355 - acc: 0.835 - ETA: 3:03 - loss: 0.4352 - acc: 0.835 - ETA: 3:03 - loss: 0.4352 - acc: 0.835 - ETA: 3:03 - loss: 0.4349 - acc: 0.835 - ETA: 3:02 - loss: 0.4346 - acc: 0.835 - ETA: 3:02 - loss: 0.4347 - acc: 0.8355"
     ]
    },
    {
     "name": "stdout",
     "output_type": "stream",
     "text": [
      "32640/39116 [========================>.....] - ETA: 3:01 - loss: 0.4344 - acc: 0.835 - ETA: 3:01 - loss: 0.4342 - acc: 0.835 - ETA: 3:00 - loss: 0.4340 - acc: 0.835 - ETA: 3:00 - loss: 0.4336 - acc: 0.836 - ETA: 2:59 - loss: 0.4333 - acc: 0.836 - ETA: 2:59 - loss: 0.4333 - acc: 0.836 - ETA: 2:59 - loss: 0.4331 - acc: 0.836 - ETA: 2:58 - loss: 0.4329 - acc: 0.836 - ETA: 2:58 - loss: 0.4328 - acc: 0.836 - ETA: 2:57 - loss: 0.4324 - acc: 0.836 - ETA: 2:57 - loss: 0.4320 - acc: 0.836 - ETA: 2:56 - loss: 0.4319 - acc: 0.836 - ETA: 2:56 - loss: 0.4315 - acc: 0.836 - ETA: 2:56 - loss: 0.4313 - acc: 0.836 - ETA: 2:55 - loss: 0.4311 - acc: 0.836 - ETA: 2:55 - loss: 0.4308 - acc: 0.837 - ETA: 2:54 - loss: 0.4307 - acc: 0.837 - ETA: 2:54 - loss: 0.4305 - acc: 0.837 - ETA: 2:53 - loss: 0.4303 - acc: 0.837 - ETA: 2:53 - loss: 0.4299 - acc: 0.837 - ETA: 2:53 - loss: 0.4299 - acc: 0.837 - ETA: 2:52 - loss: 0.4296 - acc: 0.837 - ETA: 2:52 - loss: 0.4291 - acc: 0.837 - ETA: 2:51 - loss: 0.4290 - acc: 0.837 - ETA: 2:51 - loss: 0.4288 - acc: 0.837 - ETA: 2:50 - loss: 0.4285 - acc: 0.838 - ETA: 2:50 - loss: 0.4280 - acc: 0.838 - ETA: 2:50 - loss: 0.4280 - acc: 0.838 - ETA: 2:49 - loss: 0.4277 - acc: 0.838 - ETA: 2:49 - loss: 0.4274 - acc: 0.838 - ETA: 2:48 - loss: 0.4271 - acc: 0.838 - ETA: 2:48 - loss: 0.4267 - acc: 0.838 - ETA: 2:47 - loss: 0.4266 - acc: 0.838 - ETA: 2:47 - loss: 0.4263 - acc: 0.838 - ETA: 2:47 - loss: 0.4262 - acc: 0.838 - ETA: 2:46 - loss: 0.4257 - acc: 0.839 - ETA: 2:46 - loss: 0.4254 - acc: 0.839 - ETA: 2:45 - loss: 0.4252 - acc: 0.839 - ETA: 2:45 - loss: 0.4249 - acc: 0.839 - ETA: 2:44 - loss: 0.4246 - acc: 0.839 - ETA: 2:44 - loss: 0.4243 - acc: 0.839 - ETA: 2:44 - loss: 0.4240 - acc: 0.839 - ETA: 2:43 - loss: 0.4237 - acc: 0.839 - ETA: 2:43 - loss: 0.4236 - acc: 0.839 - ETA: 2:42 - loss: 0.4233 - acc: 0.840 - ETA: 2:42 - loss: 0.4233 - acc: 0.840 - ETA: 2:41 - loss: 0.4230 - acc: 0.840 - ETA: 2:41 - loss: 0.4229 - acc: 0.840 - ETA: 2:41 - loss: 0.4227 - acc: 0.840 - ETA: 2:40 - loss: 0.4225 - acc: 0.840 - ETA: 2:40 - loss: 0.4223 - acc: 0.840 - ETA: 2:39 - loss: 0.4221 - acc: 0.840 - ETA: 2:39 - loss: 0.4219 - acc: 0.840 - ETA: 2:38 - loss: 0.4217 - acc: 0.840 - ETA: 2:38 - loss: 0.4214 - acc: 0.840 - ETA: 2:37 - loss: 0.4214 - acc: 0.840 - ETA: 2:37 - loss: 0.4212 - acc: 0.840 - ETA: 2:37 - loss: 0.4209 - acc: 0.841 - ETA: 2:36 - loss: 0.4208 - acc: 0.841 - ETA: 2:36 - loss: 0.4209 - acc: 0.841 - ETA: 2:35 - loss: 0.4206 - acc: 0.841 - ETA: 2:35 - loss: 0.4204 - acc: 0.841 - ETA: 2:34 - loss: 0.4202 - acc: 0.841 - ETA: 2:34 - loss: 0.4200 - acc: 0.841 - ETA: 2:34 - loss: 0.4198 - acc: 0.841 - ETA: 2:33 - loss: 0.4196 - acc: 0.841 - ETA: 2:33 - loss: 0.4192 - acc: 0.841 - ETA: 2:32 - loss: 0.4189 - acc: 0.841 - ETA: 2:32 - loss: 0.4187 - acc: 0.841 - ETA: 2:31 - loss: 0.4184 - acc: 0.842 - ETA: 2:31 - loss: 0.4181 - acc: 0.842 - ETA: 2:30 - loss: 0.4180 - acc: 0.842 - ETA: 2:30 - loss: 0.4176 - acc: 0.842 - ETA: 2:29 - loss: 0.4175 - acc: 0.842 - ETA: 2:29 - loss: 0.4172 - acc: 0.842 - ETA: 2:29 - loss: 0.4168 - acc: 0.842 - ETA: 2:28 - loss: 0.4165 - acc: 0.842 - ETA: 2:28 - loss: 0.4163 - acc: 0.842 - ETA: 2:27 - loss: 0.4164 - acc: 0.842 - ETA: 2:27 - loss: 0.4161 - acc: 0.843 - ETA: 2:26 - loss: 0.4158 - acc: 0.843 - ETA: 2:26 - loss: 0.4157 - acc: 0.843 - ETA: 2:25 - loss: 0.4157 - acc: 0.843 - ETA: 2:25 - loss: 0.4153 - acc: 0.843 - ETA: 2:24 - loss: 0.4150 - acc: 0.843 - ETA: 2:24 - loss: 0.4150 - acc: 0.843 - ETA: 2:24 - loss: 0.4148 - acc: 0.843 - ETA: 2:23 - loss: 0.4147 - acc: 0.843 - ETA: 2:23 - loss: 0.4144 - acc: 0.843 - ETA: 2:22 - loss: 0.4141 - acc: 0.843 - ETA: 2:22 - loss: 0.4138 - acc: 0.844 - ETA: 2:21 - loss: 0.4136 - acc: 0.844 - ETA: 2:21 - loss: 0.4133 - acc: 0.844 - ETA: 2:20 - loss: 0.4131 - acc: 0.844 - ETA: 2:20 - loss: 0.4129 - acc: 0.844 - ETA: 2:20 - loss: 0.4126 - acc: 0.844 - ETA: 2:19 - loss: 0.4122 - acc: 0.844 - ETA: 2:19 - loss: 0.4120 - acc: 0.844 - ETA: 2:18 - loss: 0.4120 - acc: 0.844 - ETA: 2:18 - loss: 0.4118 - acc: 0.844 - ETA: 2:17 - loss: 0.4116 - acc: 0.844 - ETA: 2:17 - loss: 0.4113 - acc: 0.845 - ETA: 2:16 - loss: 0.4110 - acc: 0.845 - ETA: 2:16 - loss: 0.4109 - acc: 0.845 - ETA: 2:16 - loss: 0.4107 - acc: 0.845 - ETA: 2:15 - loss: 0.4107 - acc: 0.845 - ETA: 2:15 - loss: 0.4105 - acc: 0.845 - ETA: 2:14 - loss: 0.4104 - acc: 0.845 - ETA: 2:14 - loss: 0.4106 - acc: 0.845 - ETA: 2:13 - loss: 0.4105 - acc: 0.845 - ETA: 2:13 - loss: 0.4101 - acc: 0.845 - ETA: 2:12 - loss: 0.4098 - acc: 0.845 - ETA: 2:12 - loss: 0.4097 - acc: 0.845 - ETA: 2:12 - loss: 0.4093 - acc: 0.845 - ETA: 2:11 - loss: 0.4092 - acc: 0.845 - ETA: 2:11 - loss: 0.4090 - acc: 0.846 - ETA: 2:10 - loss: 0.4090 - acc: 0.846 - ETA: 2:10 - loss: 0.4087 - acc: 0.846 - ETA: 2:09 - loss: 0.4085 - acc: 0.846 - ETA: 2:09 - loss: 0.4083 - acc: 0.846 - ETA: 2:08 - loss: 0.4080 - acc: 0.846 - ETA: 2:08 - loss: 0.4078 - acc: 0.846 - ETA: 2:08 - loss: 0.4078 - acc: 0.846 - ETA: 2:07 - loss: 0.4077 - acc: 0.846 - ETA: 2:07 - loss: 0.4074 - acc: 0.846 - ETA: 2:06 - loss: 0.4071 - acc: 0.846 - ETA: 2:06 - loss: 0.4070 - acc: 0.846 - ETA: 2:05 - loss: 0.4067 - acc: 0.846 - ETA: 2:05 - loss: 0.4064 - acc: 0.847 - ETA: 2:04 - loss: 0.4061 - acc: 0.847 - ETA: 2:04 - loss: 0.4058 - acc: 0.847 - ETA: 2:03 - loss: 0.4056 - acc: 0.847 - ETA: 2:03 - loss: 0.4052 - acc: 0.847 - ETA: 2:03 - loss: 0.4053 - acc: 0.847 - ETA: 2:02 - loss: 0.4050 - acc: 0.847 - ETA: 2:02 - loss: 0.4049 - acc: 0.847 - ETA: 2:01 - loss: 0.4047 - acc: 0.847 - ETA: 2:01 - loss: 0.4044 - acc: 0.847 - ETA: 2:00 - loss: 0.4042 - acc: 0.847 - ETA: 2:00 - loss: 0.4039 - acc: 0.848 - ETA: 1:59 - loss: 0.4037 - acc: 0.848 - ETA: 1:59 - loss: 0.4035 - acc: 0.848 - ETA: 1:59 - loss: 0.4033 - acc: 0.848 - ETA: 1:58 - loss: 0.4030 - acc: 0.848 - ETA: 1:58 - loss: 0.4028 - acc: 0.848 - ETA: 1:57 - loss: 0.4026 - acc: 0.848 - ETA: 1:57 - loss: 0.4023 - acc: 0.848 - ETA: 1:56 - loss: 0.4021 - acc: 0.848 - ETA: 1:56 - loss: 0.4023 - acc: 0.848 - ETA: 1:55 - loss: 0.4021 - acc: 0.848 - ETA: 1:55 - loss: 0.4018 - acc: 0.849 - ETA: 1:54 - loss: 0.4014 - acc: 0.849 - ETA: 1:54 - loss: 0.4012 - acc: 0.849 - ETA: 1:54 - loss: 0.4012 - acc: 0.849 - ETA: 1:53 - loss: 0.4010 - acc: 0.849 - ETA: 1:53 - loss: 0.4007 - acc: 0.849 - ETA: 1:52 - loss: 0.4005 - acc: 0.849 - ETA: 1:52 - loss: 0.4004 - acc: 0.849 - ETA: 1:51 - loss: 0.4001 - acc: 0.849 - ETA: 1:51 - loss: 0.4001 - acc: 0.849 - ETA: 1:50 - loss: 0.4000 - acc: 0.849 - ETA: 1:50 - loss: 0.3998 - acc: 0.850 - ETA: 1:49 - loss: 0.3996 - acc: 0.850 - ETA: 1:49 - loss: 0.3992 - acc: 0.850 - ETA: 1:49 - loss: 0.3990 - acc: 0.850 - ETA: 1:48 - loss: 0.3989 - acc: 0.850 - ETA: 1:48 - loss: 0.3986 - acc: 0.850 - ETA: 1:47 - loss: 0.3984 - acc: 0.850 - ETA: 1:47 - loss: 0.3981 - acc: 0.850 - ETA: 1:46 - loss: 0.3978 - acc: 0.850 - ETA: 1:46 - loss: 0.3976 - acc: 0.850 - ETA: 1:45 - loss: 0.3975 - acc: 0.851 - ETA: 1:45 - loss: 0.3975 - acc: 0.851 - ETA: 1:45 - loss: 0.3973 - acc: 0.851 - ETA: 1:44 - loss: 0.3971 - acc: 0.851 - ETA: 1:44 - loss: 0.3968 - acc: 0.851 - ETA: 1:43 - loss: 0.3966 - acc: 0.851 - ETA: 1:43 - loss: 0.3964 - acc: 0.851 - ETA: 1:42 - loss: 0.3962 - acc: 0.851 - ETA: 1:42 - loss: 0.3960 - acc: 0.851 - ETA: 1:41 - loss: 0.3957 - acc: 0.851 - ETA: 1:41 - loss: 0.3955 - acc: 0.851 - ETA: 1:40 - loss: 0.3955 - acc: 0.851 - ETA: 1:40 - loss: 0.3952 - acc: 0.851 - ETA: 1:40 - loss: 0.3952 - acc: 0.851 - ETA: 1:39 - loss: 0.3951 - acc: 0.851 - ETA: 1:39 - loss: 0.3949 - acc: 0.852 - ETA: 1:38 - loss: 0.3948 - acc: 0.852 - ETA: 1:38 - loss: 0.3945 - acc: 0.852 - ETA: 1:37 - loss: 0.3943 - acc: 0.852 - ETA: 1:37 - loss: 0.3942 - acc: 0.852 - ETA: 1:36 - loss: 0.3941 - acc: 0.852 - ETA: 1:36 - loss: 0.3938 - acc: 0.852 - ETA: 1:35 - loss: 0.3937 - acc: 0.852 - ETA: 1:35 - loss: 0.3935 - acc: 0.852 - ETA: 1:35 - loss: 0.3933 - acc: 0.852 - ETA: 1:34 - loss: 0.3932 - acc: 0.852 - ETA: 1:34 - loss: 0.3934 - acc: 0.852 - ETA: 1:33 - loss: 0.3934 - acc: 0.852 - ETA: 1:33 - loss: 0.3931 - acc: 0.852 - ETA: 1:32 - loss: 0.3929 - acc: 0.852 - ETA: 1:32 - loss: 0.3929 - acc: 0.852 - ETA: 1:31 - loss: 0.3927 - acc: 0.853 - ETA: 1:31 - loss: 0.3925 - acc: 0.8531"
     ]
    },
    {
     "name": "stdout",
     "output_type": "stream",
     "text": [
      "39116/39116 [==============================] - ETA: 1:30 - loss: 0.3925 - acc: 0.853 - ETA: 1:30 - loss: 0.3924 - acc: 0.853 - ETA: 1:30 - loss: 0.3922 - acc: 0.853 - ETA: 1:29 - loss: 0.3919 - acc: 0.853 - ETA: 1:29 - loss: 0.3917 - acc: 0.853 - ETA: 1:28 - loss: 0.3915 - acc: 0.853 - ETA: 1:28 - loss: 0.3913 - acc: 0.853 - ETA: 1:27 - loss: 0.3911 - acc: 0.853 - ETA: 1:27 - loss: 0.3909 - acc: 0.853 - ETA: 1:26 - loss: 0.3908 - acc: 0.853 - ETA: 1:26 - loss: 0.3905 - acc: 0.854 - ETA: 1:26 - loss: 0.3903 - acc: 0.854 - ETA: 1:25 - loss: 0.3901 - acc: 0.854 - ETA: 1:25 - loss: 0.3899 - acc: 0.854 - ETA: 1:24 - loss: 0.3896 - acc: 0.854 - ETA: 1:24 - loss: 0.3893 - acc: 0.854 - ETA: 1:23 - loss: 0.3891 - acc: 0.854 - ETA: 1:23 - loss: 0.3889 - acc: 0.854 - ETA: 1:22 - loss: 0.3887 - acc: 0.854 - ETA: 1:22 - loss: 0.3884 - acc: 0.855 - ETA: 1:21 - loss: 0.3882 - acc: 0.855 - ETA: 1:21 - loss: 0.3882 - acc: 0.855 - ETA: 1:21 - loss: 0.3880 - acc: 0.855 - ETA: 1:20 - loss: 0.3879 - acc: 0.855 - ETA: 1:20 - loss: 0.3876 - acc: 0.855 - ETA: 1:19 - loss: 0.3875 - acc: 0.855 - ETA: 1:19 - loss: 0.3873 - acc: 0.855 - ETA: 1:18 - loss: 0.3870 - acc: 0.855 - ETA: 1:18 - loss: 0.3868 - acc: 0.855 - ETA: 1:17 - loss: 0.3867 - acc: 0.855 - ETA: 1:17 - loss: 0.3864 - acc: 0.855 - ETA: 1:17 - loss: 0.3862 - acc: 0.856 - ETA: 1:16 - loss: 0.3863 - acc: 0.855 - ETA: 1:16 - loss: 0.3862 - acc: 0.856 - ETA: 1:15 - loss: 0.3861 - acc: 0.856 - ETA: 1:15 - loss: 0.3859 - acc: 0.856 - ETA: 1:14 - loss: 0.3857 - acc: 0.856 - ETA: 1:14 - loss: 0.3854 - acc: 0.856 - ETA: 1:13 - loss: 0.3853 - acc: 0.856 - ETA: 1:13 - loss: 0.3851 - acc: 0.856 - ETA: 1:12 - loss: 0.3848 - acc: 0.856 - ETA: 1:12 - loss: 0.3846 - acc: 0.856 - ETA: 1:12 - loss: 0.3843 - acc: 0.856 - ETA: 1:11 - loss: 0.3845 - acc: 0.856 - ETA: 1:11 - loss: 0.3844 - acc: 0.856 - ETA: 1:10 - loss: 0.3842 - acc: 0.856 - ETA: 1:10 - loss: 0.3841 - acc: 0.857 - ETA: 1:09 - loss: 0.3840 - acc: 0.857 - ETA: 1:09 - loss: 0.3838 - acc: 0.857 - ETA: 1:08 - loss: 0.3836 - acc: 0.857 - ETA: 1:08 - loss: 0.3834 - acc: 0.857 - ETA: 1:07 - loss: 0.3830 - acc: 0.857 - ETA: 1:07 - loss: 0.3830 - acc: 0.857 - ETA: 1:07 - loss: 0.3828 - acc: 0.857 - ETA: 1:06 - loss: 0.3826 - acc: 0.857 - ETA: 1:06 - loss: 0.3824 - acc: 0.857 - ETA: 1:05 - loss: 0.3821 - acc: 0.857 - ETA: 1:05 - loss: 0.3819 - acc: 0.857 - ETA: 1:04 - loss: 0.3818 - acc: 0.857 - ETA: 1:04 - loss: 0.3816 - acc: 0.857 - ETA: 1:03 - loss: 0.3814 - acc: 0.857 - ETA: 1:03 - loss: 0.3813 - acc: 0.858 - ETA: 1:03 - loss: 0.3812 - acc: 0.858 - ETA: 1:02 - loss: 0.3810 - acc: 0.858 - ETA: 1:02 - loss: 0.3809 - acc: 0.858 - ETA: 1:01 - loss: 0.3807 - acc: 0.858 - ETA: 1:01 - loss: 0.3805 - acc: 0.858 - ETA: 1:00 - loss: 0.3802 - acc: 0.858 - ETA: 1:00 - loss: 0.3800 - acc: 0.858 - ETA: 59s - loss: 0.3797 - acc: 0.858 - ETA: 59s - loss: 0.3796 - acc: 0.85 - ETA: 58s - loss: 0.3793 - acc: 0.85 - ETA: 58s - loss: 0.3791 - acc: 0.85 - ETA: 58s - loss: 0.3791 - acc: 0.85 - ETA: 57s - loss: 0.3790 - acc: 0.85 - ETA: 57s - loss: 0.3787 - acc: 0.85 - ETA: 56s - loss: 0.3784 - acc: 0.85 - ETA: 56s - loss: 0.3781 - acc: 0.85 - ETA: 55s - loss: 0.3779 - acc: 0.85 - ETA: 55s - loss: 0.3776 - acc: 0.85 - ETA: 54s - loss: 0.3775 - acc: 0.85 - ETA: 54s - loss: 0.3772 - acc: 0.85 - ETA: 53s - loss: 0.3770 - acc: 0.85 - ETA: 53s - loss: 0.3768 - acc: 0.85 - ETA: 53s - loss: 0.3768 - acc: 0.85 - ETA: 52s - loss: 0.3767 - acc: 0.86 - ETA: 52s - loss: 0.3765 - acc: 0.86 - ETA: 51s - loss: 0.3766 - acc: 0.86 - ETA: 51s - loss: 0.3763 - acc: 0.86 - ETA: 50s - loss: 0.3761 - acc: 0.86 - ETA: 50s - loss: 0.3759 - acc: 0.86 - ETA: 49s - loss: 0.3761 - acc: 0.86 - ETA: 49s - loss: 0.3758 - acc: 0.86 - ETA: 48s - loss: 0.3756 - acc: 0.86 - ETA: 48s - loss: 0.3754 - acc: 0.86 - ETA: 48s - loss: 0.3752 - acc: 0.86 - ETA: 47s - loss: 0.3749 - acc: 0.86 - ETA: 47s - loss: 0.3748 - acc: 0.86 - ETA: 46s - loss: 0.3745 - acc: 0.86 - ETA: 46s - loss: 0.3742 - acc: 0.86 - ETA: 45s - loss: 0.3741 - acc: 0.86 - ETA: 45s - loss: 0.3739 - acc: 0.86 - ETA: 44s - loss: 0.3738 - acc: 0.86 - ETA: 44s - loss: 0.3736 - acc: 0.86 - ETA: 43s - loss: 0.3734 - acc: 0.86 - ETA: 43s - loss: 0.3732 - acc: 0.86 - ETA: 43s - loss: 0.3730 - acc: 0.86 - ETA: 42s - loss: 0.3728 - acc: 0.86 - ETA: 42s - loss: 0.3727 - acc: 0.86 - ETA: 41s - loss: 0.3725 - acc: 0.86 - ETA: 41s - loss: 0.3726 - acc: 0.86 - ETA: 40s - loss: 0.3726 - acc: 0.86 - ETA: 40s - loss: 0.3723 - acc: 0.86 - ETA: 39s - loss: 0.3721 - acc: 0.86 - ETA: 39s - loss: 0.3719 - acc: 0.86 - ETA: 38s - loss: 0.3717 - acc: 0.86 - ETA: 38s - loss: 0.3717 - acc: 0.86 - ETA: 38s - loss: 0.3715 - acc: 0.86 - ETA: 37s - loss: 0.3712 - acc: 0.86 - ETA: 37s - loss: 0.3710 - acc: 0.86 - ETA: 36s - loss: 0.3709 - acc: 0.86 - ETA: 36s - loss: 0.3707 - acc: 0.86 - ETA: 35s - loss: 0.3704 - acc: 0.86 - ETA: 35s - loss: 0.3702 - acc: 0.86 - ETA: 34s - loss: 0.3700 - acc: 0.86 - ETA: 34s - loss: 0.3699 - acc: 0.86 - ETA: 34s - loss: 0.3697 - acc: 0.86 - ETA: 33s - loss: 0.3695 - acc: 0.86 - ETA: 33s - loss: 0.3692 - acc: 0.86 - ETA: 32s - loss: 0.3691 - acc: 0.86 - ETA: 32s - loss: 0.3689 - acc: 0.86 - ETA: 31s - loss: 0.3686 - acc: 0.86 - ETA: 31s - loss: 0.3686 - acc: 0.86 - ETA: 30s - loss: 0.3686 - acc: 0.86 - ETA: 30s - loss: 0.3683 - acc: 0.86 - ETA: 29s - loss: 0.3681 - acc: 0.86 - ETA: 29s - loss: 0.3681 - acc: 0.86 - ETA: 29s - loss: 0.3680 - acc: 0.86 - ETA: 28s - loss: 0.3678 - acc: 0.86 - ETA: 28s - loss: 0.3678 - acc: 0.86 - ETA: 27s - loss: 0.3675 - acc: 0.86 - ETA: 27s - loss: 0.3675 - acc: 0.86 - ETA: 26s - loss: 0.3673 - acc: 0.86 - ETA: 26s - loss: 0.3671 - acc: 0.86 - ETA: 25s - loss: 0.3669 - acc: 0.86 - ETA: 25s - loss: 0.3667 - acc: 0.86 - ETA: 24s - loss: 0.3667 - acc: 0.86 - ETA: 24s - loss: 0.3665 - acc: 0.86 - ETA: 24s - loss: 0.3667 - acc: 0.86 - ETA: 23s - loss: 0.3666 - acc: 0.86 - ETA: 23s - loss: 0.3665 - acc: 0.86 - ETA: 22s - loss: 0.3663 - acc: 0.86 - ETA: 22s - loss: 0.3662 - acc: 0.86 - ETA: 21s - loss: 0.3659 - acc: 0.86 - ETA: 21s - loss: 0.3659 - acc: 0.86 - ETA: 20s - loss: 0.3659 - acc: 0.86 - ETA: 20s - loss: 0.3658 - acc: 0.86 - ETA: 20s - loss: 0.3656 - acc: 0.86 - ETA: 19s - loss: 0.3655 - acc: 0.86 - ETA: 19s - loss: 0.3652 - acc: 0.86 - ETA: 18s - loss: 0.3651 - acc: 0.86 - ETA: 18s - loss: 0.3648 - acc: 0.86 - ETA: 17s - loss: 0.3647 - acc: 0.86 - ETA: 17s - loss: 0.3644 - acc: 0.86 - ETA: 16s - loss: 0.3642 - acc: 0.86 - ETA: 16s - loss: 0.3640 - acc: 0.86 - ETA: 15s - loss: 0.3640 - acc: 0.86 - ETA: 15s - loss: 0.3639 - acc: 0.86 - ETA: 15s - loss: 0.3638 - acc: 0.86 - ETA: 14s - loss: 0.3636 - acc: 0.86 - ETA: 14s - loss: 0.3635 - acc: 0.86 - ETA: 13s - loss: 0.3632 - acc: 0.86 - ETA: 13s - loss: 0.3631 - acc: 0.86 - ETA: 12s - loss: 0.3629 - acc: 0.86 - ETA: 12s - loss: 0.3627 - acc: 0.86 - ETA: 11s - loss: 0.3626 - acc: 0.86 - ETA: 11s - loss: 0.3624 - acc: 0.86 - ETA: 10s - loss: 0.3625 - acc: 0.86 - ETA: 10s - loss: 0.3623 - acc: 0.86 - ETA: 10s - loss: 0.3621 - acc: 0.86 - ETA: 9s - loss: 0.3620 - acc: 0.8663 - ETA: 9s - loss: 0.3619 - acc: 0.866 - ETA: 8s - loss: 0.3619 - acc: 0.866 - ETA: 8s - loss: 0.3617 - acc: 0.866 - ETA: 7s - loss: 0.3616 - acc: 0.866 - ETA: 7s - loss: 0.3615 - acc: 0.866 - ETA: 6s - loss: 0.3614 - acc: 0.866 - ETA: 6s - loss: 0.3612 - acc: 0.866 - ETA: 6s - loss: 0.3610 - acc: 0.866 - ETA: 5s - loss: 0.3608 - acc: 0.866 - ETA: 5s - loss: 0.3607 - acc: 0.866 - ETA: 4s - loss: 0.3607 - acc: 0.866 - ETA: 4s - loss: 0.3605 - acc: 0.867 - ETA: 3s - loss: 0.3603 - acc: 0.867 - ETA: 3s - loss: 0.3601 - acc: 0.867 - ETA: 2s - loss: 0.3601 - acc: 0.867 - ETA: 2s - loss: 0.3600 - acc: 0.867 - ETA: 1s - loss: 0.3600 - acc: 0.867 - ETA: 1s - loss: 0.3599 - acc: 0.867 - ETA: 1s - loss: 0.3598 - acc: 0.867 - ETA: 0s - loss: 0.3596 - acc: 0.867 - ETA: 0s - loss: 0.3595 - acc: 0.867 - 601s 15ms/step - loss: 0.3595 - acc: 0.8673 - val_loss: 0.1429 - val_acc: 0.9559\n"
     ]
    },
    {
     "data": {
      "text/plain": [
       "<keras.callbacks.History at 0x2c0720f29b0>"
      ]
     },
     "execution_count": 12,
     "metadata": {},
     "output_type": "execute_result"
    }
   ],
   "source": [
    "# Training the model\n",
    "\n",
    "model.fit(X_train, y_train, epochs=1, validation_data=(X_test, y_test))"
   ]
  },
  {
   "cell_type": "code",
   "execution_count": 13,
   "metadata": {},
   "outputs": [],
   "source": [
    "# Importing Test Dataset labels (images)\n",
    "\n",
    "path = \"C:/Users/andre/OneDrive/Ambiente de Trabalho/Deeper Systems/test.rotfaces/test\"\n",
    "test_labes = [f for f in listdir(path) if isfile(join(path, f))]"
   ]
  },
  {
   "cell_type": "code",
   "execution_count": 14,
   "metadata": {},
   "outputs": [],
   "source": [
    "test_labes = pd.DataFrame(test_labes)"
   ]
  },
  {
   "cell_type": "code",
   "execution_count": 15,
   "metadata": {
    "scrolled": true
   },
   "outputs": [],
   "source": [
    "test_labes.columns = ['fn']"
   ]
  },
  {
   "cell_type": "code",
   "execution_count": 16,
   "metadata": {},
   "outputs": [],
   "source": [
    "name_test = test_labes"
   ]
  },
  {
   "cell_type": "code",
   "execution_count": 20,
   "metadata": {
    "scrolled": true
   },
   "outputs": [
    {
     "name": "stderr",
     "output_type": "stream",
     "text": [
      "100%|█████████████████████████████████████████████████████████████████████████████| 5361/5361 [00:06<00:00, 767.50it/s]\n"
     ]
    }
   ],
   "source": [
    "# Importing Test Dataset (images)\n",
    "\n",
    "test_image = []\n",
    "for i in tqdm(range(test_labes.shape[0])):\n",
    "    img = image.load_img('C:/Users/andre/OneDrive/Ambiente de Trabalho/Deeper Systems/test.rotfaces/test/'+test_labes['fn'][i], target_size=(64,64,1), grayscale=True)\n",
    "    img = image.img_to_array(img)\n",
    "    img = img/255\n",
    "    test_image.append(img)\n",
    "test = np.array(test_image)"
   ]
  },
  {
   "cell_type": "code",
   "execution_count": 21,
   "metadata": {},
   "outputs": [],
   "source": [
    "# making predictions\n",
    "\n",
    "prediction = model.predict_classes(test)"
   ]
  },
  {
   "cell_type": "code",
   "execution_count": 22,
   "metadata": {},
   "outputs": [],
   "source": [
    "# Function inverse_modify, to change labels from numbers to strings\n",
    "\n",
    "def inverse_modify(label):\n",
    "    if label == 0:\n",
    "        label = 'rotated_left'\n",
    "    elif label == 1:\n",
    "        label = 'rotated_right'\n",
    "    elif label == 2:\n",
    "        label = 'upside_down'\n",
    "    elif label == 3:\n",
    "        label = 'upright'\n",
    "    return label"
   ]
  },
  {
   "cell_type": "code",
   "execution_count": 23,
   "metadata": {},
   "outputs": [],
   "source": [
    "f_inverse_modify = np.vectorize(inverse_modify)"
   ]
  },
  {
   "cell_type": "code",
   "execution_count": 24,
   "metadata": {},
   "outputs": [],
   "source": [
    "y_test2 = f_inverse_modify(prediction)"
   ]
  },
  {
   "cell_type": "code",
   "execution_count": 26,
   "metadata": {},
   "outputs": [],
   "source": [
    "# Converting a numpy.array to a pandas.dataframe\n",
    "\n",
    "y_test3 = pd.DataFrame(y_test2)"
   ]
  },
  {
   "cell_type": "code",
   "execution_count": 27,
   "metadata": {
    "scrolled": true
   },
   "outputs": [],
   "source": [
    "y_test3.columns = ['label']"
   ]
  },
  {
   "cell_type": "code",
   "execution_count": 28,
   "metadata": {
    "scrolled": true
   },
   "outputs": [],
   "source": [
    "name_test2 = name_test.insert(1, \"label\", y_test3)"
   ]
  },
  {
   "cell_type": "code",
   "execution_count": 30,
   "metadata": {
    "scrolled": true
   },
   "outputs": [
    {
     "data": {
      "text/html": [
       "<div>\n",
       "<style scoped>\n",
       "    .dataframe tbody tr th:only-of-type {\n",
       "        vertical-align: middle;\n",
       "    }\n",
       "\n",
       "    .dataframe tbody tr th {\n",
       "        vertical-align: top;\n",
       "    }\n",
       "\n",
       "    .dataframe thead th {\n",
       "        text-align: right;\n",
       "    }\n",
       "</style>\n",
       "<table border=\"1\" class=\"dataframe\">\n",
       "  <thead>\n",
       "    <tr style=\"text-align: right;\">\n",
       "      <th></th>\n",
       "      <th>fn</th>\n",
       "      <th>label</th>\n",
       "    </tr>\n",
       "  </thead>\n",
       "  <tbody>\n",
       "    <tr>\n",
       "      <th>0</th>\n",
       "      <td>90-10184590_1979-06-16_2006.jpg</td>\n",
       "      <td>rotated_left</td>\n",
       "    </tr>\n",
       "    <tr>\n",
       "      <th>1</th>\n",
       "      <td>90-1019890_1931-08-10_1978.jpg</td>\n",
       "      <td>upright</td>\n",
       "    </tr>\n",
       "    <tr>\n",
       "      <th>2</th>\n",
       "      <td>90-10241990_1984-11-28_2007.jpg</td>\n",
       "      <td>rotated_right</td>\n",
       "    </tr>\n",
       "    <tr>\n",
       "      <th>3</th>\n",
       "      <td>90-102690_1966-09-09_2011.jpg</td>\n",
       "      <td>rotated_right</td>\n",
       "    </tr>\n",
       "    <tr>\n",
       "      <th>4</th>\n",
       "      <td>90-10303590_1983-01-26_2010.jpg</td>\n",
       "      <td>rotated_right</td>\n",
       "    </tr>\n",
       "    <tr>\n",
       "      <th>5</th>\n",
       "      <td>90-10311690_1947-04-14_1940.jpg</td>\n",
       "      <td>rotated_right</td>\n",
       "    </tr>\n",
       "    <tr>\n",
       "      <th>6</th>\n",
       "      <td>90-10504790_1986-07-14_2014.jpg</td>\n",
       "      <td>rotated_left</td>\n",
       "    </tr>\n",
       "    <tr>\n",
       "      <th>7</th>\n",
       "      <td>90-10506490_1966-03-23_2012.jpg</td>\n",
       "      <td>rotated_left</td>\n",
       "    </tr>\n",
       "    <tr>\n",
       "      <th>8</th>\n",
       "      <td>90-10520890_1968-11-15_2011.jpg</td>\n",
       "      <td>upside_down</td>\n",
       "    </tr>\n",
       "    <tr>\n",
       "      <th>9</th>\n",
       "      <td>90-1060790_1925-06-20_1953.jpg</td>\n",
       "      <td>upright</td>\n",
       "    </tr>\n",
       "    <tr>\n",
       "      <th>10</th>\n",
       "      <td>90-10704590_1977-06-16_2007.jpg</td>\n",
       "      <td>rotated_left</td>\n",
       "    </tr>\n",
       "    <tr>\n",
       "      <th>11</th>\n",
       "      <td>90-10840090_1903-06-26_1944.jpg</td>\n",
       "      <td>upright</td>\n",
       "    </tr>\n",
       "    <tr>\n",
       "      <th>12</th>\n",
       "      <td>90-1084490_1987-07-31_2013.jpg</td>\n",
       "      <td>upright</td>\n",
       "    </tr>\n",
       "    <tr>\n",
       "      <th>13</th>\n",
       "      <td>90-1095190_1957-09-04_2012.jpg</td>\n",
       "      <td>upright</td>\n",
       "    </tr>\n",
       "    <tr>\n",
       "      <th>14</th>\n",
       "      <td>90-10988990_1984-11-05_2009.jpg</td>\n",
       "      <td>upside_down</td>\n",
       "    </tr>\n",
       "    <tr>\n",
       "      <th>15</th>\n",
       "      <td>90-1102790_1981-01-16_2002.jpg</td>\n",
       "      <td>upside_down</td>\n",
       "    </tr>\n",
       "    <tr>\n",
       "      <th>16</th>\n",
       "      <td>90-11068090_1964-05-19_2007.jpg</td>\n",
       "      <td>upright</td>\n",
       "    </tr>\n",
       "    <tr>\n",
       "      <th>17</th>\n",
       "      <td>90-11166990_1909-06-13_1940.jpg</td>\n",
       "      <td>upside_down</td>\n",
       "    </tr>\n",
       "    <tr>\n",
       "      <th>18</th>\n",
       "      <td>90-11173690_1985-05-22_2011.jpg</td>\n",
       "      <td>rotated_right</td>\n",
       "    </tr>\n",
       "    <tr>\n",
       "      <th>19</th>\n",
       "      <td>90-1123490_1976-10-25_2006.jpg</td>\n",
       "      <td>rotated_left</td>\n",
       "    </tr>\n",
       "    <tr>\n",
       "      <th>20</th>\n",
       "      <td>90-11258490_1952-02-17_1972.jpg</td>\n",
       "      <td>rotated_right</td>\n",
       "    </tr>\n",
       "    <tr>\n",
       "      <th>21</th>\n",
       "      <td>90-1126590_1982-03-25_2015.jpg</td>\n",
       "      <td>upright</td>\n",
       "    </tr>\n",
       "    <tr>\n",
       "      <th>22</th>\n",
       "      <td>90-11275490_1979-05-07_2009.jpg</td>\n",
       "      <td>upright</td>\n",
       "    </tr>\n",
       "    <tr>\n",
       "      <th>23</th>\n",
       "      <td>90-11409190_1982-02-25_2010.jpg</td>\n",
       "      <td>upside_down</td>\n",
       "    </tr>\n",
       "    <tr>\n",
       "      <th>24</th>\n",
       "      <td>90-11422290_1960-05-10_1960.jpg</td>\n",
       "      <td>upright</td>\n",
       "    </tr>\n",
       "    <tr>\n",
       "      <th>25</th>\n",
       "      <td>90-11481790_1959-10-23_2014.jpg</td>\n",
       "      <td>rotated_left</td>\n",
       "    </tr>\n",
       "    <tr>\n",
       "      <th>26</th>\n",
       "      <td>90-11499190_1966-06-30_2011.jpg</td>\n",
       "      <td>upside_down</td>\n",
       "    </tr>\n",
       "    <tr>\n",
       "      <th>27</th>\n",
       "      <td>90-11652990_1989-04-26_2008.jpg</td>\n",
       "      <td>rotated_right</td>\n",
       "    </tr>\n",
       "    <tr>\n",
       "      <th>28</th>\n",
       "      <td>90-11750090_1944-02-25_2011.jpg</td>\n",
       "      <td>rotated_right</td>\n",
       "    </tr>\n",
       "    <tr>\n",
       "      <th>29</th>\n",
       "      <td>90-1179390_1973-08-08_2008.jpg</td>\n",
       "      <td>rotated_right</td>\n",
       "    </tr>\n",
       "    <tr>\n",
       "      <th>...</th>\n",
       "      <td>...</td>\n",
       "      <td>...</td>\n",
       "    </tr>\n",
       "    <tr>\n",
       "      <th>5331</th>\n",
       "      <td>99-774599_1933-08-17_1956.jpg</td>\n",
       "      <td>rotated_left</td>\n",
       "    </tr>\n",
       "    <tr>\n",
       "      <th>5332</th>\n",
       "      <td>99-780999_1975-06-05_2009.jpg</td>\n",
       "      <td>upside_down</td>\n",
       "    </tr>\n",
       "    <tr>\n",
       "      <th>5333</th>\n",
       "      <td>99-7910899_1981-09-20_2008.jpg</td>\n",
       "      <td>rotated_left</td>\n",
       "    </tr>\n",
       "    <tr>\n",
       "      <th>5334</th>\n",
       "      <td>99-8099_1969-01-14_2011.jpg</td>\n",
       "      <td>rotated_right</td>\n",
       "    </tr>\n",
       "    <tr>\n",
       "      <th>5335</th>\n",
       "      <td>99-8157399_1984-01-21_2011.jpg</td>\n",
       "      <td>upright</td>\n",
       "    </tr>\n",
       "    <tr>\n",
       "      <th>5336</th>\n",
       "      <td>99-8183599_1985-02-13_2015.jpg</td>\n",
       "      <td>rotated_right</td>\n",
       "    </tr>\n",
       "    <tr>\n",
       "      <th>5337</th>\n",
       "      <td>99-8389199_1890-07-20_1956.jpg</td>\n",
       "      <td>upside_down</td>\n",
       "    </tr>\n",
       "    <tr>\n",
       "      <th>5338</th>\n",
       "      <td>99-8409499_1982-03-05_2007.jpg</td>\n",
       "      <td>rotated_left</td>\n",
       "    </tr>\n",
       "    <tr>\n",
       "      <th>5339</th>\n",
       "      <td>99-8419699_1973-07-02_2014.jpg</td>\n",
       "      <td>upside_down</td>\n",
       "    </tr>\n",
       "    <tr>\n",
       "      <th>5340</th>\n",
       "      <td>99-8425799_1959-04-11_2011.jpg</td>\n",
       "      <td>rotated_right</td>\n",
       "    </tr>\n",
       "    <tr>\n",
       "      <th>5341</th>\n",
       "      <td>99-8440399_1983-03-15_2012.jpg</td>\n",
       "      <td>upright</td>\n",
       "    </tr>\n",
       "    <tr>\n",
       "      <th>5342</th>\n",
       "      <td>99-8551399_1972-02-25_2008.jpg</td>\n",
       "      <td>upright</td>\n",
       "    </tr>\n",
       "    <tr>\n",
       "      <th>5343</th>\n",
       "      <td>99-860999_1964-12-11_2002.jpg</td>\n",
       "      <td>upside_down</td>\n",
       "    </tr>\n",
       "    <tr>\n",
       "      <th>5344</th>\n",
       "      <td>99-880099_1948-07-16_2014.jpg</td>\n",
       "      <td>rotated_left</td>\n",
       "    </tr>\n",
       "    <tr>\n",
       "      <th>5345</th>\n",
       "      <td>99-884499_1915-01-24_1971.jpg</td>\n",
       "      <td>rotated_left</td>\n",
       "    </tr>\n",
       "    <tr>\n",
       "      <th>5346</th>\n",
       "      <td>99-9178399_1983-06-28_2008.jpg</td>\n",
       "      <td>upside_down</td>\n",
       "    </tr>\n",
       "    <tr>\n",
       "      <th>5347</th>\n",
       "      <td>99-923299_1966-12-24_2011.jpg</td>\n",
       "      <td>rotated_right</td>\n",
       "    </tr>\n",
       "    <tr>\n",
       "      <th>5348</th>\n",
       "      <td>99-9282599_1981-05-05_2013.jpg</td>\n",
       "      <td>rotated_right</td>\n",
       "    </tr>\n",
       "    <tr>\n",
       "      <th>5349</th>\n",
       "      <td>99-934599_1974-11-26_2009.jpg</td>\n",
       "      <td>rotated_left</td>\n",
       "    </tr>\n",
       "    <tr>\n",
       "      <th>5350</th>\n",
       "      <td>99-938499_1947-11-01_2014.jpg</td>\n",
       "      <td>rotated_right</td>\n",
       "    </tr>\n",
       "    <tr>\n",
       "      <th>5351</th>\n",
       "      <td>99-9545499_1912-10-22_1967.jpg</td>\n",
       "      <td>upside_down</td>\n",
       "    </tr>\n",
       "    <tr>\n",
       "      <th>5352</th>\n",
       "      <td>99-9557299_1985-03-15_2012.jpg</td>\n",
       "      <td>rotated_right</td>\n",
       "    </tr>\n",
       "    <tr>\n",
       "      <th>5353</th>\n",
       "      <td>99-9598699_1901-05-21_1980.jpg</td>\n",
       "      <td>upside_down</td>\n",
       "    </tr>\n",
       "    <tr>\n",
       "      <th>5354</th>\n",
       "      <td>99-9611799_1955-03-22_2012.jpg</td>\n",
       "      <td>rotated_left</td>\n",
       "    </tr>\n",
       "    <tr>\n",
       "      <th>5355</th>\n",
       "      <td>99-961599_1950-01-12_2009.jpg</td>\n",
       "      <td>upside_down</td>\n",
       "    </tr>\n",
       "    <tr>\n",
       "      <th>5356</th>\n",
       "      <td>99-9799_1960-06-22_2012.jpg</td>\n",
       "      <td>rotated_left</td>\n",
       "    </tr>\n",
       "    <tr>\n",
       "      <th>5357</th>\n",
       "      <td>99-9811999_1953-06-14_2004.jpg</td>\n",
       "      <td>upright</td>\n",
       "    </tr>\n",
       "    <tr>\n",
       "      <th>5358</th>\n",
       "      <td>99-981199_1954-12-30_2006.jpg</td>\n",
       "      <td>rotated_left</td>\n",
       "    </tr>\n",
       "    <tr>\n",
       "      <th>5359</th>\n",
       "      <td>99-9863599_1948-08-13_1963.jpg</td>\n",
       "      <td>upside_down</td>\n",
       "    </tr>\n",
       "    <tr>\n",
       "      <th>5360</th>\n",
       "      <td>99-995799_1978-01-27_2011.jpg</td>\n",
       "      <td>upright</td>\n",
       "    </tr>\n",
       "  </tbody>\n",
       "</table>\n",
       "<p>5361 rows × 2 columns</p>\n",
       "</div>"
      ],
      "text/plain": [
       "                                   fn          label\n",
       "0     90-10184590_1979-06-16_2006.jpg   rotated_left\n",
       "1      90-1019890_1931-08-10_1978.jpg        upright\n",
       "2     90-10241990_1984-11-28_2007.jpg  rotated_right\n",
       "3       90-102690_1966-09-09_2011.jpg  rotated_right\n",
       "4     90-10303590_1983-01-26_2010.jpg  rotated_right\n",
       "5     90-10311690_1947-04-14_1940.jpg  rotated_right\n",
       "6     90-10504790_1986-07-14_2014.jpg   rotated_left\n",
       "7     90-10506490_1966-03-23_2012.jpg   rotated_left\n",
       "8     90-10520890_1968-11-15_2011.jpg    upside_down\n",
       "9      90-1060790_1925-06-20_1953.jpg        upright\n",
       "10    90-10704590_1977-06-16_2007.jpg   rotated_left\n",
       "11    90-10840090_1903-06-26_1944.jpg        upright\n",
       "12     90-1084490_1987-07-31_2013.jpg        upright\n",
       "13     90-1095190_1957-09-04_2012.jpg        upright\n",
       "14    90-10988990_1984-11-05_2009.jpg    upside_down\n",
       "15     90-1102790_1981-01-16_2002.jpg    upside_down\n",
       "16    90-11068090_1964-05-19_2007.jpg        upright\n",
       "17    90-11166990_1909-06-13_1940.jpg    upside_down\n",
       "18    90-11173690_1985-05-22_2011.jpg  rotated_right\n",
       "19     90-1123490_1976-10-25_2006.jpg   rotated_left\n",
       "20    90-11258490_1952-02-17_1972.jpg  rotated_right\n",
       "21     90-1126590_1982-03-25_2015.jpg        upright\n",
       "22    90-11275490_1979-05-07_2009.jpg        upright\n",
       "23    90-11409190_1982-02-25_2010.jpg    upside_down\n",
       "24    90-11422290_1960-05-10_1960.jpg        upright\n",
       "25    90-11481790_1959-10-23_2014.jpg   rotated_left\n",
       "26    90-11499190_1966-06-30_2011.jpg    upside_down\n",
       "27    90-11652990_1989-04-26_2008.jpg  rotated_right\n",
       "28    90-11750090_1944-02-25_2011.jpg  rotated_right\n",
       "29     90-1179390_1973-08-08_2008.jpg  rotated_right\n",
       "...                               ...            ...\n",
       "5331    99-774599_1933-08-17_1956.jpg   rotated_left\n",
       "5332    99-780999_1975-06-05_2009.jpg    upside_down\n",
       "5333   99-7910899_1981-09-20_2008.jpg   rotated_left\n",
       "5334      99-8099_1969-01-14_2011.jpg  rotated_right\n",
       "5335   99-8157399_1984-01-21_2011.jpg        upright\n",
       "5336   99-8183599_1985-02-13_2015.jpg  rotated_right\n",
       "5337   99-8389199_1890-07-20_1956.jpg    upside_down\n",
       "5338   99-8409499_1982-03-05_2007.jpg   rotated_left\n",
       "5339   99-8419699_1973-07-02_2014.jpg    upside_down\n",
       "5340   99-8425799_1959-04-11_2011.jpg  rotated_right\n",
       "5341   99-8440399_1983-03-15_2012.jpg        upright\n",
       "5342   99-8551399_1972-02-25_2008.jpg        upright\n",
       "5343    99-860999_1964-12-11_2002.jpg    upside_down\n",
       "5344    99-880099_1948-07-16_2014.jpg   rotated_left\n",
       "5345    99-884499_1915-01-24_1971.jpg   rotated_left\n",
       "5346   99-9178399_1983-06-28_2008.jpg    upside_down\n",
       "5347    99-923299_1966-12-24_2011.jpg  rotated_right\n",
       "5348   99-9282599_1981-05-05_2013.jpg  rotated_right\n",
       "5349    99-934599_1974-11-26_2009.jpg   rotated_left\n",
       "5350    99-938499_1947-11-01_2014.jpg  rotated_right\n",
       "5351   99-9545499_1912-10-22_1967.jpg    upside_down\n",
       "5352   99-9557299_1985-03-15_2012.jpg  rotated_right\n",
       "5353   99-9598699_1901-05-21_1980.jpg    upside_down\n",
       "5354   99-9611799_1955-03-22_2012.jpg   rotated_left\n",
       "5355    99-961599_1950-01-12_2009.jpg    upside_down\n",
       "5356      99-9799_1960-06-22_2012.jpg   rotated_left\n",
       "5357   99-9811999_1953-06-14_2004.jpg        upright\n",
       "5358    99-981199_1954-12-30_2006.jpg   rotated_left\n",
       "5359   99-9863599_1948-08-13_1963.jpg    upside_down\n",
       "5360    99-995799_1978-01-27_2011.jpg        upright\n",
       "\n",
       "[5361 rows x 2 columns]"
      ]
     },
     "execution_count": 30,
     "metadata": {},
     "output_type": "execute_result"
    }
   ],
   "source": [
    "# Predictions: Images names and Labels\n",
    "\n",
    "name_test"
   ]
  },
  {
   "cell_type": "code",
   "execution_count": null,
   "metadata": {},
   "outputs": [],
   "source": [
    "test_preds = name_test"
   ]
  },
  {
   "cell_type": "code",
   "execution_count": null,
   "metadata": {},
   "outputs": [],
   "source": [
    "# Exporting to Excel\n",
    "\n",
    "test_preds.to_excel(\"test_preds.xlsx\")"
   ]
  }
 ],
 "metadata": {
  "kernelspec": {
   "display_name": "Python 3",
   "language": "python",
   "name": "python3"
  },
  "language_info": {
   "codemirror_mode": {
    "name": "ipython",
    "version": 3
   },
   "file_extension": ".py",
   "mimetype": "text/x-python",
   "name": "python",
   "nbconvert_exporter": "python",
   "pygments_lexer": "ipython3",
   "version": "3.7.3"
  }
 },
 "nbformat": 4,
 "nbformat_minor": 2
}
